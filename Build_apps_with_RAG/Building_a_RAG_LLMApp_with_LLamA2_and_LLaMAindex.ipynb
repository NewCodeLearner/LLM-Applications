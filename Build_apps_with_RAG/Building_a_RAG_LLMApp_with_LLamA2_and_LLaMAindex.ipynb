{
 "cells": [
  {
   "cell_type": "markdown",
   "metadata": {},
   "source": [
    "In this Chapter, we will be creating an advanced RAG LLM app with Meta Llama2 and Llamaindex. We will be using Huggingface API for using the LLama2 model."
   ]
  }
 ],
 "metadata": {
  "language_info": {
   "name": "python"
  }
 },
 "nbformat": 4,
 "nbformat_minor": 2
}
