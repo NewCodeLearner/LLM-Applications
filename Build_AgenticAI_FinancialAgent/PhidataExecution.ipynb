{
 "cells": [
  {
   "cell_type": "markdown",
   "metadata": {},
   "source": [
    "This  notebook contains the screenshot of Phidata UI and Locally triggered playground app which was integrated in Playground.py"
   ]
  },
  {
   "cell_type": "markdown",
   "metadata": {},
   "source": [
    "App Run locally \n",
    "Localhost:7777"
   ]
  },
  {
   "cell_type": "markdown",
   "metadata": {},
   "source": [
    "![alt text](image.png)"
   ]
  },
  {
   "cell_type": "markdown",
   "metadata": {},
   "source": [
    "Lets check this endpoint in Phidata Platform\n",
    "\n",
    "https://www.phidata.app/playground/chat   Select endpoint on this screen from dropdown.\n",
    "\n",
    "Now you can ask questions directly to the agent using chatbox. "
   ]
  },
  {
   "cell_type": "markdown",
   "metadata": {},
   "source": [
    "![alt text](image-1.png)"
   ]
  },
  {
   "cell_type": "markdown",
   "metadata": {},
   "source": [
    "![alt text](image-2.png)"
   ]
  },
  {
   "cell_type": "markdown",
   "metadata": {},
   "source": [
    "Lets ask comparison between TSLA and NVIDIA"
   ]
  },
  {
   "cell_type": "markdown",
   "metadata": {},
   "source": [
    "![alt text](image-3.png)"
   ]
  }
 ],
 "metadata": {
  "language_info": {
   "name": "python"
  }
 },
 "nbformat": 4,
 "nbformat_minor": 2
}
