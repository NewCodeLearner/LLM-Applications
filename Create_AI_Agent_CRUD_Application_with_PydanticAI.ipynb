{
  "nbformat": 4,
  "nbformat_minor": 0,
  "metadata": {
    "colab": {
      "provenance": [],
      "gpuType": "T4",
      "authorship_tag": "ABX9TyPxPv5xBRL/j46u4cIWr6je",
      "include_colab_link": true
    },
    "kernelspec": {
      "name": "python3",
      "display_name": "Python 3"
    },
    "language_info": {
      "name": "python"
    },
    "accelerator": "GPU"
  },
  "cells": [
    {
      "cell_type": "markdown",
      "metadata": {
        "id": "view-in-github",
        "colab_type": "text"
      },
      "source": [
        "<a href=\"https://colab.research.google.com/github/NewCodeLearner/LLM-Applications/blob/main/Create_AI_Agent_CRUD_Application_with_PydanticAI.ipynb\" target=\"_parent\"><img src=\"https://colab.research.google.com/assets/colab-badge.svg\" alt=\"Open In Colab\"/></a>"
      ]
    },
    {
      "cell_type": "markdown",
      "source": [
        "# Chapter 1: PydanticAI"
      ],
      "metadata": {
        "id": "A_ubxB0vUc9g"
      }
    },
    {
      "cell_type": "markdown",
      "source": [
        "Before you get started - check for the python version that you are on. PydanticAI requires python time 3.9+\n",
        "\n",
        "python --version\n"
      ],
      "metadata": {
        "id": "V0L-U6oNaT1K"
      }
    },
    {
      "cell_type": "code",
      "execution_count": 1,
      "metadata": {
        "colab": {
          "base_uri": "https://localhost:8080/"
        },
        "id": "d0bs2iw-Otw3",
        "outputId": "9935c460-c98e-4052-96a6-001a790141be"
      },
      "outputs": [
        {
          "output_type": "stream",
          "name": "stdout",
          "text": [
            "Python 3.10.12\n"
          ]
        }
      ],
      "source": [
        "!python --version"
      ]
    },
    {
      "cell_type": "markdown",
      "source": [
        "Install PydanticAI"
      ],
      "metadata": {
        "id": "iZCOt62radrr"
      }
    },
    {
      "cell_type": "code",
      "source": [
        "!pip install pydantic-ai"
      ],
      "metadata": {
        "colab": {
          "base_uri": "https://localhost:8080/",
          "height": 1000
        },
        "id": "jlEXf0BnU43b",
        "outputId": "5a26ef64-8ab8-48ef-9084-cdb4f9fc03ed"
      },
      "execution_count": 2,
      "outputs": [
        {
          "output_type": "stream",
          "name": "stdout",
          "text": [
            "Collecting pydantic-ai\n",
            "  Downloading pydantic_ai-0.0.17-py3-none-any.whl.metadata (11 kB)\n",
            "Collecting pydantic-ai-slim==0.0.17 (from pydantic-ai-slim[anthropic,groq,mistral,openai,vertexai]==0.0.17->pydantic-ai)\n",
            "  Downloading pydantic_ai_slim-0.0.17-py3-none-any.whl.metadata (2.7 kB)\n",
            "Requirement already satisfied: eval-type-backport>=0.2.0 in /usr/local/lib/python3.10/dist-packages (from pydantic-ai-slim==0.0.17->pydantic-ai-slim[anthropic,groq,mistral,openai,vertexai]==0.0.17->pydantic-ai) (0.2.0)\n",
            "Collecting griffe>=1.3.2 (from pydantic-ai-slim==0.0.17->pydantic-ai-slim[anthropic,groq,mistral,openai,vertexai]==0.0.17->pydantic-ai)\n",
            "  Downloading griffe-1.5.4-py3-none-any.whl.metadata (5.0 kB)\n",
            "Requirement already satisfied: httpx>=0.27.2 in /usr/local/lib/python3.10/dist-packages (from pydantic-ai-slim==0.0.17->pydantic-ai-slim[anthropic,groq,mistral,openai,vertexai]==0.0.17->pydantic-ai) (0.28.1)\n",
            "Collecting logfire-api>=1.2.0 (from pydantic-ai-slim==0.0.17->pydantic-ai-slim[anthropic,groq,mistral,openai,vertexai]==0.0.17->pydantic-ai)\n",
            "  Downloading logfire_api-3.0.0-py3-none-any.whl.metadata (971 bytes)\n",
            "Requirement already satisfied: pydantic>=2.10 in /usr/local/lib/python3.10/dist-packages (from pydantic-ai-slim==0.0.17->pydantic-ai-slim[anthropic,groq,mistral,openai,vertexai]==0.0.17->pydantic-ai) (2.10.3)\n",
            "Collecting google-auth>=2.36.0 (from pydantic-ai-slim[anthropic,groq,mistral,openai,vertexai]==0.0.17->pydantic-ai)\n",
            "  Downloading google_auth-2.37.0-py2.py3-none-any.whl.metadata (4.8 kB)\n",
            "Requirement already satisfied: requests>=2.32.3 in /usr/local/lib/python3.10/dist-packages (from pydantic-ai-slim[anthropic,groq,mistral,openai,vertexai]==0.0.17->pydantic-ai) (2.32.3)\n",
            "Collecting groq>=0.12.0 (from pydantic-ai-slim[anthropic,groq,mistral,openai,vertexai]==0.0.17->pydantic-ai)\n",
            "  Downloading groq-0.13.1-py3-none-any.whl.metadata (14 kB)\n",
            "Collecting anthropic>=0.40.0 (from pydantic-ai-slim[anthropic,groq,mistral,openai,vertexai]==0.0.17->pydantic-ai)\n",
            "  Downloading anthropic-0.42.0-py3-none-any.whl.metadata (23 kB)\n",
            "Requirement already satisfied: openai>=1.54.3 in /usr/local/lib/python3.10/dist-packages (from pydantic-ai-slim[anthropic,groq,mistral,openai,vertexai]==0.0.17->pydantic-ai) (1.57.4)\n",
            "Collecting mistralai>=1.2.5 (from pydantic-ai-slim[anthropic,groq,mistral,openai,vertexai]==0.0.17->pydantic-ai)\n",
            "  Downloading mistralai-1.2.6-py3-none-any.whl.metadata (28 kB)\n",
            "Requirement already satisfied: anyio<5,>=3.5.0 in /usr/local/lib/python3.10/dist-packages (from anthropic>=0.40.0->pydantic-ai-slim[anthropic,groq,mistral,openai,vertexai]==0.0.17->pydantic-ai) (3.7.1)\n",
            "Requirement already satisfied: distro<2,>=1.7.0 in /usr/local/lib/python3.10/dist-packages (from anthropic>=0.40.0->pydantic-ai-slim[anthropic,groq,mistral,openai,vertexai]==0.0.17->pydantic-ai) (1.9.0)\n",
            "Requirement already satisfied: jiter<1,>=0.4.0 in /usr/local/lib/python3.10/dist-packages (from anthropic>=0.40.0->pydantic-ai-slim[anthropic,groq,mistral,openai,vertexai]==0.0.17->pydantic-ai) (0.8.2)\n",
            "Requirement already satisfied: sniffio in /usr/local/lib/python3.10/dist-packages (from anthropic>=0.40.0->pydantic-ai-slim[anthropic,groq,mistral,openai,vertexai]==0.0.17->pydantic-ai) (1.3.1)\n",
            "Requirement already satisfied: typing-extensions<5,>=4.10 in /usr/local/lib/python3.10/dist-packages (from anthropic>=0.40.0->pydantic-ai-slim[anthropic,groq,mistral,openai,vertexai]==0.0.17->pydantic-ai) (4.12.2)\n",
            "Requirement already satisfied: cachetools<6.0,>=2.0.0 in /usr/local/lib/python3.10/dist-packages (from google-auth>=2.36.0->pydantic-ai-slim[anthropic,groq,mistral,openai,vertexai]==0.0.17->pydantic-ai) (5.5.0)\n",
            "Requirement already satisfied: pyasn1-modules>=0.2.1 in /usr/local/lib/python3.10/dist-packages (from google-auth>=2.36.0->pydantic-ai-slim[anthropic,groq,mistral,openai,vertexai]==0.0.17->pydantic-ai) (0.4.1)\n",
            "Requirement already satisfied: rsa<5,>=3.1.4 in /usr/local/lib/python3.10/dist-packages (from google-auth>=2.36.0->pydantic-ai-slim[anthropic,groq,mistral,openai,vertexai]==0.0.17->pydantic-ai) (4.9)\n",
            "Collecting colorama>=0.4 (from griffe>=1.3.2->pydantic-ai-slim==0.0.17->pydantic-ai-slim[anthropic,groq,mistral,openai,vertexai]==0.0.17->pydantic-ai)\n",
            "  Downloading colorama-0.4.6-py2.py3-none-any.whl.metadata (17 kB)\n",
            "Requirement already satisfied: certifi in /usr/local/lib/python3.10/dist-packages (from httpx>=0.27.2->pydantic-ai-slim==0.0.17->pydantic-ai-slim[anthropic,groq,mistral,openai,vertexai]==0.0.17->pydantic-ai) (2024.12.14)\n",
            "Requirement already satisfied: httpcore==1.* in /usr/local/lib/python3.10/dist-packages (from httpx>=0.27.2->pydantic-ai-slim==0.0.17->pydantic-ai-slim[anthropic,groq,mistral,openai,vertexai]==0.0.17->pydantic-ai) (1.0.7)\n",
            "Requirement already satisfied: idna in /usr/local/lib/python3.10/dist-packages (from httpx>=0.27.2->pydantic-ai-slim==0.0.17->pydantic-ai-slim[anthropic,groq,mistral,openai,vertexai]==0.0.17->pydantic-ai) (3.10)\n",
            "Requirement already satisfied: h11<0.15,>=0.13 in /usr/local/lib/python3.10/dist-packages (from httpcore==1.*->httpx>=0.27.2->pydantic-ai-slim==0.0.17->pydantic-ai-slim[anthropic,groq,mistral,openai,vertexai]==0.0.17->pydantic-ai) (0.14.0)\n",
            "Collecting httpx>=0.27.2 (from pydantic-ai-slim==0.0.17->pydantic-ai-slim[anthropic,groq,mistral,openai,vertexai]==0.0.17->pydantic-ai)\n",
            "  Downloading httpx-0.27.2-py3-none-any.whl.metadata (7.1 kB)\n",
            "Collecting jsonpath-python<2.0.0,>=1.0.6 (from mistralai>=1.2.5->pydantic-ai-slim[anthropic,groq,mistral,openai,vertexai]==0.0.17->pydantic-ai)\n",
            "  Downloading jsonpath_python-1.0.6-py3-none-any.whl.metadata (12 kB)\n",
            "Requirement already satisfied: python-dateutil<3.0.0,>=2.8.2 in /usr/local/lib/python3.10/dist-packages (from mistralai>=1.2.5->pydantic-ai-slim[anthropic,groq,mistral,openai,vertexai]==0.0.17->pydantic-ai) (2.8.2)\n",
            "Collecting typing-inspect<0.10.0,>=0.9.0 (from mistralai>=1.2.5->pydantic-ai-slim[anthropic,groq,mistral,openai,vertexai]==0.0.17->pydantic-ai)\n",
            "  Downloading typing_inspect-0.9.0-py3-none-any.whl.metadata (1.5 kB)\n",
            "Requirement already satisfied: tqdm>4 in /usr/local/lib/python3.10/dist-packages (from openai>=1.54.3->pydantic-ai-slim[anthropic,groq,mistral,openai,vertexai]==0.0.17->pydantic-ai) (4.67.1)\n",
            "Requirement already satisfied: annotated-types>=0.6.0 in /usr/local/lib/python3.10/dist-packages (from pydantic>=2.10->pydantic-ai-slim==0.0.17->pydantic-ai-slim[anthropic,groq,mistral,openai,vertexai]==0.0.17->pydantic-ai) (0.7.0)\n",
            "Requirement already satisfied: pydantic-core==2.27.1 in /usr/local/lib/python3.10/dist-packages (from pydantic>=2.10->pydantic-ai-slim==0.0.17->pydantic-ai-slim[anthropic,groq,mistral,openai,vertexai]==0.0.17->pydantic-ai) (2.27.1)\n",
            "Requirement already satisfied: charset-normalizer<4,>=2 in /usr/local/lib/python3.10/dist-packages (from requests>=2.32.3->pydantic-ai-slim[anthropic,groq,mistral,openai,vertexai]==0.0.17->pydantic-ai) (3.4.0)\n",
            "Requirement already satisfied: urllib3<3,>=1.21.1 in /usr/local/lib/python3.10/dist-packages (from requests>=2.32.3->pydantic-ai-slim[anthropic,groq,mistral,openai,vertexai]==0.0.17->pydantic-ai) (2.2.3)\n",
            "Requirement already satisfied: exceptiongroup in /usr/local/lib/python3.10/dist-packages (from anyio<5,>=3.5.0->anthropic>=0.40.0->pydantic-ai-slim[anthropic,groq,mistral,openai,vertexai]==0.0.17->pydantic-ai) (1.2.2)\n",
            "Requirement already satisfied: pyasn1<0.7.0,>=0.4.6 in /usr/local/lib/python3.10/dist-packages (from pyasn1-modules>=0.2.1->google-auth>=2.36.0->pydantic-ai-slim[anthropic,groq,mistral,openai,vertexai]==0.0.17->pydantic-ai) (0.6.1)\n",
            "Requirement already satisfied: six>=1.5 in /usr/local/lib/python3.10/dist-packages (from python-dateutil<3.0.0,>=2.8.2->mistralai>=1.2.5->pydantic-ai-slim[anthropic,groq,mistral,openai,vertexai]==0.0.17->pydantic-ai) (1.17.0)\n",
            "Collecting mypy-extensions>=0.3.0 (from typing-inspect<0.10.0,>=0.9.0->mistralai>=1.2.5->pydantic-ai-slim[anthropic,groq,mistral,openai,vertexai]==0.0.17->pydantic-ai)\n",
            "  Downloading mypy_extensions-1.0.0-py3-none-any.whl.metadata (1.1 kB)\n",
            "Downloading pydantic_ai-0.0.17-py3-none-any.whl (9.7 kB)\n",
            "Downloading pydantic_ai_slim-0.0.17-py3-none-any.whl (80 kB)\n",
            "\u001b[2K   \u001b[90m━━━━━━━━━━━━━━━━━━━━━━━━━━━━━━━━━━━━━━━━\u001b[0m \u001b[32m80.6/80.6 kB\u001b[0m \u001b[31m7.1 MB/s\u001b[0m eta \u001b[36m0:00:00\u001b[0m\n",
            "\u001b[?25hDownloading anthropic-0.42.0-py3-none-any.whl (203 kB)\n",
            "\u001b[2K   \u001b[90m━━━━━━━━━━━━━━━━━━━━━━━━━━━━━━━━━━━━━━━━\u001b[0m \u001b[32m203.4/203.4 kB\u001b[0m \u001b[31m14.0 MB/s\u001b[0m eta \u001b[36m0:00:00\u001b[0m\n",
            "\u001b[?25hDownloading google_auth-2.37.0-py2.py3-none-any.whl (209 kB)\n",
            "\u001b[2K   \u001b[90m━━━━━━━━━━━━━━━━━━━━━━━━━━━━━━━━━━━━━━━━\u001b[0m \u001b[32m209.8/209.8 kB\u001b[0m \u001b[31m20.3 MB/s\u001b[0m eta \u001b[36m0:00:00\u001b[0m\n",
            "\u001b[?25hDownloading griffe-1.5.4-py3-none-any.whl (128 kB)\n",
            "\u001b[2K   \u001b[90m━━━━━━━━━━━━━━━━━━━━━━━━━━━━━━━━━━━━━━━━\u001b[0m \u001b[32m128.1/128.1 kB\u001b[0m \u001b[31m12.8 MB/s\u001b[0m eta \u001b[36m0:00:00\u001b[0m\n",
            "\u001b[?25hDownloading groq-0.13.1-py3-none-any.whl (109 kB)\n",
            "\u001b[2K   \u001b[90m━━━━━━━━━━━━━━━━━━━━━━━━━━━━━━━━━━━━━━━━\u001b[0m \u001b[32m109.1/109.1 kB\u001b[0m \u001b[31m10.7 MB/s\u001b[0m eta \u001b[36m0:00:00\u001b[0m\n",
            "\u001b[?25hDownloading logfire_api-3.0.0-py3-none-any.whl (72 kB)\n",
            "\u001b[2K   \u001b[90m━━━━━━━━━━━━━━━━━━━━━━━━━━━━━━━━━━━━━━━━\u001b[0m \u001b[32m72.8/72.8 kB\u001b[0m \u001b[31m6.7 MB/s\u001b[0m eta \u001b[36m0:00:00\u001b[0m\n",
            "\u001b[?25hDownloading mistralai-1.2.6-py3-none-any.whl (261 kB)\n",
            "\u001b[2K   \u001b[90m━━━━━━━━━━━━━━━━━━━━━━━━━━━━━━━━━━━━━━━━\u001b[0m \u001b[32m261.3/261.3 kB\u001b[0m \u001b[31m24.0 MB/s\u001b[0m eta \u001b[36m0:00:00\u001b[0m\n",
            "\u001b[?25hDownloading httpx-0.27.2-py3-none-any.whl (76 kB)\n",
            "\u001b[2K   \u001b[90m━━━━━━━━━━━━━━━━━━━━━━━━━━━━━━━━━━━━━━━━\u001b[0m \u001b[32m76.4/76.4 kB\u001b[0m \u001b[31m7.6 MB/s\u001b[0m eta \u001b[36m0:00:00\u001b[0m\n",
            "\u001b[?25hDownloading colorama-0.4.6-py2.py3-none-any.whl (25 kB)\n",
            "Downloading jsonpath_python-1.0.6-py3-none-any.whl (7.6 kB)\n",
            "Downloading typing_inspect-0.9.0-py3-none-any.whl (8.8 kB)\n",
            "Downloading mypy_extensions-1.0.0-py3-none-any.whl (4.7 kB)\n",
            "Installing collected packages: mypy-extensions, logfire-api, jsonpath-python, colorama, typing-inspect, httpx, griffe, google-auth, pydantic-ai-slim, mistralai, groq, anthropic, pydantic-ai\n",
            "  Attempting uninstall: httpx\n",
            "    Found existing installation: httpx 0.28.1\n",
            "    Uninstalling httpx-0.28.1:\n",
            "      Successfully uninstalled httpx-0.28.1\n",
            "  Attempting uninstall: google-auth\n",
            "    Found existing installation: google-auth 2.27.0\n",
            "    Uninstalling google-auth-2.27.0:\n",
            "      Successfully uninstalled google-auth-2.27.0\n",
            "\u001b[31mERROR: pip's dependency resolver does not currently take into account all the packages that are installed. This behaviour is the source of the following dependency conflicts.\n",
            "google-colab 1.0.0 requires google-auth==2.27.0, but you have google-auth 2.37.0 which is incompatible.\u001b[0m\u001b[31m\n",
            "\u001b[0mSuccessfully installed anthropic-0.42.0 colorama-0.4.6 google-auth-2.37.0 griffe-1.5.4 groq-0.13.1 httpx-0.27.2 jsonpath-python-1.0.6 logfire-api-3.0.0 mistralai-1.2.6 mypy-extensions-1.0.0 pydantic-ai-0.0.17 pydantic-ai-slim-0.0.17 typing-inspect-0.9.0\n"
          ]
        },
        {
          "output_type": "display_data",
          "data": {
            "application/vnd.colab-display-data+json": {
              "pip_warning": {
                "packages": [
                  "google"
                ]
              },
              "id": "b9295655653443be95a48b678c5e9e7f"
            }
          },
          "metadata": {}
        }
      ]
    },
    {
      "cell_type": "markdown",
      "source": [
        "Pydantic AI Basics\n",
        "\n",
        "Agent class is the main class within PydanticAI, you can read more about it here - https://ai.pydantic.dev/api/agent/"
      ],
      "metadata": {
        "id": "2xt3k16WavHC"
      }
    },
    {
      "cell_type": "markdown",
      "source": [
        "Available Models at time of print:\n",
        "\n",
        "KnownModelName = Literal[\n",
        "    \"openai:gpt-4o\",\n",
        "    \"openai:gpt-4o-mini\",\n",
        "    \"openai:gpt-4-turbo\",\n",
        "    \"openai:gpt-4\",\n",
        "    \"openai:o1-preview\",\n",
        "    \"openai:o1-mini\",\n",
        "    \"openai:o1\",\n",
        "    \"openai:gpt-3.5-turbo\",\n",
        "    \"groq:llama-3.3-70b-versatile\",\n",
        "    \"groq:llama-3.1-70b-versatile\",\n",
        "    \"groq:llama3-groq-70b-8192-tool-use-preview\",\n",
        "    \"groq:llama3-groq-8b-8192-tool-use-preview\",\n",
        "    \"groq:llama-3.1-70b-specdec\",\n",
        "    \"groq:llama-3.1-8b-instant\",\n",
        "    \"groq:llama-3.2-1b-preview\",\n",
        "    \"groq:llama-3.2-3b-preview\",\n",
        "    \"groq:llama-3.2-11b-vision-preview\",\n",
        "    \"groq:llama-3.2-90b-vision-preview\",\n",
        "    \"groq:llama3-70b-8192\",\n",
        "    \"groq:llama3-8b-8192\",\n",
        "    \"groq:mixtral-8x7b-32768\",\n",
        "    \"groq:gemma2-9b-it\",\n",
        "    \"groq:gemma-7b-it\",\n",
        "    \"gemini-1.5-flash\",\n",
        "    \"gemini-1.5-pro\",\n",
        "    \"gemini-2.0-flash-exp\",\n",
        "    \"vertexai:gemini-1.5-flash\",\n",
        "    \"vertexai:gemini-1.5-pro\",\n",
        "    \"mistral:mistral-small-latest\",\n",
        "    \"mistral:mistral-large-latest\",\n",
        "    \"mistral:codestral-latest\",\n",
        "    \"mistral:mistral-moderation-latest\",\n",
        "    \"ollama:codellama\",\n",
        "    \"ollama:gemma\",\n",
        "    \"ollama:gemma2\",\n",
        "    \"ollama:llama3\",\n",
        "    \"ollama:llama3.1\",\n",
        "    \"ollama:llama3.2\",\n",
        "    \"ollama:llama3.2-vision\",\n",
        "    \"ollama:llama3.3\",\n",
        "    \"ollama:mistral\",\n",
        "    \"ollama:mistral-nemo\",\n",
        "    \"ollama:mixtral\",\n",
        "    \"ollama:phi3\",\n",
        "    \"ollama:qwq\",\n",
        "    \"ollama:qwen\",\n",
        "    \"ollama:qwen2\",\n",
        "    \"ollama:qwen2.5\",\n",
        "    \"ollama:starcoder2\",\n",
        "    \"claude-3-5-haiku-latest\",\n",
        "    \"claude-3-5-sonnet-latest\",\n",
        "    \"claude-3-opus-latest\",\n",
        "    \"test\",\n",
        "]"
      ],
      "metadata": {
        "id": "ibI5MllNa8xO"
      }
    },
    {
      "cell_type": "markdown",
      "source": [
        "We will use Groq models, so start by using the API key from google colab secret or set as an environment variable:"
      ],
      "metadata": {
        "id": "qbk8OESnbKz7"
      }
    },
    {
      "cell_type": "code",
      "source": [
        "!pip install groq"
      ],
      "metadata": {
        "colab": {
          "base_uri": "https://localhost:8080/"
        },
        "id": "whetAWZnVQJl",
        "outputId": "139be587-1e06-4edb-822b-fc672ddf44d9"
      },
      "execution_count": 4,
      "outputs": [
        {
          "output_type": "stream",
          "name": "stdout",
          "text": [
            "Requirement already satisfied: groq in /usr/local/lib/python3.10/dist-packages (0.13.1)\n",
            "Requirement already satisfied: anyio<5,>=3.5.0 in /usr/local/lib/python3.10/dist-packages (from groq) (3.7.1)\n",
            "Requirement already satisfied: distro<2,>=1.7.0 in /usr/local/lib/python3.10/dist-packages (from groq) (1.9.0)\n",
            "Requirement already satisfied: httpx<1,>=0.23.0 in /usr/local/lib/python3.10/dist-packages (from groq) (0.27.2)\n",
            "Requirement already satisfied: pydantic<3,>=1.9.0 in /usr/local/lib/python3.10/dist-packages (from groq) (2.10.3)\n",
            "Requirement already satisfied: sniffio in /usr/local/lib/python3.10/dist-packages (from groq) (1.3.1)\n",
            "Requirement already satisfied: typing-extensions<5,>=4.10 in /usr/local/lib/python3.10/dist-packages (from groq) (4.12.2)\n",
            "Requirement already satisfied: idna>=2.8 in /usr/local/lib/python3.10/dist-packages (from anyio<5,>=3.5.0->groq) (3.10)\n",
            "Requirement already satisfied: exceptiongroup in /usr/local/lib/python3.10/dist-packages (from anyio<5,>=3.5.0->groq) (1.2.2)\n",
            "Requirement already satisfied: certifi in /usr/local/lib/python3.10/dist-packages (from httpx<1,>=0.23.0->groq) (2024.12.14)\n",
            "Requirement already satisfied: httpcore==1.* in /usr/local/lib/python3.10/dist-packages (from httpx<1,>=0.23.0->groq) (1.0.7)\n",
            "Requirement already satisfied: h11<0.15,>=0.13 in /usr/local/lib/python3.10/dist-packages (from httpcore==1.*->httpx<1,>=0.23.0->groq) (0.14.0)\n",
            "Requirement already satisfied: annotated-types>=0.6.0 in /usr/local/lib/python3.10/dist-packages (from pydantic<3,>=1.9.0->groq) (0.7.0)\n",
            "Requirement already satisfied: pydantic-core==2.27.1 in /usr/local/lib/python3.10/dist-packages (from pydantic<3,>=1.9.0->groq) (2.27.1)\n"
          ]
        }
      ]
    },
    {
      "cell_type": "markdown",
      "source": [
        "Import API Key from Google Colab"
      ],
      "metadata": {
        "id": "a05mug-CbUQL"
      }
    },
    {
      "cell_type": "code",
      "source": [
        "import os\n",
        "from google.colab import userdata\n",
        "\n",
        "GROQ_API_KEY=userdata.get('GROQ_API_KEY')"
      ],
      "metadata": {
        "id": "PkCO4w1-Vjux"
      },
      "execution_count": 6,
      "outputs": []
    },
    {
      "cell_type": "code",
      "source": [
        "from pydantic_ai import Agent\n",
        "from pydantic_ai.models.groq  import GroqModel\n",
        "\n",
        "model = GroqModel('llama-3.1-70b-versatile',api_key=GROQ_API_KEY)\n",
        "agent = Agent(model)\n"
      ],
      "metadata": {
        "id": "MQimB7DgVsNT"
      },
      "execution_count": null,
      "outputs": []
    },
    {
      "cell_type": "code",
      "source": [
        "import asyncio\n",
        "async def main():\n",
        "  result = await agent.run(\"What is Bitcoin\")\n",
        "  print(result.data)\n",
        "\n",
        "await main()"
      ],
      "metadata": {
        "colab": {
          "base_uri": "https://localhost:8080/"
        },
        "id": "4rVplcCWWZuG",
        "outputId": "f47a84b2-ceda-4056-e105-5b50d02e8896"
      },
      "execution_count": 25,
      "outputs": [
        {
          "output_type": "stream",
          "name": "stdout",
          "text": [
            "**Introduction to Bitcoin**\n",
            "\n",
            "Bitcoin is a decentralized digital currency that allows for peer-to-peer transactions without the need for a central authority or intermediary. It was created in 2009 by an individual or group of individuals using the pseudonym Satoshi Nakamoto.\n",
            "\n",
            "**Key Characteristics:**\n",
            "\n",
            "1. **Decentralized**: Bitcoin operates on a decentralized network, meaning that it is not controlled by any government, institution, or individual.\n",
            "2. **Digital**: Bitcoin exists only in digital form and is not tied to any physical commodity or currency.\n",
            "3. **Limited Supply**: The total supply of Bitcoin is capped at 21 million, which helps to prevent inflation and maintain the value of each unit.\n",
            "4. **Cryptography**: Bitcoin uses advanced cryptography to secure and verify transactions on the network.\n",
            "5. **Open-Source**: The Bitcoin protocol is open-source, allowing anyone to review and contribute to the code.\n",
            "\n",
            "**How Bitcoin Works:**\n",
            "\n",
            "1. **Mining**: New Bitcoins are created through a process called mining, in which powerful computers solve complex mathematical problems to validate transactions and create new blocks.\n",
            "2. **Blockchain**: Transactions are recorded on a public ledger called the blockchain, which is maintained by a network of nodes (computers) around the world.\n",
            "3. **Wallets**: Users can store their Bitcoins in digital wallets, which can be accessed through software or hardware devices.\n",
            "4. **Transactions**: Bitcoins can be sent and received through the network, with transactions verified by nodes and recorded on the blockchain.\n",
            "\n",
            "**Advantages and Uses:**\n",
            "\n",
            "1. **Fast and Global**: Bitcoin transactions are fast and can be sent globally, without the need for intermediaries.\n",
            "2. **Low Fees**: Transaction fees are typically low, making it an attractive option for small transactions.\n",
            "3. **Security**: Bitcoin's use of cryptography and the decentralized nature of the network make it a secure form of currency.\n",
            "4. **Investment**: Bitcoin can be used as an investment vehicle, with some investors viewing it as a store of value or a hedge against inflation.\n",
            "\n",
            "**Risks and Challenges:**\n",
            "\n",
            "1. **Volatility**: The value of Bitcoin can be highly volatile, with prices fluctuating rapidly.\n",
            "2. **Regulation**: The regulatory environment for Bitcoin is still evolving and can vary by country.\n",
            "3. **Security Risks**: While the Bitcoin network is secure, individual wallets and exchanges can be vulnerable to hacking and other security risks.\n",
            "4. **Adoption**: Bitcoin's adoption as a mainstream currency is still limited, and it may not be widely accepted as a form of payment.\n",
            "\n",
            "Overall, Bitcoin is a complex and innovative digital currency that has the potential to revolutionize the way we think about money and financial transactions. However, it is essential to approach Bitcoin with caution and understand the risks and challenges associated with it.\n"
          ]
        }
      ]
    }
  ]
}