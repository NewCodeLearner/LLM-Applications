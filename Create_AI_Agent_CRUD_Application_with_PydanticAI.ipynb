{
  "nbformat": 4,
  "nbformat_minor": 0,
  "metadata": {
    "colab": {
      "provenance": [],
      "gpuType": "T4",
      "authorship_tag": "ABX9TyPQvfBPfkBAMa4HiWCJ5GY4",
      "include_colab_link": true
    },
    "kernelspec": {
      "name": "python3",
      "display_name": "Python 3"
    },
    "language_info": {
      "name": "python"
    },
    "accelerator": "GPU"
  },
  "cells": [
    {
      "cell_type": "markdown",
      "metadata": {
        "id": "view-in-github",
        "colab_type": "text"
      },
      "source": [
        "<a href=\"https://colab.research.google.com/github/NewCodeLearner/LLM-Applications/blob/main/Create_AI_Agent_CRUD_Application_with_PydanticAI.ipynb\" target=\"_parent\"><img src=\"https://colab.research.google.com/assets/colab-badge.svg\" alt=\"Open In Colab\"/></a>"
      ]
    },
    {
      "cell_type": "markdown",
      "source": [
        "# Chapter 1: PydanticAI"
      ],
      "metadata": {
        "id": "A_ubxB0vUc9g"
      }
    },
    {
      "cell_type": "markdown",
      "source": [
        "Before you get started - check for the python version that you are on. PydanticAI requires python time 3.9+\n",
        "\n",
        "python --version\n"
      ],
      "metadata": {
        "id": "V0L-U6oNaT1K"
      }
    },
    {
      "cell_type": "code",
      "execution_count": null,
      "metadata": {
        "colab": {
          "base_uri": "https://localhost:8080/"
        },
        "id": "d0bs2iw-Otw3",
        "outputId": "f1f019b8-04e5-491e-dde9-edb4a834b222"
      },
      "outputs": [
        {
          "output_type": "stream",
          "name": "stdout",
          "text": [
            "Python 3.10.12\n"
          ]
        }
      ],
      "source": [
        "!python --version"
      ]
    },
    {
      "cell_type": "markdown",
      "source": [
        "Install PydanticAI"
      ],
      "metadata": {
        "id": "iZCOt62radrr"
      }
    },
    {
      "cell_type": "code",
      "source": [
        "!pip install pydantic-ai"
      ],
      "metadata": {
        "colab": {
          "base_uri": "https://localhost:8080/",
          "height": 1000
        },
        "id": "jlEXf0BnU43b",
        "outputId": "d3834414-de2d-471a-b8dd-0a7ea1df249f"
      },
      "execution_count": null,
      "outputs": [
        {
          "output_type": "stream",
          "name": "stdout",
          "text": [
            "Collecting pydantic-ai\n",
            "  Downloading pydantic_ai-0.0.18-py3-none-any.whl.metadata (11 kB)\n",
            "Collecting pydantic-ai-slim==0.0.18 (from pydantic-ai-slim[anthropic,groq,mistral,openai,vertexai]==0.0.18->pydantic-ai)\n",
            "  Downloading pydantic_ai_slim-0.0.18-py3-none-any.whl.metadata (2.7 kB)\n",
            "Requirement already satisfied: eval-type-backport>=0.2.0 in /usr/local/lib/python3.10/dist-packages (from pydantic-ai-slim==0.0.18->pydantic-ai-slim[anthropic,groq,mistral,openai,vertexai]==0.0.18->pydantic-ai) (0.2.2)\n",
            "Collecting griffe>=1.3.2 (from pydantic-ai-slim==0.0.18->pydantic-ai-slim[anthropic,groq,mistral,openai,vertexai]==0.0.18->pydantic-ai)\n",
            "  Downloading griffe-1.5.4-py3-none-any.whl.metadata (5.0 kB)\n",
            "Requirement already satisfied: httpx>=0.27.2 in /usr/local/lib/python3.10/dist-packages (from pydantic-ai-slim==0.0.18->pydantic-ai-slim[anthropic,groq,mistral,openai,vertexai]==0.0.18->pydantic-ai) (0.28.1)\n",
            "Collecting logfire-api>=1.2.0 (from pydantic-ai-slim==0.0.18->pydantic-ai-slim[anthropic,groq,mistral,openai,vertexai]==0.0.18->pydantic-ai)\n",
            "  Downloading logfire_api-3.1.0-py3-none-any.whl.metadata (971 bytes)\n",
            "Requirement already satisfied: pydantic>=2.10 in /usr/local/lib/python3.10/dist-packages (from pydantic-ai-slim==0.0.18->pydantic-ai-slim[anthropic,groq,mistral,openai,vertexai]==0.0.18->pydantic-ai) (2.10.4)\n",
            "Collecting google-auth>=2.36.0 (from pydantic-ai-slim[anthropic,groq,mistral,openai,vertexai]==0.0.18->pydantic-ai)\n",
            "  Downloading google_auth-2.37.0-py2.py3-none-any.whl.metadata (4.8 kB)\n",
            "Requirement already satisfied: requests>=2.32.3 in /usr/local/lib/python3.10/dist-packages (from pydantic-ai-slim[anthropic,groq,mistral,openai,vertexai]==0.0.18->pydantic-ai) (2.32.3)\n",
            "Requirement already satisfied: openai>=1.54.3 in /usr/local/lib/python3.10/dist-packages (from pydantic-ai-slim[anthropic,groq,mistral,openai,vertexai]==0.0.18->pydantic-ai) (1.59.3)\n",
            "Collecting anthropic>=0.40.0 (from pydantic-ai-slim[anthropic,groq,mistral,openai,vertexai]==0.0.18->pydantic-ai)\n",
            "  Downloading anthropic-0.42.0-py3-none-any.whl.metadata (23 kB)\n",
            "Collecting mistralai>=1.2.5 (from pydantic-ai-slim[anthropic,groq,mistral,openai,vertexai]==0.0.18->pydantic-ai)\n",
            "  Downloading mistralai-1.2.6-py3-none-any.whl.metadata (28 kB)\n",
            "Collecting groq>=0.12.0 (from pydantic-ai-slim[anthropic,groq,mistral,openai,vertexai]==0.0.18->pydantic-ai)\n",
            "  Downloading groq-0.14.0-py3-none-any.whl.metadata (14 kB)\n",
            "Requirement already satisfied: anyio<5,>=3.5.0 in /usr/local/lib/python3.10/dist-packages (from anthropic>=0.40.0->pydantic-ai-slim[anthropic,groq,mistral,openai,vertexai]==0.0.18->pydantic-ai) (3.7.1)\n",
            "Requirement already satisfied: distro<2,>=1.7.0 in /usr/local/lib/python3.10/dist-packages (from anthropic>=0.40.0->pydantic-ai-slim[anthropic,groq,mistral,openai,vertexai]==0.0.18->pydantic-ai) (1.9.0)\n",
            "Requirement already satisfied: jiter<1,>=0.4.0 in /usr/local/lib/python3.10/dist-packages (from anthropic>=0.40.0->pydantic-ai-slim[anthropic,groq,mistral,openai,vertexai]==0.0.18->pydantic-ai) (0.8.2)\n",
            "Requirement already satisfied: sniffio in /usr/local/lib/python3.10/dist-packages (from anthropic>=0.40.0->pydantic-ai-slim[anthropic,groq,mistral,openai,vertexai]==0.0.18->pydantic-ai) (1.3.1)\n",
            "Requirement already satisfied: typing-extensions<5,>=4.10 in /usr/local/lib/python3.10/dist-packages (from anthropic>=0.40.0->pydantic-ai-slim[anthropic,groq,mistral,openai,vertexai]==0.0.18->pydantic-ai) (4.12.2)\n",
            "Requirement already satisfied: cachetools<6.0,>=2.0.0 in /usr/local/lib/python3.10/dist-packages (from google-auth>=2.36.0->pydantic-ai-slim[anthropic,groq,mistral,openai,vertexai]==0.0.18->pydantic-ai) (5.5.0)\n",
            "Requirement already satisfied: pyasn1-modules>=0.2.1 in /usr/local/lib/python3.10/dist-packages (from google-auth>=2.36.0->pydantic-ai-slim[anthropic,groq,mistral,openai,vertexai]==0.0.18->pydantic-ai) (0.4.1)\n",
            "Requirement already satisfied: rsa<5,>=3.1.4 in /usr/local/lib/python3.10/dist-packages (from google-auth>=2.36.0->pydantic-ai-slim[anthropic,groq,mistral,openai,vertexai]==0.0.18->pydantic-ai) (4.9)\n",
            "Collecting colorama>=0.4 (from griffe>=1.3.2->pydantic-ai-slim==0.0.18->pydantic-ai-slim[anthropic,groq,mistral,openai,vertexai]==0.0.18->pydantic-ai)\n",
            "  Downloading colorama-0.4.6-py2.py3-none-any.whl.metadata (17 kB)\n",
            "Requirement already satisfied: certifi in /usr/local/lib/python3.10/dist-packages (from httpx>=0.27.2->pydantic-ai-slim==0.0.18->pydantic-ai-slim[anthropic,groq,mistral,openai,vertexai]==0.0.18->pydantic-ai) (2024.12.14)\n",
            "Requirement already satisfied: httpcore==1.* in /usr/local/lib/python3.10/dist-packages (from httpx>=0.27.2->pydantic-ai-slim==0.0.18->pydantic-ai-slim[anthropic,groq,mistral,openai,vertexai]==0.0.18->pydantic-ai) (1.0.7)\n",
            "Requirement already satisfied: idna in /usr/local/lib/python3.10/dist-packages (from httpx>=0.27.2->pydantic-ai-slim==0.0.18->pydantic-ai-slim[anthropic,groq,mistral,openai,vertexai]==0.0.18->pydantic-ai) (3.10)\n",
            "Requirement already satisfied: h11<0.15,>=0.13 in /usr/local/lib/python3.10/dist-packages (from httpcore==1.*->httpx>=0.27.2->pydantic-ai-slim==0.0.18->pydantic-ai-slim[anthropic,groq,mistral,openai,vertexai]==0.0.18->pydantic-ai) (0.14.0)\n",
            "Collecting httpx>=0.27.2 (from pydantic-ai-slim==0.0.18->pydantic-ai-slim[anthropic,groq,mistral,openai,vertexai]==0.0.18->pydantic-ai)\n",
            "  Downloading httpx-0.27.2-py3-none-any.whl.metadata (7.1 kB)\n",
            "Collecting jsonpath-python<2.0.0,>=1.0.6 (from mistralai>=1.2.5->pydantic-ai-slim[anthropic,groq,mistral,openai,vertexai]==0.0.18->pydantic-ai)\n",
            "  Downloading jsonpath_python-1.0.6-py3-none-any.whl.metadata (12 kB)\n",
            "Requirement already satisfied: python-dateutil<3.0.0,>=2.8.2 in /usr/local/lib/python3.10/dist-packages (from mistralai>=1.2.5->pydantic-ai-slim[anthropic,groq,mistral,openai,vertexai]==0.0.18->pydantic-ai) (2.8.2)\n",
            "Collecting typing-inspect<0.10.0,>=0.9.0 (from mistralai>=1.2.5->pydantic-ai-slim[anthropic,groq,mistral,openai,vertexai]==0.0.18->pydantic-ai)\n",
            "  Downloading typing_inspect-0.9.0-py3-none-any.whl.metadata (1.5 kB)\n",
            "Requirement already satisfied: tqdm>4 in /usr/local/lib/python3.10/dist-packages (from openai>=1.54.3->pydantic-ai-slim[anthropic,groq,mistral,openai,vertexai]==0.0.18->pydantic-ai) (4.67.1)\n",
            "Requirement already satisfied: annotated-types>=0.6.0 in /usr/local/lib/python3.10/dist-packages (from pydantic>=2.10->pydantic-ai-slim==0.0.18->pydantic-ai-slim[anthropic,groq,mistral,openai,vertexai]==0.0.18->pydantic-ai) (0.7.0)\n",
            "Requirement already satisfied: pydantic-core==2.27.2 in /usr/local/lib/python3.10/dist-packages (from pydantic>=2.10->pydantic-ai-slim==0.0.18->pydantic-ai-slim[anthropic,groq,mistral,openai,vertexai]==0.0.18->pydantic-ai) (2.27.2)\n",
            "Requirement already satisfied: charset-normalizer<4,>=2 in /usr/local/lib/python3.10/dist-packages (from requests>=2.32.3->pydantic-ai-slim[anthropic,groq,mistral,openai,vertexai]==0.0.18->pydantic-ai) (3.4.1)\n",
            "Requirement already satisfied: urllib3<3,>=1.21.1 in /usr/local/lib/python3.10/dist-packages (from requests>=2.32.3->pydantic-ai-slim[anthropic,groq,mistral,openai,vertexai]==0.0.18->pydantic-ai) (2.3.0)\n",
            "Requirement already satisfied: exceptiongroup in /usr/local/lib/python3.10/dist-packages (from anyio<5,>=3.5.0->anthropic>=0.40.0->pydantic-ai-slim[anthropic,groq,mistral,openai,vertexai]==0.0.18->pydantic-ai) (1.2.2)\n",
            "Requirement already satisfied: pyasn1<0.7.0,>=0.4.6 in /usr/local/lib/python3.10/dist-packages (from pyasn1-modules>=0.2.1->google-auth>=2.36.0->pydantic-ai-slim[anthropic,groq,mistral,openai,vertexai]==0.0.18->pydantic-ai) (0.6.1)\n",
            "Requirement already satisfied: six>=1.5 in /usr/local/lib/python3.10/dist-packages (from python-dateutil<3.0.0,>=2.8.2->mistralai>=1.2.5->pydantic-ai-slim[anthropic,groq,mistral,openai,vertexai]==0.0.18->pydantic-ai) (1.17.0)\n",
            "Collecting mypy-extensions>=0.3.0 (from typing-inspect<0.10.0,>=0.9.0->mistralai>=1.2.5->pydantic-ai-slim[anthropic,groq,mistral,openai,vertexai]==0.0.18->pydantic-ai)\n",
            "  Downloading mypy_extensions-1.0.0-py3-none-any.whl.metadata (1.1 kB)\n",
            "Downloading pydantic_ai-0.0.18-py3-none-any.whl (9.6 kB)\n",
            "Downloading pydantic_ai_slim-0.0.18-py3-none-any.whl (82 kB)\n",
            "\u001b[2K   \u001b[90m━━━━━━━━━━━━━━━━━━━━━━━━━━━━━━━━━━━━━━━━\u001b[0m \u001b[32m82.1/82.1 kB\u001b[0m \u001b[31m4.4 MB/s\u001b[0m eta \u001b[36m0:00:00\u001b[0m\n",
            "\u001b[?25hDownloading anthropic-0.42.0-py3-none-any.whl (203 kB)\n",
            "\u001b[2K   \u001b[90m━━━━━━━━━━━━━━━━━━━━━━━━━━━━━━━━━━━━━━━━\u001b[0m \u001b[32m203.4/203.4 kB\u001b[0m \u001b[31m15.1 MB/s\u001b[0m eta \u001b[36m0:00:00\u001b[0m\n",
            "\u001b[?25hDownloading google_auth-2.37.0-py2.py3-none-any.whl (209 kB)\n",
            "\u001b[2K   \u001b[90m━━━━━━━━━━━━━━━━━━━━━━━━━━━━━━━━━━━━━━━━\u001b[0m \u001b[32m209.8/209.8 kB\u001b[0m \u001b[31m14.2 MB/s\u001b[0m eta \u001b[36m0:00:00\u001b[0m\n",
            "\u001b[?25hDownloading griffe-1.5.4-py3-none-any.whl (128 kB)\n",
            "\u001b[2K   \u001b[90m━━━━━━━━━━━━━━━━━━━━━━━━━━━━━━━━━━━━━━━━\u001b[0m \u001b[32m128.1/128.1 kB\u001b[0m \u001b[31m7.4 MB/s\u001b[0m eta \u001b[36m0:00:00\u001b[0m\n",
            "\u001b[?25hDownloading groq-0.14.0-py3-none-any.whl (109 kB)\n",
            "\u001b[2K   \u001b[90m━━━━━━━━━━━━━━━━━━━━━━━━━━━━━━━━━━━━━━━━\u001b[0m \u001b[32m109.5/109.5 kB\u001b[0m \u001b[31m7.1 MB/s\u001b[0m eta \u001b[36m0:00:00\u001b[0m\n",
            "\u001b[?25hDownloading logfire_api-3.1.0-py3-none-any.whl (73 kB)\n",
            "\u001b[2K   \u001b[90m━━━━━━━━━━━━━━━━━━━━━━━━━━━━━━━━━━━━━━━━\u001b[0m \u001b[32m73.8/73.8 kB\u001b[0m \u001b[31m5.4 MB/s\u001b[0m eta \u001b[36m0:00:00\u001b[0m\n",
            "\u001b[?25hDownloading mistralai-1.2.6-py3-none-any.whl (261 kB)\n",
            "\u001b[2K   \u001b[90m━━━━━━━━━━━━━━━━━━━━━━━━━━━━━━━━━━━━━━━━\u001b[0m \u001b[32m261.3/261.3 kB\u001b[0m \u001b[31m19.5 MB/s\u001b[0m eta \u001b[36m0:00:00\u001b[0m\n",
            "\u001b[?25hDownloading httpx-0.27.2-py3-none-any.whl (76 kB)\n",
            "\u001b[2K   \u001b[90m━━━━━━━━━━━━━━━━━━━━━━━━━━━━━━━━━━━━━━━━\u001b[0m \u001b[32m76.4/76.4 kB\u001b[0m \u001b[31m5.5 MB/s\u001b[0m eta \u001b[36m0:00:00\u001b[0m\n",
            "\u001b[?25hDownloading colorama-0.4.6-py2.py3-none-any.whl (25 kB)\n",
            "Downloading jsonpath_python-1.0.6-py3-none-any.whl (7.6 kB)\n",
            "Downloading typing_inspect-0.9.0-py3-none-any.whl (8.8 kB)\n",
            "Downloading mypy_extensions-1.0.0-py3-none-any.whl (4.7 kB)\n",
            "Installing collected packages: mypy-extensions, logfire-api, jsonpath-python, colorama, typing-inspect, httpx, griffe, google-auth, pydantic-ai-slim, mistralai, groq, anthropic, pydantic-ai\n",
            "  Attempting uninstall: httpx\n",
            "    Found existing installation: httpx 0.28.1\n",
            "    Uninstalling httpx-0.28.1:\n",
            "      Successfully uninstalled httpx-0.28.1\n",
            "  Attempting uninstall: google-auth\n",
            "    Found existing installation: google-auth 2.27.0\n",
            "    Uninstalling google-auth-2.27.0:\n",
            "      Successfully uninstalled google-auth-2.27.0\n",
            "\u001b[31mERROR: pip's dependency resolver does not currently take into account all the packages that are installed. This behaviour is the source of the following dependency conflicts.\n",
            "google-colab 1.0.0 requires google-auth==2.27.0, but you have google-auth 2.37.0 which is incompatible.\u001b[0m\u001b[31m\n",
            "\u001b[0mSuccessfully installed anthropic-0.42.0 colorama-0.4.6 google-auth-2.37.0 griffe-1.5.4 groq-0.14.0 httpx-0.27.2 jsonpath-python-1.0.6 logfire-api-3.1.0 mistralai-1.2.6 mypy-extensions-1.0.0 pydantic-ai-0.0.18 pydantic-ai-slim-0.0.18 typing-inspect-0.9.0\n"
          ]
        },
        {
          "output_type": "display_data",
          "data": {
            "application/vnd.colab-display-data+json": {
              "pip_warning": {
                "packages": [
                  "google"
                ]
              },
              "id": "666a8fd47da84af088bb780704daeb1e"
            }
          },
          "metadata": {}
        }
      ]
    },
    {
      "cell_type": "markdown",
      "source": [
        "Pydantic AI Basics\n",
        "\n",
        "Agent class is the main class within PydanticAI, you can read more about it here - https://ai.pydantic.dev/api/agent/"
      ],
      "metadata": {
        "id": "2xt3k16WavHC"
      }
    },
    {
      "cell_type": "markdown",
      "source": [
        "Available Models at time of print:\n",
        "\n",
        "KnownModelName = Literal[\n",
        "    \"openai:gpt-4o\",\n",
        "    \"openai:gpt-4o-mini\",\n",
        "    \"openai:gpt-4-turbo\",\n",
        "    \"openai:gpt-4\",\n",
        "    \"openai:o1-preview\",\n",
        "    \"openai:o1-mini\",\n",
        "    \"openai:o1\",\n",
        "    \"openai:gpt-3.5-turbo\",\n",
        "    \"groq:llama-3.3-70b-versatile\",\n",
        "    \"groq:llama-3.1-70b-versatile\",\n",
        "    \"groq:llama3-groq-70b-8192-tool-use-preview\",\n",
        "    \"groq:llama3-groq-8b-8192-tool-use-preview\",\n",
        "    \"groq:llama-3.1-70b-specdec\",\n",
        "    \"groq:llama-3.1-8b-instant\",\n",
        "    \"groq:llama-3.2-1b-preview\",\n",
        "    \"groq:llama-3.2-3b-preview\",\n",
        "    \"groq:llama-3.2-11b-vision-preview\",\n",
        "    \"groq:llama-3.2-90b-vision-preview\",\n",
        "    \"groq:llama3-70b-8192\",\n",
        "    \"groq:llama3-8b-8192\",\n",
        "    \"groq:mixtral-8x7b-32768\",\n",
        "    \"groq:gemma2-9b-it\",\n",
        "    \"groq:gemma-7b-it\",\n",
        "    \"gemini-1.5-flash\",\n",
        "    \"gemini-1.5-pro\",\n",
        "    \"gemini-2.0-flash-exp\",\n",
        "    \"vertexai:gemini-1.5-flash\",\n",
        "    \"vertexai:gemini-1.5-pro\",\n",
        "    \"mistral:mistral-small-latest\",\n",
        "    \"mistral:mistral-large-latest\",\n",
        "    \"mistral:codestral-latest\",\n",
        "    \"mistral:mistral-moderation-latest\",\n",
        "    \"ollama:codellama\",\n",
        "    \"ollama:gemma\",\n",
        "    \"ollama:gemma2\",\n",
        "    \"ollama:llama3\",\n",
        "    \"ollama:llama3.1\",\n",
        "    \"ollama:llama3.2\",\n",
        "    \"ollama:llama3.2-vision\",\n",
        "    \"ollama:llama3.3\",\n",
        "    \"ollama:mistral\",\n",
        "    \"ollama:mistral-nemo\",\n",
        "    \"ollama:mixtral\",\n",
        "    \"ollama:phi3\",\n",
        "    \"ollama:qwq\",\n",
        "    \"ollama:qwen\",\n",
        "    \"ollama:qwen2\",\n",
        "    \"ollama:qwen2.5\",\n",
        "    \"ollama:starcoder2\",\n",
        "    \"claude-3-5-haiku-latest\",\n",
        "    \"claude-3-5-sonnet-latest\",\n",
        "    \"claude-3-opus-latest\",\n",
        "    \"test\",\n",
        "]"
      ],
      "metadata": {
        "id": "ibI5MllNa8xO"
      }
    },
    {
      "cell_type": "markdown",
      "source": [
        "We will use Groq models, so start by using the API key from google colab secret or set as an environment variable:"
      ],
      "metadata": {
        "id": "qbk8OESnbKz7"
      }
    },
    {
      "cell_type": "code",
      "source": [
        "!pip install groq"
      ],
      "metadata": {
        "colab": {
          "base_uri": "https://localhost:8080/"
        },
        "id": "whetAWZnVQJl",
        "outputId": "db877007-f3b5-4d48-9513-69d3e2c44881"
      },
      "execution_count": null,
      "outputs": [
        {
          "output_type": "stream",
          "name": "stdout",
          "text": [
            "Requirement already satisfied: groq in /usr/local/lib/python3.10/dist-packages (0.14.0)\n",
            "Requirement already satisfied: anyio<5,>=3.5.0 in /usr/local/lib/python3.10/dist-packages (from groq) (3.7.1)\n",
            "Requirement already satisfied: distro<2,>=1.7.0 in /usr/local/lib/python3.10/dist-packages (from groq) (1.9.0)\n",
            "Requirement already satisfied: httpx<1,>=0.23.0 in /usr/local/lib/python3.10/dist-packages (from groq) (0.27.2)\n",
            "Requirement already satisfied: pydantic<3,>=1.9.0 in /usr/local/lib/python3.10/dist-packages (from groq) (2.10.4)\n",
            "Requirement already satisfied: sniffio in /usr/local/lib/python3.10/dist-packages (from groq) (1.3.1)\n",
            "Requirement already satisfied: typing-extensions<5,>=4.10 in /usr/local/lib/python3.10/dist-packages (from groq) (4.12.2)\n",
            "Requirement already satisfied: idna>=2.8 in /usr/local/lib/python3.10/dist-packages (from anyio<5,>=3.5.0->groq) (3.10)\n",
            "Requirement already satisfied: exceptiongroup in /usr/local/lib/python3.10/dist-packages (from anyio<5,>=3.5.0->groq) (1.2.2)\n",
            "Requirement already satisfied: certifi in /usr/local/lib/python3.10/dist-packages (from httpx<1,>=0.23.0->groq) (2024.12.14)\n",
            "Requirement already satisfied: httpcore==1.* in /usr/local/lib/python3.10/dist-packages (from httpx<1,>=0.23.0->groq) (1.0.7)\n",
            "Requirement already satisfied: h11<0.15,>=0.13 in /usr/local/lib/python3.10/dist-packages (from httpcore==1.*->httpx<1,>=0.23.0->groq) (0.14.0)\n",
            "Requirement already satisfied: annotated-types>=0.6.0 in /usr/local/lib/python3.10/dist-packages (from pydantic<3,>=1.9.0->groq) (0.7.0)\n",
            "Requirement already satisfied: pydantic-core==2.27.2 in /usr/local/lib/python3.10/dist-packages (from pydantic<3,>=1.9.0->groq) (2.27.2)\n"
          ]
        }
      ]
    },
    {
      "cell_type": "markdown",
      "source": [
        "Import API Key from Google Colab"
      ],
      "metadata": {
        "id": "a05mug-CbUQL"
      }
    },
    {
      "cell_type": "code",
      "source": [
        "import os\n",
        "from google.colab import userdata\n",
        "\n",
        "GROQ_API_KEY=userdata.get('GROQ_API_KEY')"
      ],
      "metadata": {
        "id": "PkCO4w1-Vjux"
      },
      "execution_count": null,
      "outputs": []
    },
    {
      "cell_type": "code",
      "source": [
        "from pydantic_ai import Agent\n",
        "from pydantic_ai.models.groq  import GroqModel\n",
        "\n",
        "model = GroqModel('llama-3.1-70b-versatile',api_key=GROQ_API_KEY)\n",
        "agent = Agent(model)\n"
      ],
      "metadata": {
        "id": "MQimB7DgVsNT"
      },
      "execution_count": null,
      "outputs": []
    },
    {
      "cell_type": "code",
      "source": [
        "import asyncio\n",
        "async def main():\n",
        "  result = await agent.run(\"What is Bitcoin\")\n",
        "  print(result.data)\n",
        "\n",
        "await main()"
      ],
      "metadata": {
        "colab": {
          "base_uri": "https://localhost:8080/"
        },
        "id": "4rVplcCWWZuG",
        "outputId": "8813f23e-2fca-4a54-c7af-2048d7d77a4a"
      },
      "execution_count": null,
      "outputs": [
        {
          "output_type": "stream",
          "name": "stdout",
          "text": [
            "**Introduction to Bitcoin**\n",
            "==========================\n",
            "\n",
            "Bitcoin is a decentralized digital currency that allows for peer-to-peer transactions without the need for intermediaries like banks. It was created in 2009 by an anonymous individual or group of individuals using the pseudonym Satoshi Nakamoto.\n",
            "\n",
            "**Key Characteristics:**\n",
            "\n",
            "1. **Decentralized**: Bitcoin operates on a decentralized network, meaning that there is no central authority controlling it.\n",
            "2. **Digital**: Bitcoin is a digital currency, existing only in electronic form.\n",
            "3. **Cryptographic**: Bitcoin uses advanced cryptographic techniques to secure and verify transactions.\n",
            "4. **Limited supply**: The total supply of Bitcoin is capped at 21 million, which helps to prevent inflation.\n",
            "\n",
            "**How Bitcoin Works**\n",
            "----------------------\n",
            "\n",
            "1. **Mining**: New Bitcoins are created through a process called mining, where powerful computers solve complex mathematical equations to validate transactions and add them to the blockchain.\n",
            "2. **Blockchain**: The blockchain is a public ledger that records all Bitcoin transactions, ensuring the integrity and transparency of the network.\n",
            "3. **Wallets**: Users can store their Bitcoins in digital wallets, which can be accessed through software or hardware devices.\n",
            "4. **Transactions**: Bitcoins can be sent and received through the network, with transactions verified by nodes on the network.\n",
            "\n",
            "**Benefits and Uses**\n",
            "---------------------\n",
            "\n",
            "1. **Borderless transactions**: Bitcoin allows for fast and cheap transactions across the globe, without the need for intermediaries.\n",
            "2. **Security**: Bitcoin's cryptographic techniques and decentralized nature make it a secure form of currency.\n",
            "3. **Investment**: Bitcoin can be used as an investment vehicle, with its value fluctuating based on market demand.\n",
            "4. **Micropayments**: Bitcoin's low transaction fees make it an attractive option for micropayments and small transactions.\n",
            "\n",
            "**Risks and Challenges**\n",
            "------------------------\n",
            "\n",
            "1. **Volatility**: Bitcoin's value can be highly volatile, with prices fluctuating rapidly.\n",
            "2. **Regulation**: Bitcoin's regulatory environment is still evolving, with different countries having different approaches to regulation.\n",
            "3. **Security risks**: Bitcoin's decentralized nature and lack of intermediaries can make it vulnerable to security risks, such as hacking and theft.\n",
            "4. **Scalability**: Bitcoin's current infrastructure can be slow and limited in terms of scalability, which can lead to delays and high transaction fees.\n",
            "\n",
            "**Conclusion**\n",
            "----------\n",
            "\n",
            "Bitcoin is a complex and evolving digital currency that offers a new paradigm for peer-to-peer transactions. While it has its benefits and uses, it also comes with risks and challenges that need to be addressed. As the cryptocurrency space continues to evolve, it will be interesting to see how Bitcoin and other digital currencies shape the future of finance and commerce.\n"
          ]
        }
      ]
    },
    {
      "cell_type": "markdown",
      "source": [
        "# PydanticAI with Tools"
      ],
      "metadata": {
        "id": "fBY8p1HArs9z"
      }
    },
    {
      "cell_type": "markdown",
      "source": [
        "The reason why pydanticAI is so powerful is --- structured data. You can utilise Pydantic to create structured outputs that you can use with tools. We will build an example \"Note Manager\". The note manager is an assistant that allows you to create, list and retrieve notes. This is a perfect example to demostrate how powerful PydanticAI is. For this we will use a sqllite database, here is the code for the database:\n",
        "\n",
        "You will need to install the following:"
      ],
      "metadata": {
        "id": "y6n_T3f5ss18"
      }
    },
    {
      "cell_type": "code",
      "source": [
        "!pip install aiosqlite"
      ],
      "metadata": {
        "colab": {
          "base_uri": "https://localhost:8080/"
        },
        "id": "Tm-xNgao6bqC",
        "outputId": "39b1852d-ad41-4db0-be4b-2561321eeb91"
      },
      "execution_count": null,
      "outputs": [
        {
          "output_type": "stream",
          "name": "stdout",
          "text": [
            "Collecting aiosqlite\n",
            "  Downloading aiosqlite-0.20.0-py3-none-any.whl.metadata (4.3 kB)\n",
            "Requirement already satisfied: typing_extensions>=4.0 in /usr/local/lib/python3.10/dist-packages (from aiosqlite) (4.12.2)\n",
            "Downloading aiosqlite-0.20.0-py3-none-any.whl (15 kB)\n",
            "Installing collected packages: aiosqlite\n",
            "Successfully installed aiosqlite-0.20.0\n"
          ]
        }
      ]
    },
    {
      "cell_type": "markdown",
      "source": [
        "We import aiosqlite and ensure we're using the asynchronous connection.\n",
        "\n",
        "The async with aiosqlite.connect('example.db') as conn statement is used to create an asynchronous connection.\n",
        "\n",
        "We use this connection object correctly in the Deps class."
      ],
      "metadata": {
        "id": "o-x8jAZc7sMI"
      }
    },
    {
      "cell_type": "code",
      "source": [
        "import sqlite3 # Connect to the new SQLite database\n",
        "conn = sqlite3.connect('new_database.db')\n",
        "cursor = conn.cursor()\n",
        "# Example query to test the connection\n",
        "cursor.execute(\"SELECT name FROM sqlite_master WHERE type='table';\")\n",
        "print(cursor.fetchall()) # Close the connection conn.close()"
      ],
      "metadata": {
        "colab": {
          "base_uri": "https://localhost:8080/"
        },
        "id": "ZxgS0QrQsdHJ",
        "outputId": "feb0a66f-4552-4930-bb05-8ffe93a302bb"
      },
      "execution_count": null,
      "outputs": [
        {
          "output_type": "stream",
          "name": "stdout",
          "text": [
            "[]\n"
          ]
        }
      ]
    },
    {
      "cell_type": "markdown",
      "source": [
        "In a normal app.py script or any standalone Python script: You can use asyncio.run() to start and manage your asynchronous code. This is because there's no existing event loop running, and asyncio.run() can create a new event loop, run your async function, and then close the loop properly.\n",
        "\n",
        "In Jupyter notebooks or other interactive environments: You should use nest_asyncio to allow nested event loops. This is because Jupyter notebooks already have an event loop running, and trying to use asyncio.run() within an existing event loop will cause a RuntimeError. Applying nest_asyncio allows you to work around this limitation and run asynchronous code within a Jupyter notebook seamlessly."
      ],
      "metadata": {
        "id": "dL1UaDPKPX22"
      }
    },
    {
      "cell_type": "code",
      "source": [
        "!pip install nest_asyncio"
      ],
      "metadata": {
        "colab": {
          "base_uri": "https://localhost:8080/"
        },
        "id": "TEkmbSTYPdWZ",
        "outputId": "e9fadb83-9d8f-489b-e7fa-2ecac84c2aa4"
      },
      "execution_count": null,
      "outputs": [
        {
          "output_type": "stream",
          "name": "stdout",
          "text": [
            "Requirement already satisfied: nest_asyncio in /usr/local/lib/python3.10/dist-packages (1.6.0)\n"
          ]
        }
      ]
    },
    {
      "cell_type": "code",
      "source": [
        "import sqlite3\n",
        "\n",
        "import nest_asyncio\n",
        "import asyncio\n",
        "\n",
        "nest_asyncio.apply()\n",
        "\n",
        "async def create_notes_table():\n",
        "    \"\"\"\n",
        "    Creates a table named 'notes' with columns 'title' (up to 200 characters) and 'text' (unlimited length).\n",
        "\n",
        "    \"\"\"\n",
        "\n",
        "    create_table_query = \"\"\"\n",
        "    CREATE TABLE IF NOT EXISTS notes (\n",
        "        id SERIAL PRIMARY KEY,\n",
        "        title VARCHAR(200) UNIQUE NOT NULL,\n",
        "        text TEXT NOT NULL\n",
        "    );\n",
        "    \"\"\"\n",
        "    try:\n",
        "\n",
        "        # Connect to the database\n",
        "        #connection = sqlite3.connect('new_database.db')\n",
        "        #cursor = connection.cursor()\n",
        "        async with aiosqlite.connect('new_database.db') as connection:\n",
        "              async with connection.cursor() as cursor:\n",
        "              # Execute the table creation query\n",
        "                await cursor.execute(create_table_query)\n",
        "                await connection.commit()\n",
        "\n",
        "        # Execute the table creation query\n",
        "        #cursor.execute(create_table_query)\n",
        "        #connection.commit()\n",
        "\n",
        "        print(\"Table 'notes' created successfully (if it didn't already exist).\")\n",
        "\n",
        "    except Exception as e:\n",
        "        print(f\"An error occurred: {e}\")\n",
        "\n",
        "    finally:\n",
        "        # Close the connection\n",
        "        if connection:\n",
        "            cursor.close()\n",
        "            connection.close()\n",
        "\n",
        "def check_table_exists(table_name: str) -> bool:\n",
        "    \"\"\"\n",
        "    Checks if a table exists in the PostgreSQL database.\n",
        "\n",
        "    Args:\n",
        "        table_name (str): The name of the table to check.\n",
        "\n",
        "    Returns:\n",
        "        bool: True if the table exists, False otherwise.\n",
        "    \"\"\"\n",
        "\n",
        "    query = \"\"\"\n",
        "    SELECT EXISTS (\n",
        "        SELECT 1\n",
        "        FROM information_schema.tables\n",
        "        WHERE table_schema = 'public'\n",
        "        AND table_name = %s\n",
        "    );\n",
        "    \"\"\"\n",
        "    try:\n",
        "        connection = sqlite3.connect('new_database.db')\n",
        "        cursor = connection.cursor()\n",
        "        cursor.execute(query, (table_name,))\n",
        "        exists = cursor.fetchone()[0]\n",
        "        return exists\n",
        "    except Exception as e:\n",
        "        print(f\"An error occurred: {e}\")\n",
        "        return False\n",
        "    finally:\n",
        "        if connection:\n",
        "            cursor.close()\n",
        "            connection.close()\n",
        "\n",
        "\"\"\"\n",
        "Asynchronous database connection class for interacting with the 'notes' table in your PostgreSQL database.\n",
        "\n",
        "This class provides methods to add a note, retrieve a note by title,\n",
        "and list all note titles.\n",
        "\"\"\"\n",
        "\n",
        "\n",
        "from typing import Optional, List\n",
        "\n",
        "\n",
        "class DatabaseConn:\n",
        "    def __init__(self):\n",
        "        \"\"\"\n",
        "        Initializes the DatabaseConn with the Data Source Name (DSN).\n",
        "        \"\"\"\n",
        "       # connection = sqlite3.connect()\n",
        "        self.dsn = 'new_database.db'\n",
        "\n",
        "    async def _connect(self):\n",
        "        \"\"\"\n",
        "        Establishes an asynchronous connection to the PostgreSQL database.\n",
        "\n",
        "        Returns:\n",
        "            asyncpg.Connection: An active database connection.\n",
        "        \"\"\"\n",
        "        return await sqlite3.connect(self.dsn)\n",
        "\n",
        "\n",
        "    async def add_note(self, title: str, text: str) -> bool:\n",
        "        \"\"\"\n",
        "        Adds a new note to the 'notes' table.\n",
        "\n",
        "        Args:\n",
        "            title (str): The title of the note.\n",
        "            text (str): The content of the note.\n",
        "\n",
        "        Returns:\n",
        "            bool: True if the note was added successfully, False otherwise.\n",
        "        \"\"\"\n",
        "        query = \"\"\"\n",
        "        INSERT INTO notes (title, text)\n",
        "        VALUES ($1, $2)\n",
        "        ON CONFLICT (title) DO NOTHING;\n",
        "        \"\"\"\n",
        "        conn = await self._connect()\n",
        "        try:\n",
        "            result = await conn.execute(query, title, text)\n",
        "            return result == \"INSERT 0 1\"  # Returns True if one row was inserted\n",
        "        finally:\n",
        "            await conn.close()\n",
        "\n",
        "    async def get_note_by_title(self, title: str) -> Optional[dict]:\n",
        "        \"\"\"\n",
        "        Retrieves a note's content by its title.\n",
        "\n",
        "        Args:\n",
        "            title (str): The title of the note to retrieve.\n",
        "\n",
        "        Returns:\n",
        "            Optional[dict]: A dictionary containing the note's title and text if found, None otherwise.\n",
        "        \"\"\"\n",
        "        query = \"SELECT title, text FROM notes WHERE title = $1;\"\n",
        "        conn = await self._connect()\n",
        "        try:\n",
        "            result = await conn.fetchrow(query, title)\n",
        "            if result:\n",
        "                return {\"title\": result[\"title\"], \"text\": result[\"text\"]}\n",
        "            return None\n",
        "        finally:\n",
        "            await conn.close()\n",
        "\n",
        "    async def list_all_titles(self) -> List[str]:\n",
        "        \"\"\"\n",
        "        Lists all note titles in the 'notes' table.\n",
        "\n",
        "        Returns:\n",
        "            List[str]: A list of all note titles.\n",
        "        \"\"\"\n",
        "        query = \"SELECT title FROM notes ORDER BY title;\"\n",
        "        conn = await self._connect()\n",
        "        try:\n",
        "            results = await conn.fetch(query)\n",
        "            return [row[\"title\"] for row in results]\n",
        "        finally:\n",
        "            await conn.close()\n"
      ],
      "metadata": {
        "id": "31IgiGnIy-1a"
      },
      "execution_count": null,
      "outputs": []
    },
    {
      "cell_type": "code",
      "source": [
        "# Run the async function to create the table\n",
        "asyncio.run(create_notes_table())"
      ],
      "metadata": {
        "colab": {
          "base_uri": "https://localhost:8080/",
          "height": 291
        },
        "id": "r-_ylPhv4IgM",
        "outputId": "24c90626-f470-4972-c1de-fad30214a5c7"
      },
      "execution_count": null,
      "outputs": [
        {
          "output_type": "error",
          "ename": "RuntimeError",
          "evalue": "asyncio.run() cannot be called from a running event loop",
          "traceback": [
            "\u001b[0;31m---------------------------------------------------------------------------\u001b[0m",
            "\u001b[0;31mRuntimeError\u001b[0m                              Traceback (most recent call last)",
            "\u001b[0;32m<ipython-input-13-b88c0ed19728>\u001b[0m in \u001b[0;36m<cell line: 2>\u001b[0;34m()\u001b[0m\n\u001b[1;32m      1\u001b[0m \u001b[0;31m# Run the async function to create the table\u001b[0m\u001b[0;34m\u001b[0m\u001b[0;34m\u001b[0m\u001b[0m\n\u001b[0;32m----> 2\u001b[0;31m \u001b[0masyncio\u001b[0m\u001b[0;34m.\u001b[0m\u001b[0mrun\u001b[0m\u001b[0;34m(\u001b[0m\u001b[0mcreate_notes_table\u001b[0m\u001b[0;34m(\u001b[0m\u001b[0;34m)\u001b[0m\u001b[0;34m)\u001b[0m\u001b[0;34m\u001b[0m\u001b[0;34m\u001b[0m\u001b[0m\n\u001b[0m",
            "\u001b[0;32m/usr/lib/python3.10/asyncio/runners.py\u001b[0m in \u001b[0;36mrun\u001b[0;34m(main, debug)\u001b[0m\n\u001b[1;32m     31\u001b[0m     \"\"\"\n\u001b[1;32m     32\u001b[0m     \u001b[0;32mif\u001b[0m \u001b[0mevents\u001b[0m\u001b[0;34m.\u001b[0m\u001b[0m_get_running_loop\u001b[0m\u001b[0;34m(\u001b[0m\u001b[0;34m)\u001b[0m \u001b[0;32mis\u001b[0m \u001b[0;32mnot\u001b[0m \u001b[0;32mNone\u001b[0m\u001b[0;34m:\u001b[0m\u001b[0;34m\u001b[0m\u001b[0;34m\u001b[0m\u001b[0m\n\u001b[0;32m---> 33\u001b[0;31m         raise RuntimeError(\n\u001b[0m\u001b[1;32m     34\u001b[0m             \"asyncio.run() cannot be called from a running event loop\")\n\u001b[1;32m     35\u001b[0m \u001b[0;34m\u001b[0m\u001b[0m\n",
            "\u001b[0;31mRuntimeError\u001b[0m: asyncio.run() cannot be called from a running event loop"
          ]
        }
      ]
    },
    {
      "cell_type": "markdown",
      "source": [
        "Check that the DB connection is working before continuing to the next step:"
      ],
      "metadata": {
        "id": "ei4AdeMv4sHy"
      }
    },
    {
      "cell_type": "code",
      "source": [
        "from dataclasses import dataclass\n",
        "from pydantic import BaseModel\n",
        "from pydantic_ai import Agent, RunContext, Tool\n",
        "from typing import Optional, List\n",
        "#from DatabaseConn import DatabaseConn\n",
        "\n",
        "from pydantic_ai.models.groq  import GroqModel\n",
        "\n",
        "\n",
        "# Dataclass for structured output from Intent Extraction Agent\n",
        "@dataclass\n",
        "class NoteIntent:\n",
        "   action: str\n",
        "   title: Optional[str] = None\n",
        "   text: Optional[str] = None\n",
        "\n",
        "# Dataclass for dependencies\n",
        "@dataclass\n",
        "class NoteDependencies:\n",
        "   db: DatabaseConn\n",
        "\n",
        "# Define the response structure\n",
        "class NoteResponse(BaseModel):\n",
        "   message: str\n",
        "   note: Optional[dict] = None\n",
        "   titles: Optional[List[str]] = None\n",
        "\n",
        "\n",
        "# Intent Extraction Agent\n",
        "intent_model = GroqModel('llama-3.1-70b-versatile',api_key=GROQ_API_KEY)\n",
        "intent_agent = Agent(\n",
        "   intent_model,\n",
        "   result_type=NoteIntent,\n",
        "   system_prompt=(\n",
        "       \"You are an intent extraction assistant. Your job is to analyze user inputs, \"\n",
        "       \"determine the user's intent (e.g., create, retrieve, list), and extract relevant \"\n",
        "       \"information such as title and text. Output the structured intent in the following format:\\n\\n\"\n",
        "       \"{'action': '...', 'title': '...', 'text': '...'}\\n\\n\"\n",
        "       \"Always use MD format for the text field.\",\n",
        "       \"Add supporting information to help the user understand the note and produce well formatted notes.\",\n",
        "       \"For example, if the user says 'Please note the following: Meeting tomorrow at 10 AM', \"\n",
        "       \"the output should be:\\n{'action': 'create', 'title': 'Meeting', 'text': '## Meeting Note \\n\\n Please note a meeting on the 4th of January at 10 AM.'}.\"\n",
        "   )\n",
        ")\n",
        "\n",
        "# Action Handling Agent\n",
        "action_model = GroqModel('llama-3.1-70b-versatile',api_key=GROQ_API_KEY)\n",
        "action_agent = Agent(\n",
        "   action_model,\n",
        "   deps_type=NoteDependencies,\n",
        "   result_type=NoteResponse,\n",
        "   system_prompt=(\n",
        "       \"You are a note management assistant. Based on the user's intent (action, title, text), \"\n",
        "       \"perform the appropriate action: create a note, retrieve a note, or list all notes.\"\n",
        "   )\n",
        ")"
      ],
      "metadata": {
        "id": "wDPm9mNW4s5X"
      },
      "execution_count": null,
      "outputs": []
    },
    {
      "cell_type": "markdown",
      "source": [
        "# Define tools for Action Handling Agent"
      ],
      "metadata": {
        "id": "zTGdSrDO4pVy"
      }
    },
    {
      "cell_type": "code",
      "source": [
        "# Define tools for Action Handling Agent\n",
        "@action_agent.tool\n",
        "async def create_note_tool(ctx: RunContext[NoteDependencies], title: str, text: str) -> NoteResponse:\n",
        "   db = ctx.deps.db\n",
        "   success = await db.add_note(title, text)\n",
        "   return NoteResponse(message=\"CREATED:SUCCESS\") if success else NoteResponse(message=\"CREATED:FAILED\")\n",
        "\n",
        "@action_agent.tool\n",
        "async def retrieve_note_tool(ctx: RunContext[NoteDependencies], title: str) -> NoteResponse:\n",
        "   db = ctx.deps.db\n",
        "   note = await db.get_note_by_title(title)\n",
        "   return NoteResponse(message=\"GET:SUCCESS\", note=note) if note else NoteResponse(message=\"GET:FAILED\")\n",
        "\n",
        "@action_agent.tool\n",
        "async def list_notes_tool(ctx: RunContext[NoteDependencies]) -> NoteResponse:\n",
        "   db = ctx.deps.db\n",
        "   titles = await db.list_all_titles()\n",
        "   return NoteResponse(message=\"LIST:SUCCESS\", titles=titles)"
      ],
      "metadata": {
        "id": "145cATW_4tbF"
      },
      "execution_count": null,
      "outputs": []
    },
    {
      "cell_type": "markdown",
      "source": [
        "# Main function to handle user input with both agents"
      ],
      "metadata": {
        "id": "knYPOhlJ4E0P"
      }
    },
    {
      "cell_type": "code",
      "source": [
        "async def handle_user_query(user_input: str, deps: NoteDependencies) -> NoteResponse:\n",
        "   intent = await intent_agent.run(user_input)\n",
        "   print(intent.data)\n",
        "\n",
        "   if intent.data.action == \"create\":\n",
        "       query = f\"Create a note with the title '{intent.data.title}' and the text '{intent.data.text}'.\"\n",
        "       response = await action_agent.run(query, deps=deps)\n",
        "       return response.data\n",
        "   elif intent.data.action == \"retrieve\":\n",
        "       query = f\"Retrieve the note with the title '{intent.data.title}'.\"\n",
        "       response = await action_agent.run(query, deps=deps)\n",
        "       return response.data\n",
        "   elif intent.data.action == \"list\":\n",
        "       query = \"List all notes.\"\n",
        "       response = await action_agent.run(query, deps=deps)\n",
        "       return response.data\n",
        "   else:\n",
        "       return NoteResponse(message=\"Invalid action. Please try again.\")"
      ],
      "metadata": {
        "id": "Jt6q4G354Fzu"
      },
      "execution_count": null,
      "outputs": []
    },
    {
      "cell_type": "code",
      "source": [
        "async def ask(query: str):\n",
        "   db_conn = DatabaseConn()\n",
        "   note_deps = NoteDependencies(db=db_conn)\n",
        "   response = await handle_user_query(query, note_deps)\n",
        "   return response"
      ],
      "metadata": {
        "id": "IkRNDTQC4ffs"
      },
      "execution_count": null,
      "outputs": []
    },
    {
      "cell_type": "code",
      "source": [
        "query = \"Who is Geoffrey hinton?\"\n",
        "import asyncio\n",
        "response = await ask(query)\n",
        "\n",
        "print(response['text'])"
      ],
      "metadata": {
        "colab": {
          "base_uri": "https://localhost:8080/",
          "height": 408
        },
        "id": "FFODVrR24kZZ",
        "outputId": "2ed0ef73-bd46-4acc-e2f1-f200d2c50ad7"
      },
      "execution_count": null,
      "outputs": [
        {
          "output_type": "stream",
          "name": "stdout",
          "text": [
            "NoteIntent(action='create', title='Geoffrey Hinton', text=\"## Geoffrey Hinton Note\\nGeoffrey Hinton is a British-Canadian cognitive psychologist and computer scientist, best known for his work on artificial neural networks. He is often referred to as the 'Godfather of Deep Learning' due to his significant contributions to the field. Hinton's work has focused on developing algorithms for training neural networks, including the backpropagation algorithm and the Boltzmann machine. He has also made notable contributions to the development of convolutional neural networks (CNNs) and recurrent neural networks (RNNs). Hinton has received numerous awards for his work, including the Turing Award, and is currently a professor at the University of Toronto.\")\n"
          ]
        },
        {
          "output_type": "error",
          "ename": "TypeError",
          "evalue": "object sqlite3.Connection can't be used in 'await' expression",
          "traceback": [
            "\u001b[0;31m---------------------------------------------------------------------------\u001b[0m",
            "\u001b[0;31mTypeError\u001b[0m                                 Traceback (most recent call last)",
            "\u001b[0;32m<ipython-input-18-95ffe51e9b9f>\u001b[0m in \u001b[0;36m<cell line: 3>\u001b[0;34m()\u001b[0m\n\u001b[1;32m      1\u001b[0m \u001b[0mquery\u001b[0m \u001b[0;34m=\u001b[0m \u001b[0;34m\"Who is Geoffrey hinton?\"\u001b[0m\u001b[0;34m\u001b[0m\u001b[0;34m\u001b[0m\u001b[0m\n\u001b[1;32m      2\u001b[0m \u001b[0;32mimport\u001b[0m \u001b[0masyncio\u001b[0m\u001b[0;34m\u001b[0m\u001b[0;34m\u001b[0m\u001b[0m\n\u001b[0;32m----> 3\u001b[0;31m \u001b[0mresponse\u001b[0m \u001b[0;34m=\u001b[0m \u001b[0;32mawait\u001b[0m \u001b[0mask\u001b[0m\u001b[0;34m(\u001b[0m\u001b[0mquery\u001b[0m\u001b[0;34m)\u001b[0m\u001b[0;34m\u001b[0m\u001b[0;34m\u001b[0m\u001b[0m\n\u001b[0m\u001b[1;32m      4\u001b[0m \u001b[0;34m\u001b[0m\u001b[0m\n\u001b[1;32m      5\u001b[0m \u001b[0mprint\u001b[0m\u001b[0;34m(\u001b[0m\u001b[0mresponse\u001b[0m\u001b[0;34m[\u001b[0m\u001b[0;34m'text'\u001b[0m\u001b[0;34m]\u001b[0m\u001b[0;34m)\u001b[0m\u001b[0;34m\u001b[0m\u001b[0;34m\u001b[0m\u001b[0m\n",
            "\u001b[0;32m<ipython-input-14-b15e4ebdc250>\u001b[0m in \u001b[0;36mask\u001b[0;34m(query)\u001b[0m\n\u001b[1;32m      2\u001b[0m    \u001b[0mdb_conn\u001b[0m \u001b[0;34m=\u001b[0m \u001b[0mDatabaseConn\u001b[0m\u001b[0;34m(\u001b[0m\u001b[0;34m)\u001b[0m\u001b[0;34m\u001b[0m\u001b[0;34m\u001b[0m\u001b[0m\n\u001b[1;32m      3\u001b[0m    \u001b[0mnote_deps\u001b[0m \u001b[0;34m=\u001b[0m \u001b[0mNoteDependencies\u001b[0m\u001b[0;34m(\u001b[0m\u001b[0mdb\u001b[0m\u001b[0;34m=\u001b[0m\u001b[0mdb_conn\u001b[0m\u001b[0;34m)\u001b[0m\u001b[0;34m\u001b[0m\u001b[0;34m\u001b[0m\u001b[0m\n\u001b[0;32m----> 4\u001b[0;31m    \u001b[0mresponse\u001b[0m \u001b[0;34m=\u001b[0m \u001b[0;32mawait\u001b[0m \u001b[0mhandle_user_query\u001b[0m\u001b[0;34m(\u001b[0m\u001b[0mquery\u001b[0m\u001b[0;34m,\u001b[0m \u001b[0mnote_deps\u001b[0m\u001b[0;34m)\u001b[0m\u001b[0;34m\u001b[0m\u001b[0;34m\u001b[0m\u001b[0m\n\u001b[0m\u001b[1;32m      5\u001b[0m    \u001b[0;32mreturn\u001b[0m \u001b[0mresponse\u001b[0m\u001b[0;34m\u001b[0m\u001b[0;34m\u001b[0m\u001b[0m\n",
            "\u001b[0;32m<ipython-input-13-21db4c37a103>\u001b[0m in \u001b[0;36mhandle_user_query\u001b[0;34m(user_input, deps)\u001b[0m\n\u001b[1;32m      5\u001b[0m    \u001b[0;32mif\u001b[0m \u001b[0mintent\u001b[0m\u001b[0;34m.\u001b[0m\u001b[0mdata\u001b[0m\u001b[0;34m.\u001b[0m\u001b[0maction\u001b[0m \u001b[0;34m==\u001b[0m \u001b[0;34m\"create\"\u001b[0m\u001b[0;34m:\u001b[0m\u001b[0;34m\u001b[0m\u001b[0;34m\u001b[0m\u001b[0m\n\u001b[1;32m      6\u001b[0m        \u001b[0mquery\u001b[0m \u001b[0;34m=\u001b[0m \u001b[0;34mf\"Create a note with the title '{intent.data.title}' and the text '{intent.data.text}'.\"\u001b[0m\u001b[0;34m\u001b[0m\u001b[0;34m\u001b[0m\u001b[0m\n\u001b[0;32m----> 7\u001b[0;31m        \u001b[0mresponse\u001b[0m \u001b[0;34m=\u001b[0m \u001b[0;32mawait\u001b[0m \u001b[0maction_agent\u001b[0m\u001b[0;34m.\u001b[0m\u001b[0mrun\u001b[0m\u001b[0;34m(\u001b[0m\u001b[0mquery\u001b[0m\u001b[0;34m,\u001b[0m \u001b[0mdeps\u001b[0m\u001b[0;34m=\u001b[0m\u001b[0mdeps\u001b[0m\u001b[0;34m)\u001b[0m\u001b[0;34m\u001b[0m\u001b[0;34m\u001b[0m\u001b[0m\n\u001b[0m\u001b[1;32m      8\u001b[0m        \u001b[0;32mreturn\u001b[0m \u001b[0mresponse\u001b[0m\u001b[0;34m.\u001b[0m\u001b[0mdata\u001b[0m\u001b[0;34m\u001b[0m\u001b[0;34m\u001b[0m\u001b[0m\n\u001b[1;32m      9\u001b[0m    \u001b[0;32melif\u001b[0m \u001b[0mintent\u001b[0m\u001b[0;34m.\u001b[0m\u001b[0mdata\u001b[0m\u001b[0;34m.\u001b[0m\u001b[0maction\u001b[0m \u001b[0;34m==\u001b[0m \u001b[0;34m\"retrieve\"\u001b[0m\u001b[0;34m:\u001b[0m\u001b[0;34m\u001b[0m\u001b[0;34m\u001b[0m\u001b[0m\n",
            "\u001b[0;32m/usr/local/lib/python3.10/dist-packages/pydantic_ai/agent.py\u001b[0m in \u001b[0;36mrun\u001b[0;34m(self, user_prompt, message_history, model, deps, model_settings, usage_limits, usage, result_type, infer_name)\u001b[0m\n\u001b[1;32m    305\u001b[0m \u001b[0;34m\u001b[0m\u001b[0m\n\u001b[1;32m    306\u001b[0m                 \u001b[0;32mwith\u001b[0m \u001b[0m_logfire\u001b[0m\u001b[0;34m.\u001b[0m\u001b[0mspan\u001b[0m\u001b[0;34m(\u001b[0m\u001b[0;34m'handle model response'\u001b[0m\u001b[0;34m,\u001b[0m \u001b[0mrun_step\u001b[0m\u001b[0;34m=\u001b[0m\u001b[0mrun_context\u001b[0m\u001b[0;34m.\u001b[0m\u001b[0mrun_step\u001b[0m\u001b[0;34m)\u001b[0m \u001b[0;32mas\u001b[0m \u001b[0mhandle_span\u001b[0m\u001b[0;34m:\u001b[0m\u001b[0;34m\u001b[0m\u001b[0;34m\u001b[0m\u001b[0m\n\u001b[0;32m--> 307\u001b[0;31m                     final_result, tool_responses = await self._handle_model_response(\n\u001b[0m\u001b[1;32m    308\u001b[0m                         \u001b[0mmodel_response\u001b[0m\u001b[0;34m,\u001b[0m \u001b[0mrun_context\u001b[0m\u001b[0;34m,\u001b[0m \u001b[0mresult_schema\u001b[0m\u001b[0;34m\u001b[0m\u001b[0;34m\u001b[0m\u001b[0m\n\u001b[1;32m    309\u001b[0m                     )\n",
            "\u001b[0;32m/usr/local/lib/python3.10/dist-packages/pydantic_ai/agent.py\u001b[0m in \u001b[0;36m_handle_model_response\u001b[0;34m(self, model_response, run_context, result_schema)\u001b[0m\n\u001b[1;32m   1061\u001b[0m         \u001b[0;31m# and a tool call response, where the text response just indicates the tool call will happen.\u001b[0m\u001b[0;34m\u001b[0m\u001b[0;34m\u001b[0m\u001b[0m\n\u001b[1;32m   1062\u001b[0m         \u001b[0;32mif\u001b[0m \u001b[0mtool_calls\u001b[0m\u001b[0;34m:\u001b[0m\u001b[0;34m\u001b[0m\u001b[0;34m\u001b[0m\u001b[0m\n\u001b[0;32m-> 1063\u001b[0;31m             \u001b[0;32mreturn\u001b[0m \u001b[0;32mawait\u001b[0m \u001b[0mself\u001b[0m\u001b[0;34m.\u001b[0m\u001b[0m_handle_structured_response\u001b[0m\u001b[0;34m(\u001b[0m\u001b[0mtool_calls\u001b[0m\u001b[0;34m,\u001b[0m \u001b[0mrun_context\u001b[0m\u001b[0;34m,\u001b[0m \u001b[0mresult_schema\u001b[0m\u001b[0;34m)\u001b[0m\u001b[0;34m\u001b[0m\u001b[0;34m\u001b[0m\u001b[0m\n\u001b[0m\u001b[1;32m   1064\u001b[0m         \u001b[0;32melif\u001b[0m \u001b[0mtexts\u001b[0m\u001b[0;34m:\u001b[0m\u001b[0;34m\u001b[0m\u001b[0;34m\u001b[0m\u001b[0m\n\u001b[1;32m   1065\u001b[0m             \u001b[0mtext\u001b[0m \u001b[0;34m=\u001b[0m \u001b[0;34m'\\n\\n'\u001b[0m\u001b[0;34m.\u001b[0m\u001b[0mjoin\u001b[0m\u001b[0;34m(\u001b[0m\u001b[0mtexts\u001b[0m\u001b[0;34m)\u001b[0m\u001b[0;34m\u001b[0m\u001b[0;34m\u001b[0m\u001b[0m\n",
            "\u001b[0;32m/usr/local/lib/python3.10/dist-packages/pydantic_ai/agent.py\u001b[0m in \u001b[0;36m_handle_structured_response\u001b[0;34m(self, tool_calls, run_context, result_schema)\u001b[0m\n\u001b[1;32m   1114\u001b[0m \u001b[0;34m\u001b[0m\u001b[0m\n\u001b[1;32m   1115\u001b[0m         \u001b[0;31m# Then build the other request parts based on end strategy\u001b[0m\u001b[0;34m\u001b[0m\u001b[0;34m\u001b[0m\u001b[0m\n\u001b[0;32m-> 1116\u001b[0;31m         parts += await self._process_function_tools(\n\u001b[0m\u001b[1;32m   1117\u001b[0m             \u001b[0mtool_calls\u001b[0m\u001b[0;34m,\u001b[0m \u001b[0mfinal_result\u001b[0m \u001b[0;32mand\u001b[0m \u001b[0mfinal_result\u001b[0m\u001b[0;34m.\u001b[0m\u001b[0mtool_name\u001b[0m\u001b[0;34m,\u001b[0m \u001b[0mrun_context\u001b[0m\u001b[0;34m,\u001b[0m \u001b[0mresult_schema\u001b[0m\u001b[0;34m\u001b[0m\u001b[0;34m\u001b[0m\u001b[0m\n\u001b[1;32m   1118\u001b[0m         )\n",
            "\u001b[0;32m/usr/local/lib/python3.10/dist-packages/pydantic_ai/agent.py\u001b[0m in \u001b[0;36m_process_function_tools\u001b[0;34m(self, tool_calls, result_tool_name, run_context, result_schema)\u001b[0m\n\u001b[1;32m   1176\u001b[0m         \u001b[0;32mif\u001b[0m \u001b[0mtasks\u001b[0m\u001b[0;34m:\u001b[0m\u001b[0;34m\u001b[0m\u001b[0;34m\u001b[0m\u001b[0m\n\u001b[1;32m   1177\u001b[0m             \u001b[0;32mwith\u001b[0m \u001b[0m_logfire\u001b[0m\u001b[0;34m.\u001b[0m\u001b[0mspan\u001b[0m\u001b[0;34m(\u001b[0m\u001b[0;34m'running {tools=}'\u001b[0m\u001b[0;34m,\u001b[0m \u001b[0mtools\u001b[0m\u001b[0;34m=\u001b[0m\u001b[0;34m[\u001b[0m\u001b[0mt\u001b[0m\u001b[0;34m.\u001b[0m\u001b[0mget_name\u001b[0m\u001b[0;34m(\u001b[0m\u001b[0;34m)\u001b[0m \u001b[0;32mfor\u001b[0m \u001b[0mt\u001b[0m \u001b[0;32min\u001b[0m \u001b[0mtasks\u001b[0m\u001b[0;34m]\u001b[0m\u001b[0;34m)\u001b[0m\u001b[0;34m:\u001b[0m\u001b[0;34m\u001b[0m\u001b[0;34m\u001b[0m\u001b[0m\n\u001b[0;32m-> 1178\u001b[0;31m                 \u001b[0mtask_results\u001b[0m\u001b[0;34m:\u001b[0m \u001b[0mSequence\u001b[0m\u001b[0;34m[\u001b[0m\u001b[0m_messages\u001b[0m\u001b[0;34m.\u001b[0m\u001b[0mModelRequestPart\u001b[0m\u001b[0;34m]\u001b[0m \u001b[0;34m=\u001b[0m \u001b[0;32mawait\u001b[0m \u001b[0masyncio\u001b[0m\u001b[0;34m.\u001b[0m\u001b[0mgather\u001b[0m\u001b[0;34m(\u001b[0m\u001b[0;34m*\u001b[0m\u001b[0mtasks\u001b[0m\u001b[0;34m)\u001b[0m\u001b[0;34m\u001b[0m\u001b[0;34m\u001b[0m\u001b[0m\n\u001b[0m\u001b[1;32m   1179\u001b[0m                 \u001b[0mparts\u001b[0m\u001b[0;34m.\u001b[0m\u001b[0mextend\u001b[0m\u001b[0;34m(\u001b[0m\u001b[0mtask_results\u001b[0m\u001b[0;34m)\u001b[0m\u001b[0;34m\u001b[0m\u001b[0;34m\u001b[0m\u001b[0m\n\u001b[1;32m   1180\u001b[0m         \u001b[0;32mreturn\u001b[0m \u001b[0mparts\u001b[0m\u001b[0;34m\u001b[0m\u001b[0;34m\u001b[0m\u001b[0m\n",
            "\u001b[0;32m/usr/local/lib/python3.10/dist-packages/pydantic_ai/tools.py\u001b[0m in \u001b[0;36mrun\u001b[0;34m(self, message, run_context)\u001b[0m\n\u001b[1;32m    257\u001b[0m             \u001b[0;32mif\u001b[0m \u001b[0mself\u001b[0m\u001b[0;34m.\u001b[0m\u001b[0m_is_async\u001b[0m\u001b[0;34m:\u001b[0m\u001b[0;34m\u001b[0m\u001b[0;34m\u001b[0m\u001b[0m\n\u001b[1;32m    258\u001b[0m                 \u001b[0mfunction\u001b[0m \u001b[0;34m=\u001b[0m \u001b[0mcast\u001b[0m\u001b[0;34m(\u001b[0m\u001b[0mCallable\u001b[0m\u001b[0;34m[\u001b[0m\u001b[0;34m[\u001b[0m\u001b[0mAny\u001b[0m\u001b[0;34m]\u001b[0m\u001b[0;34m,\u001b[0m \u001b[0mAwaitable\u001b[0m\u001b[0;34m[\u001b[0m\u001b[0mstr\u001b[0m\u001b[0;34m]\u001b[0m\u001b[0;34m]\u001b[0m\u001b[0;34m,\u001b[0m \u001b[0mself\u001b[0m\u001b[0;34m.\u001b[0m\u001b[0mfunction\u001b[0m\u001b[0;34m)\u001b[0m\u001b[0;34m\u001b[0m\u001b[0;34m\u001b[0m\u001b[0m\n\u001b[0;32m--> 259\u001b[0;31m                 \u001b[0mresponse_content\u001b[0m \u001b[0;34m=\u001b[0m \u001b[0;32mawait\u001b[0m \u001b[0mfunction\u001b[0m\u001b[0;34m(\u001b[0m\u001b[0;34m*\u001b[0m\u001b[0margs\u001b[0m\u001b[0;34m,\u001b[0m \u001b[0;34m**\u001b[0m\u001b[0mkwargs\u001b[0m\u001b[0;34m)\u001b[0m\u001b[0;34m\u001b[0m\u001b[0;34m\u001b[0m\u001b[0m\n\u001b[0m\u001b[1;32m    260\u001b[0m             \u001b[0;32melse\u001b[0m\u001b[0;34m:\u001b[0m\u001b[0;34m\u001b[0m\u001b[0;34m\u001b[0m\u001b[0m\n\u001b[1;32m    261\u001b[0m                 \u001b[0mfunction\u001b[0m \u001b[0;34m=\u001b[0m \u001b[0mcast\u001b[0m\u001b[0;34m(\u001b[0m\u001b[0mCallable\u001b[0m\u001b[0;34m[\u001b[0m\u001b[0;34m[\u001b[0m\u001b[0mAny\u001b[0m\u001b[0;34m]\u001b[0m\u001b[0;34m,\u001b[0m \u001b[0mstr\u001b[0m\u001b[0;34m]\u001b[0m\u001b[0;34m,\u001b[0m \u001b[0mself\u001b[0m\u001b[0;34m.\u001b[0m\u001b[0mfunction\u001b[0m\u001b[0;34m)\u001b[0m\u001b[0;34m\u001b[0m\u001b[0;34m\u001b[0m\u001b[0m\n",
            "\u001b[0;32m<ipython-input-12-575e5aff419e>\u001b[0m in \u001b[0;36mcreate_note_tool\u001b[0;34m(ctx, title, text)\u001b[0m\n\u001b[1;32m      3\u001b[0m \u001b[0;32masync\u001b[0m \u001b[0;32mdef\u001b[0m \u001b[0mcreate_note_tool\u001b[0m\u001b[0;34m(\u001b[0m\u001b[0mctx\u001b[0m\u001b[0;34m:\u001b[0m \u001b[0mRunContext\u001b[0m\u001b[0;34m[\u001b[0m\u001b[0mNoteDependencies\u001b[0m\u001b[0;34m]\u001b[0m\u001b[0;34m,\u001b[0m \u001b[0mtitle\u001b[0m\u001b[0;34m:\u001b[0m \u001b[0mstr\u001b[0m\u001b[0;34m,\u001b[0m \u001b[0mtext\u001b[0m\u001b[0;34m:\u001b[0m \u001b[0mstr\u001b[0m\u001b[0;34m)\u001b[0m \u001b[0;34m->\u001b[0m \u001b[0mNoteResponse\u001b[0m\u001b[0;34m:\u001b[0m\u001b[0;34m\u001b[0m\u001b[0;34m\u001b[0m\u001b[0m\n\u001b[1;32m      4\u001b[0m    \u001b[0mdb\u001b[0m \u001b[0;34m=\u001b[0m \u001b[0mctx\u001b[0m\u001b[0;34m.\u001b[0m\u001b[0mdeps\u001b[0m\u001b[0;34m.\u001b[0m\u001b[0mdb\u001b[0m\u001b[0;34m\u001b[0m\u001b[0;34m\u001b[0m\u001b[0m\n\u001b[0;32m----> 5\u001b[0;31m    \u001b[0msuccess\u001b[0m \u001b[0;34m=\u001b[0m \u001b[0;32mawait\u001b[0m \u001b[0mdb\u001b[0m\u001b[0;34m.\u001b[0m\u001b[0madd_note\u001b[0m\u001b[0;34m(\u001b[0m\u001b[0mtitle\u001b[0m\u001b[0;34m,\u001b[0m \u001b[0mtext\u001b[0m\u001b[0;34m)\u001b[0m\u001b[0;34m\u001b[0m\u001b[0;34m\u001b[0m\u001b[0m\n\u001b[0m\u001b[1;32m      6\u001b[0m    \u001b[0;32mreturn\u001b[0m \u001b[0mNoteResponse\u001b[0m\u001b[0;34m(\u001b[0m\u001b[0mmessage\u001b[0m\u001b[0;34m=\u001b[0m\u001b[0;34m\"CREATED:SUCCESS\"\u001b[0m\u001b[0;34m)\u001b[0m \u001b[0;32mif\u001b[0m \u001b[0msuccess\u001b[0m \u001b[0;32melse\u001b[0m \u001b[0mNoteResponse\u001b[0m\u001b[0;34m(\u001b[0m\u001b[0mmessage\u001b[0m\u001b[0;34m=\u001b[0m\u001b[0;34m\"CREATED:FAILED\"\u001b[0m\u001b[0;34m)\u001b[0m\u001b[0;34m\u001b[0m\u001b[0;34m\u001b[0m\u001b[0m\n\u001b[1;32m      7\u001b[0m \u001b[0;34m\u001b[0m\u001b[0m\n",
            "\u001b[0;32m<ipython-input-9-9b4f0845650c>\u001b[0m in \u001b[0;36madd_note\u001b[0;34m(self, title, text)\u001b[0m\n\u001b[1;32m    111\u001b[0m         \u001b[0mON\u001b[0m \u001b[0mCONFLICT\u001b[0m \u001b[0;34m(\u001b[0m\u001b[0mtitle\u001b[0m\u001b[0;34m)\u001b[0m \u001b[0mDO\u001b[0m \u001b[0mNOTHING\u001b[0m\u001b[0;34m;\u001b[0m\u001b[0;34m\u001b[0m\u001b[0;34m\u001b[0m\u001b[0m\n\u001b[1;32m    112\u001b[0m         \"\"\"\n\u001b[0;32m--> 113\u001b[0;31m         \u001b[0mconn\u001b[0m \u001b[0;34m=\u001b[0m \u001b[0;32mawait\u001b[0m \u001b[0mself\u001b[0m\u001b[0;34m.\u001b[0m\u001b[0m_connect\u001b[0m\u001b[0;34m(\u001b[0m\u001b[0;34m)\u001b[0m\u001b[0;34m\u001b[0m\u001b[0;34m\u001b[0m\u001b[0m\n\u001b[0m\u001b[1;32m    114\u001b[0m         \u001b[0;32mtry\u001b[0m\u001b[0;34m:\u001b[0m\u001b[0;34m\u001b[0m\u001b[0;34m\u001b[0m\u001b[0m\n\u001b[1;32m    115\u001b[0m             \u001b[0mresult\u001b[0m \u001b[0;34m=\u001b[0m \u001b[0;32mawait\u001b[0m \u001b[0mconn\u001b[0m\u001b[0;34m.\u001b[0m\u001b[0mexecute\u001b[0m\u001b[0;34m(\u001b[0m\u001b[0mquery\u001b[0m\u001b[0;34m,\u001b[0m \u001b[0mtitle\u001b[0m\u001b[0;34m,\u001b[0m \u001b[0mtext\u001b[0m\u001b[0;34m)\u001b[0m\u001b[0;34m\u001b[0m\u001b[0;34m\u001b[0m\u001b[0m\n",
            "\u001b[0;32m<ipython-input-9-9b4f0845650c>\u001b[0m in \u001b[0;36m_connect\u001b[0;34m(self)\u001b[0m\n\u001b[1;32m     93\u001b[0m             \u001b[0masyncpg\u001b[0m\u001b[0;34m.\u001b[0m\u001b[0mConnection\u001b[0m\u001b[0;34m:\u001b[0m \u001b[0mAn\u001b[0m \u001b[0mactive\u001b[0m \u001b[0mdatabase\u001b[0m \u001b[0mconnection\u001b[0m\u001b[0;34m.\u001b[0m\u001b[0;34m\u001b[0m\u001b[0;34m\u001b[0m\u001b[0m\n\u001b[1;32m     94\u001b[0m         \"\"\"\n\u001b[0;32m---> 95\u001b[0;31m         \u001b[0;32mreturn\u001b[0m \u001b[0;32mawait\u001b[0m \u001b[0msqlite3\u001b[0m\u001b[0;34m.\u001b[0m\u001b[0mconnect\u001b[0m\u001b[0;34m(\u001b[0m\u001b[0mself\u001b[0m\u001b[0;34m.\u001b[0m\u001b[0mdsn\u001b[0m\u001b[0;34m)\u001b[0m\u001b[0;34m\u001b[0m\u001b[0;34m\u001b[0m\u001b[0m\n\u001b[0m\u001b[1;32m     96\u001b[0m \u001b[0;34m\u001b[0m\u001b[0m\n\u001b[1;32m     97\u001b[0m     \u001b[0;32masync\u001b[0m \u001b[0;32mdef\u001b[0m \u001b[0madd_note\u001b[0m\u001b[0;34m(\u001b[0m\u001b[0mself\u001b[0m\u001b[0;34m,\u001b[0m \u001b[0mtitle\u001b[0m\u001b[0;34m:\u001b[0m \u001b[0mstr\u001b[0m\u001b[0;34m,\u001b[0m \u001b[0mtext\u001b[0m\u001b[0;34m:\u001b[0m \u001b[0mstr\u001b[0m\u001b[0;34m)\u001b[0m \u001b[0;34m->\u001b[0m \u001b[0mbool\u001b[0m\u001b[0;34m:\u001b[0m\u001b[0;34m\u001b[0m\u001b[0;34m\u001b[0m\u001b[0m\n",
            "\u001b[0;31mTypeError\u001b[0m: object sqlite3.Connection can't be used in 'await' expression"
          ]
        }
      ]
    },
    {
      "cell_type": "markdown",
      "source": [
        "# Streamlit App Interface"
      ],
      "metadata": {
        "id": "kW2qhz5465c6"
      }
    },
    {
      "cell_type": "markdown",
      "source": [
        "Final step is to build a user friendly interface to interact with our agent:\n",
        "\n",
        "Install streamlit:"
      ],
      "metadata": {
        "id": "9GwSFPu9688F"
      }
    },
    {
      "cell_type": "code",
      "source": [
        "! pip install streamlit"
      ],
      "metadata": {
        "colab": {
          "base_uri": "https://localhost:8080/"
        },
        "id": "VpVIeqDX66xF",
        "outputId": "d68f7ff0-8b77-43c9-cd08-88b4491ad7b1"
      },
      "execution_count": null,
      "outputs": [
        {
          "output_type": "stream",
          "name": "stdout",
          "text": [
            "Collecting streamlit\n",
            "  Downloading streamlit-1.41.1-py2.py3-none-any.whl.metadata (8.5 kB)\n",
            "Requirement already satisfied: altair<6,>=4.0 in /usr/local/lib/python3.10/dist-packages (from streamlit) (5.5.0)\n",
            "Requirement already satisfied: blinker<2,>=1.0.0 in /usr/local/lib/python3.10/dist-packages (from streamlit) (1.9.0)\n",
            "Requirement already satisfied: cachetools<6,>=4.0 in /usr/local/lib/python3.10/dist-packages (from streamlit) (5.5.0)\n",
            "Requirement already satisfied: click<9,>=7.0 in /usr/local/lib/python3.10/dist-packages (from streamlit) (8.1.7)\n",
            "Requirement already satisfied: numpy<3,>=1.23 in /usr/local/lib/python3.10/dist-packages (from streamlit) (1.26.4)\n",
            "Requirement already satisfied: packaging<25,>=20 in /usr/local/lib/python3.10/dist-packages (from streamlit) (24.2)\n",
            "Requirement already satisfied: pandas<3,>=1.4.0 in /usr/local/lib/python3.10/dist-packages (from streamlit) (2.2.2)\n",
            "Requirement already satisfied: pillow<12,>=7.1.0 in /usr/local/lib/python3.10/dist-packages (from streamlit) (11.0.0)\n",
            "Requirement already satisfied: protobuf<6,>=3.20 in /usr/local/lib/python3.10/dist-packages (from streamlit) (4.25.5)\n",
            "Requirement already satisfied: pyarrow>=7.0 in /usr/local/lib/python3.10/dist-packages (from streamlit) (17.0.0)\n",
            "Requirement already satisfied: requests<3,>=2.27 in /usr/local/lib/python3.10/dist-packages (from streamlit) (2.32.3)\n",
            "Requirement already satisfied: rich<14,>=10.14.0 in /usr/local/lib/python3.10/dist-packages (from streamlit) (13.9.4)\n",
            "Requirement already satisfied: tenacity<10,>=8.1.0 in /usr/local/lib/python3.10/dist-packages (from streamlit) (9.0.0)\n",
            "Requirement already satisfied: toml<2,>=0.10.1 in /usr/local/lib/python3.10/dist-packages (from streamlit) (0.10.2)\n",
            "Requirement already satisfied: typing-extensions<5,>=4.3.0 in /usr/local/lib/python3.10/dist-packages (from streamlit) (4.12.2)\n",
            "Collecting watchdog<7,>=2.1.5 (from streamlit)\n",
            "  Downloading watchdog-6.0.0-py3-none-manylinux2014_x86_64.whl.metadata (44 kB)\n",
            "\u001b[2K     \u001b[90m━━━━━━━━━━━━━━━━━━━━━━━━━━━━━━━━━━━━━━━━\u001b[0m \u001b[32m44.3/44.3 kB\u001b[0m \u001b[31m1.7 MB/s\u001b[0m eta \u001b[36m0:00:00\u001b[0m\n",
            "\u001b[?25hRequirement already satisfied: gitpython!=3.1.19,<4,>=3.0.7 in /usr/local/lib/python3.10/dist-packages (from streamlit) (3.1.43)\n",
            "Collecting pydeck<1,>=0.8.0b4 (from streamlit)\n",
            "  Downloading pydeck-0.9.1-py2.py3-none-any.whl.metadata (4.1 kB)\n",
            "Requirement already satisfied: tornado<7,>=6.0.3 in /usr/local/lib/python3.10/dist-packages (from streamlit) (6.3.3)\n",
            "Requirement already satisfied: jinja2 in /usr/local/lib/python3.10/dist-packages (from altair<6,>=4.0->streamlit) (3.1.4)\n",
            "Requirement already satisfied: jsonschema>=3.0 in /usr/local/lib/python3.10/dist-packages (from altair<6,>=4.0->streamlit) (4.23.0)\n",
            "Requirement already satisfied: narwhals>=1.14.2 in /usr/local/lib/python3.10/dist-packages (from altair<6,>=4.0->streamlit) (1.18.4)\n",
            "Requirement already satisfied: gitdb<5,>=4.0.1 in /usr/local/lib/python3.10/dist-packages (from gitpython!=3.1.19,<4,>=3.0.7->streamlit) (4.0.11)\n",
            "Requirement already satisfied: python-dateutil>=2.8.2 in /usr/local/lib/python3.10/dist-packages (from pandas<3,>=1.4.0->streamlit) (2.8.2)\n",
            "Requirement already satisfied: pytz>=2020.1 in /usr/local/lib/python3.10/dist-packages (from pandas<3,>=1.4.0->streamlit) (2024.2)\n",
            "Requirement already satisfied: tzdata>=2022.7 in /usr/local/lib/python3.10/dist-packages (from pandas<3,>=1.4.0->streamlit) (2024.2)\n",
            "Requirement already satisfied: charset-normalizer<4,>=2 in /usr/local/lib/python3.10/dist-packages (from requests<3,>=2.27->streamlit) (3.4.0)\n",
            "Requirement already satisfied: idna<4,>=2.5 in /usr/local/lib/python3.10/dist-packages (from requests<3,>=2.27->streamlit) (3.10)\n",
            "Requirement already satisfied: urllib3<3,>=1.21.1 in /usr/local/lib/python3.10/dist-packages (from requests<3,>=2.27->streamlit) (2.2.3)\n",
            "Requirement already satisfied: certifi>=2017.4.17 in /usr/local/lib/python3.10/dist-packages (from requests<3,>=2.27->streamlit) (2024.12.14)\n",
            "Requirement already satisfied: markdown-it-py>=2.2.0 in /usr/local/lib/python3.10/dist-packages (from rich<14,>=10.14.0->streamlit) (3.0.0)\n",
            "Requirement already satisfied: pygments<3.0.0,>=2.13.0 in /usr/local/lib/python3.10/dist-packages (from rich<14,>=10.14.0->streamlit) (2.18.0)\n",
            "Requirement already satisfied: smmap<6,>=3.0.1 in /usr/local/lib/python3.10/dist-packages (from gitdb<5,>=4.0.1->gitpython!=3.1.19,<4,>=3.0.7->streamlit) (5.0.1)\n",
            "Requirement already satisfied: MarkupSafe>=2.0 in /usr/local/lib/python3.10/dist-packages (from jinja2->altair<6,>=4.0->streamlit) (3.0.2)\n",
            "Requirement already satisfied: attrs>=22.2.0 in /usr/local/lib/python3.10/dist-packages (from jsonschema>=3.0->altair<6,>=4.0->streamlit) (24.3.0)\n",
            "Requirement already satisfied: jsonschema-specifications>=2023.03.6 in /usr/local/lib/python3.10/dist-packages (from jsonschema>=3.0->altair<6,>=4.0->streamlit) (2024.10.1)\n",
            "Requirement already satisfied: referencing>=0.28.4 in /usr/local/lib/python3.10/dist-packages (from jsonschema>=3.0->altair<6,>=4.0->streamlit) (0.35.1)\n",
            "Requirement already satisfied: rpds-py>=0.7.1 in /usr/local/lib/python3.10/dist-packages (from jsonschema>=3.0->altair<6,>=4.0->streamlit) (0.22.3)\n",
            "Requirement already satisfied: mdurl~=0.1 in /usr/local/lib/python3.10/dist-packages (from markdown-it-py>=2.2.0->rich<14,>=10.14.0->streamlit) (0.1.2)\n",
            "Requirement already satisfied: six>=1.5 in /usr/local/lib/python3.10/dist-packages (from python-dateutil>=2.8.2->pandas<3,>=1.4.0->streamlit) (1.17.0)\n",
            "Downloading streamlit-1.41.1-py2.py3-none-any.whl (9.1 MB)\n",
            "\u001b[2K   \u001b[90m━━━━━━━━━━━━━━━━━━━━━━━━━━━━━━━━━━━━━━━━\u001b[0m \u001b[32m9.1/9.1 MB\u001b[0m \u001b[31m57.8 MB/s\u001b[0m eta \u001b[36m0:00:00\u001b[0m\n",
            "\u001b[?25hDownloading pydeck-0.9.1-py2.py3-none-any.whl (6.9 MB)\n",
            "\u001b[2K   \u001b[90m━━━━━━━━━━━━━━━━━━━━━━━━━━━━━━━━━━━━━━━━\u001b[0m \u001b[32m6.9/6.9 MB\u001b[0m \u001b[31m88.1 MB/s\u001b[0m eta \u001b[36m0:00:00\u001b[0m\n",
            "\u001b[?25hDownloading watchdog-6.0.0-py3-none-manylinux2014_x86_64.whl (79 kB)\n",
            "\u001b[2K   \u001b[90m━━━━━━━━━━━━━━━━━━━━━━━━━━━━━━━━━━━━━━━━\u001b[0m \u001b[32m79.1/79.1 kB\u001b[0m \u001b[31m6.7 MB/s\u001b[0m eta \u001b[36m0:00:00\u001b[0m\n",
            "\u001b[?25hInstalling collected packages: watchdog, pydeck, streamlit\n",
            "Successfully installed pydeck-0.9.1 streamlit-1.41.1 watchdog-6.0.0\n"
          ]
        }
      ]
    },
    {
      "cell_type": "markdown",
      "source": [
        "The below code would create an app.py file in google colab temp directory. We can then use that file to launch our Steamlit app."
      ],
      "metadata": {
        "id": "YFp2t8Eq77zy"
      }
    },
    {
      "cell_type": "code",
      "source": [
        "%%writefile app.py\n",
        "# pip install streamlit\n",
        "# streamlit run app.py\n",
        "\n",
        "import asyncio\n",
        "import streamlit as st\n",
        "#from main import ask # The Ask Function is in the main.py file\n",
        "\n",
        "# Set up Streamlit page\n",
        "st.set_page_config(page_title=\"Note Management Agent\", layout=\"centered\")\n",
        "\n",
        "st.title(\"Note Management System\")\n",
        "st.write(\"Ask the agent to create, retrieve, or list notes.\")\n",
        "\n",
        "# User input\n",
        "user_input = st.text_area(\"Enter your query:\", placeholder=\"e.g., Create a note titled 'Meeting' about tomorrow's meeting.\")\n",
        "\n",
        "if st.button(\"Submit\"):\n",
        "    if not user_input.strip():\n",
        "        st.error(\"Please enter a valid query.\")\n",
        "    else:\n",
        "        # Run the `ask` function asynchronously\n",
        "        with st.spinner(\"Processing...\"):\n",
        "            try:\n",
        "                response = asyncio.run(ask(user_input))\n",
        "\n",
        "                # Handle the response based on the presence of None in `note` and `titles`\n",
        "                if response.note is None and response.titles is None:\n",
        "                    st.success(response.message)\n",
        "                elif response.note is not None and response.titles is None:\n",
        "                    note = response.note\n",
        "                    st.success(response.message)\n",
        "                    st.subheader(f\"Note: {note.get('title', 'Untitled')}\")\n",
        "                    st.write(note.get('text', \"No content available.\"))\n",
        "                elif response.note is None and response.titles is not None:\n",
        "                    titles = response.titles\n",
        "                    st.success(response.message)\n",
        "                    st.subheader(\"List of Notes:\")\n",
        "                    if titles:\n",
        "                        for title in titles:\n",
        "                            st.write(f\"- {title}\")\n",
        "                    else:\n",
        "                        st.info(\"No notes available.\")\n",
        "                else:\n",
        "                    st.error(\"Unexpected response format. Please check your query.\")\n",
        "            except Exception as e:\n",
        "                st.error(f\"An error occurred: {e}\")\n"
      ],
      "metadata": {
        "colab": {
          "base_uri": "https://localhost:8080/"
        },
        "id": "Vk6dZFzN7CWU",
        "outputId": "bbda4185-f13f-49e2-cb98-1025df96e413"
      },
      "execution_count": null,
      "outputs": [
        {
          "output_type": "stream",
          "name": "stdout",
          "text": [
            "Writing app.py\n"
          ]
        }
      ]
    },
    {
      "cell_type": "markdown",
      "source": [
        "## Install localtunnel to serve the Streamlit app"
      ],
      "metadata": {
        "id": "A5llxcVC7js8"
      }
    },
    {
      "cell_type": "code",
      "source": [
        "!npm install localtunnel"
      ],
      "metadata": {
        "colab": {
          "base_uri": "https://localhost:8080/"
        },
        "id": "_PqEkPxC7ltw",
        "outputId": "fa22cbf7-e574-409e-ff18-aa0f190d4706"
      },
      "execution_count": null,
      "outputs": [
        {
          "output_type": "stream",
          "name": "stdout",
          "text": [
            "\u001b[1G\u001b[0K⠙\u001b[1G\u001b[0K⠹\u001b[1G\u001b[0K⠸\u001b[1G\u001b[0K⠼\u001b[1G\u001b[0K⠴\u001b[1G\u001b[0K⠦\u001b[1G\u001b[0K⠧\u001b[1G\u001b[0K⠇\u001b[1G\u001b[0K⠏\u001b[1G\u001b[0K⠋\u001b[1G\u001b[0K⠙\u001b[1G\u001b[0K⠹\u001b[1G\u001b[0K⠸\u001b[1G\u001b[0K⠼\u001b[1G\u001b[0K⠴\u001b[1G\u001b[0K⠦\u001b[1G\u001b[0K⠧\u001b[1G\u001b[0K⠇\u001b[1G\u001b[0K⠏\u001b[1G\u001b[0K⠋\u001b[1G\u001b[0K⠙\u001b[1G\u001b[0K⠹\u001b[1G\u001b[0K⠸\u001b[1G\u001b[0K⠼\u001b[1G\u001b[0K\n",
            "added 22 packages in 3s\n",
            "\u001b[1G\u001b[0K⠼\u001b[1G\u001b[0K\n",
            "\u001b[1G\u001b[0K⠼\u001b[1G\u001b[0K3 packages are looking for funding\n",
            "\u001b[1G\u001b[0K⠼\u001b[1G\u001b[0K  run `npm fund` for details\n",
            "\u001b[1G\u001b[0K⠼\u001b[1G\u001b[0K"
          ]
        }
      ]
    },
    {
      "cell_type": "markdown",
      "source": [
        "## Run the Streamlit app in the background"
      ],
      "metadata": {
        "id": "XkYuqdhK7oLM"
      }
    },
    {
      "cell_type": "code",
      "source": [
        "!streamlit run app.py &>/content/logs.txt &"
      ],
      "metadata": {
        "id": "5Qj6wKmF7q9k"
      },
      "execution_count": null,
      "outputs": []
    },
    {
      "cell_type": "code",
      "source": [
        "import urllib\n",
        "print(\"Password/Enpoint IP for localtunnel is:\",urllib.request.urlopen('https://ipv4.icanhazip.com').read().decode('utf8').strip(\"\\n\"))"
      ],
      "metadata": {
        "colab": {
          "base_uri": "https://localhost:8080/"
        },
        "id": "XCPKDbdO9KZl",
        "outputId": "e36474d0-ae52-4edb-b905-f333bbc439a4"
      },
      "execution_count": null,
      "outputs": [
        {
          "output_type": "stream",
          "name": "stdout",
          "text": [
            "Password/Enpoint IP for localtunnel is: 35.196.231.166\n"
          ]
        }
      ]
    },
    {
      "cell_type": "markdown",
      "source": [
        "This will give you the EnpointIP your Internet is running on. The copy that IP & paste it into the Friendly Reminder page.\n",
        "Then you should be directed into your streamlit web app page.\n",
        "\n",
        "This is a great way to test your web app before actual deployment. I hope that helps"
      ],
      "metadata": {
        "id": "gaVQ_3dm9Xuc"
      }
    },
    {
      "cell_type": "markdown",
      "source": [
        "## Expose the Streamlit app on port 8501"
      ],
      "metadata": {
        "id": "4CsLd4rA7s19"
      }
    },
    {
      "cell_type": "code",
      "source": [
        "!npx localtunnel --port 8501"
      ],
      "metadata": {
        "id": "Gcwrkjda7wHJ"
      },
      "execution_count": null,
      "outputs": []
    }
  ]
}