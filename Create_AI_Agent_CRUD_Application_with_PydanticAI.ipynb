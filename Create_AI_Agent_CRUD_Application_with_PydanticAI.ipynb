{
  "nbformat": 4,
  "nbformat_minor": 0,
  "metadata": {
    "colab": {
      "provenance": [],
      "authorship_tag": "ABX9TyNUAi0kgQQwo6zct/Wq6VGO",
      "include_colab_link": true
    },
    "kernelspec": {
      "name": "python3",
      "display_name": "Python 3"
    },
    "language_info": {
      "name": "python"
    }
  },
  "cells": [
    {
      "cell_type": "markdown",
      "metadata": {
        "id": "view-in-github",
        "colab_type": "text"
      },
      "source": [
        "<a href=\"https://colab.research.google.com/github/NewCodeLearner/LLM-Applications/blob/main/Create_AI_Agent_CRUD_Application_with_PydanticAI.ipynb\" target=\"_parent\"><img src=\"https://colab.research.google.com/assets/colab-badge.svg\" alt=\"Open In Colab\"/></a>"
      ]
    },
    {
      "cell_type": "markdown",
      "source": [
        "# Chapter 1: PydanticAI"
      ],
      "metadata": {
        "id": "A_ubxB0vUc9g"
      }
    },
    {
      "cell_type": "markdown",
      "source": [
        "Before you get started - check for the python version that you are on. PydanticAI requires python time 3.9+\n",
        "\n",
        "python --version\n"
      ],
      "metadata": {
        "id": "V0L-U6oNaT1K"
      }
    },
    {
      "cell_type": "code",
      "execution_count": 1,
      "metadata": {
        "colab": {
          "base_uri": "https://localhost:8080/"
        },
        "id": "d0bs2iw-Otw3",
        "outputId": "909bf1d7-7854-41e7-b0de-3378e77d270f"
      },
      "outputs": [
        {
          "output_type": "stream",
          "name": "stdout",
          "text": [
            "Python 3.10.12\n"
          ]
        }
      ],
      "source": [
        "!python --version"
      ]
    },
    {
      "cell_type": "markdown",
      "source": [
        "Install PydanticAI"
      ],
      "metadata": {
        "id": "iZCOt62radrr"
      }
    },
    {
      "cell_type": "code",
      "source": [
        "!pip install pydantic-ai"
      ],
      "metadata": {
        "colab": {
          "base_uri": "https://localhost:8080/",
          "height": 1000
        },
        "id": "jlEXf0BnU43b",
        "outputId": "12251f75-f321-463b-e1d9-c810a4586187"
      },
      "execution_count": 2,
      "outputs": [
        {
          "output_type": "stream",
          "name": "stdout",
          "text": [
            "Collecting pydantic-ai\n",
            "  Downloading pydantic_ai-0.0.17-py3-none-any.whl.metadata (11 kB)\n",
            "Collecting pydantic-ai-slim==0.0.17 (from pydantic-ai-slim[anthropic,groq,mistral,openai,vertexai]==0.0.17->pydantic-ai)\n",
            "  Downloading pydantic_ai_slim-0.0.17-py3-none-any.whl.metadata (2.7 kB)\n",
            "Requirement already satisfied: eval-type-backport>=0.2.0 in /usr/local/lib/python3.10/dist-packages (from pydantic-ai-slim==0.0.17->pydantic-ai-slim[anthropic,groq,mistral,openai,vertexai]==0.0.17->pydantic-ai) (0.2.0)\n",
            "Collecting griffe>=1.3.2 (from pydantic-ai-slim==0.0.17->pydantic-ai-slim[anthropic,groq,mistral,openai,vertexai]==0.0.17->pydantic-ai)\n",
            "  Downloading griffe-1.5.4-py3-none-any.whl.metadata (5.0 kB)\n",
            "Requirement already satisfied: httpx>=0.27.2 in /usr/local/lib/python3.10/dist-packages (from pydantic-ai-slim==0.0.17->pydantic-ai-slim[anthropic,groq,mistral,openai,vertexai]==0.0.17->pydantic-ai) (0.28.1)\n",
            "Collecting logfire-api>=1.2.0 (from pydantic-ai-slim==0.0.17->pydantic-ai-slim[anthropic,groq,mistral,openai,vertexai]==0.0.17->pydantic-ai)\n",
            "  Downloading logfire_api-3.0.0-py3-none-any.whl.metadata (971 bytes)\n",
            "Requirement already satisfied: pydantic>=2.10 in /usr/local/lib/python3.10/dist-packages (from pydantic-ai-slim==0.0.17->pydantic-ai-slim[anthropic,groq,mistral,openai,vertexai]==0.0.17->pydantic-ai) (2.10.3)\n",
            "Collecting anthropic>=0.40.0 (from pydantic-ai-slim[anthropic,groq,mistral,openai,vertexai]==0.0.17->pydantic-ai)\n",
            "  Downloading anthropic-0.42.0-py3-none-any.whl.metadata (23 kB)\n",
            "Collecting groq>=0.12.0 (from pydantic-ai-slim[anthropic,groq,mistral,openai,vertexai]==0.0.17->pydantic-ai)\n",
            "  Downloading groq-0.13.1-py3-none-any.whl.metadata (14 kB)\n",
            "Collecting mistralai>=1.2.5 (from pydantic-ai-slim[anthropic,groq,mistral,openai,vertexai]==0.0.17->pydantic-ai)\n",
            "  Downloading mistralai-1.2.6-py3-none-any.whl.metadata (28 kB)\n",
            "Collecting google-auth>=2.36.0 (from pydantic-ai-slim[anthropic,groq,mistral,openai,vertexai]==0.0.17->pydantic-ai)\n",
            "  Downloading google_auth-2.37.0-py2.py3-none-any.whl.metadata (4.8 kB)\n",
            "Requirement already satisfied: requests>=2.32.3 in /usr/local/lib/python3.10/dist-packages (from pydantic-ai-slim[anthropic,groq,mistral,openai,vertexai]==0.0.17->pydantic-ai) (2.32.3)\n",
            "Requirement already satisfied: openai>=1.54.3 in /usr/local/lib/python3.10/dist-packages (from pydantic-ai-slim[anthropic,groq,mistral,openai,vertexai]==0.0.17->pydantic-ai) (1.57.4)\n",
            "Requirement already satisfied: anyio<5,>=3.5.0 in /usr/local/lib/python3.10/dist-packages (from anthropic>=0.40.0->pydantic-ai-slim[anthropic,groq,mistral,openai,vertexai]==0.0.17->pydantic-ai) (3.7.1)\n",
            "Requirement already satisfied: distro<2,>=1.7.0 in /usr/local/lib/python3.10/dist-packages (from anthropic>=0.40.0->pydantic-ai-slim[anthropic,groq,mistral,openai,vertexai]==0.0.17->pydantic-ai) (1.9.0)\n",
            "Requirement already satisfied: jiter<1,>=0.4.0 in /usr/local/lib/python3.10/dist-packages (from anthropic>=0.40.0->pydantic-ai-slim[anthropic,groq,mistral,openai,vertexai]==0.0.17->pydantic-ai) (0.8.2)\n",
            "Requirement already satisfied: sniffio in /usr/local/lib/python3.10/dist-packages (from anthropic>=0.40.0->pydantic-ai-slim[anthropic,groq,mistral,openai,vertexai]==0.0.17->pydantic-ai) (1.3.1)\n",
            "Requirement already satisfied: typing-extensions<5,>=4.10 in /usr/local/lib/python3.10/dist-packages (from anthropic>=0.40.0->pydantic-ai-slim[anthropic,groq,mistral,openai,vertexai]==0.0.17->pydantic-ai) (4.12.2)\n",
            "Requirement already satisfied: cachetools<6.0,>=2.0.0 in /usr/local/lib/python3.10/dist-packages (from google-auth>=2.36.0->pydantic-ai-slim[anthropic,groq,mistral,openai,vertexai]==0.0.17->pydantic-ai) (5.5.0)\n",
            "Requirement already satisfied: pyasn1-modules>=0.2.1 in /usr/local/lib/python3.10/dist-packages (from google-auth>=2.36.0->pydantic-ai-slim[anthropic,groq,mistral,openai,vertexai]==0.0.17->pydantic-ai) (0.4.1)\n",
            "Requirement already satisfied: rsa<5,>=3.1.4 in /usr/local/lib/python3.10/dist-packages (from google-auth>=2.36.0->pydantic-ai-slim[anthropic,groq,mistral,openai,vertexai]==0.0.17->pydantic-ai) (4.9)\n",
            "Collecting colorama>=0.4 (from griffe>=1.3.2->pydantic-ai-slim==0.0.17->pydantic-ai-slim[anthropic,groq,mistral,openai,vertexai]==0.0.17->pydantic-ai)\n",
            "  Downloading colorama-0.4.6-py2.py3-none-any.whl.metadata (17 kB)\n",
            "Requirement already satisfied: certifi in /usr/local/lib/python3.10/dist-packages (from httpx>=0.27.2->pydantic-ai-slim==0.0.17->pydantic-ai-slim[anthropic,groq,mistral,openai,vertexai]==0.0.17->pydantic-ai) (2024.12.14)\n",
            "Requirement already satisfied: httpcore==1.* in /usr/local/lib/python3.10/dist-packages (from httpx>=0.27.2->pydantic-ai-slim==0.0.17->pydantic-ai-slim[anthropic,groq,mistral,openai,vertexai]==0.0.17->pydantic-ai) (1.0.7)\n",
            "Requirement already satisfied: idna in /usr/local/lib/python3.10/dist-packages (from httpx>=0.27.2->pydantic-ai-slim==0.0.17->pydantic-ai-slim[anthropic,groq,mistral,openai,vertexai]==0.0.17->pydantic-ai) (3.10)\n",
            "Requirement already satisfied: h11<0.15,>=0.13 in /usr/local/lib/python3.10/dist-packages (from httpcore==1.*->httpx>=0.27.2->pydantic-ai-slim==0.0.17->pydantic-ai-slim[anthropic,groq,mistral,openai,vertexai]==0.0.17->pydantic-ai) (0.14.0)\n",
            "Collecting httpx>=0.27.2 (from pydantic-ai-slim==0.0.17->pydantic-ai-slim[anthropic,groq,mistral,openai,vertexai]==0.0.17->pydantic-ai)\n",
            "  Downloading httpx-0.27.2-py3-none-any.whl.metadata (7.1 kB)\n",
            "Collecting jsonpath-python<2.0.0,>=1.0.6 (from mistralai>=1.2.5->pydantic-ai-slim[anthropic,groq,mistral,openai,vertexai]==0.0.17->pydantic-ai)\n",
            "  Downloading jsonpath_python-1.0.6-py3-none-any.whl.metadata (12 kB)\n",
            "Requirement already satisfied: python-dateutil<3.0.0,>=2.8.2 in /usr/local/lib/python3.10/dist-packages (from mistralai>=1.2.5->pydantic-ai-slim[anthropic,groq,mistral,openai,vertexai]==0.0.17->pydantic-ai) (2.8.2)\n",
            "Collecting typing-inspect<0.10.0,>=0.9.0 (from mistralai>=1.2.5->pydantic-ai-slim[anthropic,groq,mistral,openai,vertexai]==0.0.17->pydantic-ai)\n",
            "  Downloading typing_inspect-0.9.0-py3-none-any.whl.metadata (1.5 kB)\n",
            "Requirement already satisfied: tqdm>4 in /usr/local/lib/python3.10/dist-packages (from openai>=1.54.3->pydantic-ai-slim[anthropic,groq,mistral,openai,vertexai]==0.0.17->pydantic-ai) (4.67.1)\n",
            "Requirement already satisfied: annotated-types>=0.6.0 in /usr/local/lib/python3.10/dist-packages (from pydantic>=2.10->pydantic-ai-slim==0.0.17->pydantic-ai-slim[anthropic,groq,mistral,openai,vertexai]==0.0.17->pydantic-ai) (0.7.0)\n",
            "Requirement already satisfied: pydantic-core==2.27.1 in /usr/local/lib/python3.10/dist-packages (from pydantic>=2.10->pydantic-ai-slim==0.0.17->pydantic-ai-slim[anthropic,groq,mistral,openai,vertexai]==0.0.17->pydantic-ai) (2.27.1)\n",
            "Requirement already satisfied: charset-normalizer<4,>=2 in /usr/local/lib/python3.10/dist-packages (from requests>=2.32.3->pydantic-ai-slim[anthropic,groq,mistral,openai,vertexai]==0.0.17->pydantic-ai) (3.4.0)\n",
            "Requirement already satisfied: urllib3<3,>=1.21.1 in /usr/local/lib/python3.10/dist-packages (from requests>=2.32.3->pydantic-ai-slim[anthropic,groq,mistral,openai,vertexai]==0.0.17->pydantic-ai) (2.2.3)\n",
            "Requirement already satisfied: exceptiongroup in /usr/local/lib/python3.10/dist-packages (from anyio<5,>=3.5.0->anthropic>=0.40.0->pydantic-ai-slim[anthropic,groq,mistral,openai,vertexai]==0.0.17->pydantic-ai) (1.2.2)\n",
            "Requirement already satisfied: pyasn1<0.7.0,>=0.4.6 in /usr/local/lib/python3.10/dist-packages (from pyasn1-modules>=0.2.1->google-auth>=2.36.0->pydantic-ai-slim[anthropic,groq,mistral,openai,vertexai]==0.0.17->pydantic-ai) (0.6.1)\n",
            "Requirement already satisfied: six>=1.5 in /usr/local/lib/python3.10/dist-packages (from python-dateutil<3.0.0,>=2.8.2->mistralai>=1.2.5->pydantic-ai-slim[anthropic,groq,mistral,openai,vertexai]==0.0.17->pydantic-ai) (1.17.0)\n",
            "Collecting mypy-extensions>=0.3.0 (from typing-inspect<0.10.0,>=0.9.0->mistralai>=1.2.5->pydantic-ai-slim[anthropic,groq,mistral,openai,vertexai]==0.0.17->pydantic-ai)\n",
            "  Downloading mypy_extensions-1.0.0-py3-none-any.whl.metadata (1.1 kB)\n",
            "Downloading pydantic_ai-0.0.17-py3-none-any.whl (9.7 kB)\n",
            "Downloading pydantic_ai_slim-0.0.17-py3-none-any.whl (80 kB)\n",
            "\u001b[2K   \u001b[90m━━━━━━━━━━━━━━━━━━━━━━━━━━━━━━━━━━━━━━━━\u001b[0m \u001b[32m80.6/80.6 kB\u001b[0m \u001b[31m2.8 MB/s\u001b[0m eta \u001b[36m0:00:00\u001b[0m\n",
            "\u001b[?25hDownloading anthropic-0.42.0-py3-none-any.whl (203 kB)\n",
            "\u001b[2K   \u001b[90m━━━━━━━━━━━━━━━━━━━━━━━━━━━━━━━━━━━━━━━━\u001b[0m \u001b[32m203.4/203.4 kB\u001b[0m \u001b[31m8.8 MB/s\u001b[0m eta \u001b[36m0:00:00\u001b[0m\n",
            "\u001b[?25hDownloading google_auth-2.37.0-py2.py3-none-any.whl (209 kB)\n",
            "\u001b[2K   \u001b[90m━━━━━━━━━━━━━━━━━━━━━━━━━━━━━━━━━━━━━━━━\u001b[0m \u001b[32m209.8/209.8 kB\u001b[0m \u001b[31m12.7 MB/s\u001b[0m eta \u001b[36m0:00:00\u001b[0m\n",
            "\u001b[?25hDownloading griffe-1.5.4-py3-none-any.whl (128 kB)\n",
            "\u001b[2K   \u001b[90m━━━━━━━━━━━━━━━━━━━━━━━━━━━━━━━━━━━━━━━━\u001b[0m \u001b[32m128.1/128.1 kB\u001b[0m \u001b[31m8.2 MB/s\u001b[0m eta \u001b[36m0:00:00\u001b[0m\n",
            "\u001b[?25hDownloading groq-0.13.1-py3-none-any.whl (109 kB)\n",
            "\u001b[2K   \u001b[90m━━━━━━━━━━━━━━━━━━━━━━━━━━━━━━━━━━━━━━━━\u001b[0m \u001b[32m109.1/109.1 kB\u001b[0m \u001b[31m6.8 MB/s\u001b[0m eta \u001b[36m0:00:00\u001b[0m\n",
            "\u001b[?25hDownloading logfire_api-3.0.0-py3-none-any.whl (72 kB)\n",
            "\u001b[2K   \u001b[90m━━━━━━━━━━━━━━━━━━━━━━━━━━━━━━━━━━━━━━━━\u001b[0m \u001b[32m72.8/72.8 kB\u001b[0m \u001b[31m4.7 MB/s\u001b[0m eta \u001b[36m0:00:00\u001b[0m\n",
            "\u001b[?25hDownloading mistralai-1.2.6-py3-none-any.whl (261 kB)\n",
            "\u001b[2K   \u001b[90m━━━━━━━━━━━━━━━━━━━━━━━━━━━━━━━━━━━━━━━━\u001b[0m \u001b[32m261.3/261.3 kB\u001b[0m \u001b[31m15.6 MB/s\u001b[0m eta \u001b[36m0:00:00\u001b[0m\n",
            "\u001b[?25hDownloading httpx-0.27.2-py3-none-any.whl (76 kB)\n",
            "\u001b[2K   \u001b[90m━━━━━━━━━━━━━━━━━━━━━━━━━━━━━━━━━━━━━━━━\u001b[0m \u001b[32m76.4/76.4 kB\u001b[0m \u001b[31m5.3 MB/s\u001b[0m eta \u001b[36m0:00:00\u001b[0m\n",
            "\u001b[?25hDownloading colorama-0.4.6-py2.py3-none-any.whl (25 kB)\n",
            "Downloading jsonpath_python-1.0.6-py3-none-any.whl (7.6 kB)\n",
            "Downloading typing_inspect-0.9.0-py3-none-any.whl (8.8 kB)\n",
            "Downloading mypy_extensions-1.0.0-py3-none-any.whl (4.7 kB)\n",
            "Installing collected packages: mypy-extensions, logfire-api, jsonpath-python, colorama, typing-inspect, httpx, griffe, google-auth, pydantic-ai-slim, mistralai, groq, anthropic, pydantic-ai\n",
            "  Attempting uninstall: httpx\n",
            "    Found existing installation: httpx 0.28.1\n",
            "    Uninstalling httpx-0.28.1:\n",
            "      Successfully uninstalled httpx-0.28.1\n",
            "  Attempting uninstall: google-auth\n",
            "    Found existing installation: google-auth 2.27.0\n",
            "    Uninstalling google-auth-2.27.0:\n",
            "      Successfully uninstalled google-auth-2.27.0\n",
            "\u001b[31mERROR: pip's dependency resolver does not currently take into account all the packages that are installed. This behaviour is the source of the following dependency conflicts.\n",
            "google-colab 1.0.0 requires google-auth==2.27.0, but you have google-auth 2.37.0 which is incompatible.\u001b[0m\u001b[31m\n",
            "\u001b[0mSuccessfully installed anthropic-0.42.0 colorama-0.4.6 google-auth-2.37.0 griffe-1.5.4 groq-0.13.1 httpx-0.27.2 jsonpath-python-1.0.6 logfire-api-3.0.0 mistralai-1.2.6 mypy-extensions-1.0.0 pydantic-ai-0.0.17 pydantic-ai-slim-0.0.17 typing-inspect-0.9.0\n"
          ]
        },
        {
          "output_type": "display_data",
          "data": {
            "application/vnd.colab-display-data+json": {
              "pip_warning": {
                "packages": [
                  "google"
                ]
              },
              "id": "0a08e0b9ce9a40c6995faa55b61c0cfb"
            }
          },
          "metadata": {}
        }
      ]
    },
    {
      "cell_type": "markdown",
      "source": [
        "Pydantic AI Basics\n",
        "\n",
        "Agent class is the main class within PydanticAI, you can read more about it here - https://ai.pydantic.dev/api/agent/"
      ],
      "metadata": {
        "id": "2xt3k16WavHC"
      }
    },
    {
      "cell_type": "markdown",
      "source": [
        "Available Models at time of print:\n",
        "\n",
        "KnownModelName = Literal[\n",
        "    \"openai:gpt-4o\",\n",
        "    \"openai:gpt-4o-mini\",\n",
        "    \"openai:gpt-4-turbo\",\n",
        "    \"openai:gpt-4\",\n",
        "    \"openai:o1-preview\",\n",
        "    \"openai:o1-mini\",\n",
        "    \"openai:o1\",\n",
        "    \"openai:gpt-3.5-turbo\",\n",
        "    \"groq:llama-3.3-70b-versatile\",\n",
        "    \"groq:llama-3.1-70b-versatile\",\n",
        "    \"groq:llama3-groq-70b-8192-tool-use-preview\",\n",
        "    \"groq:llama3-groq-8b-8192-tool-use-preview\",\n",
        "    \"groq:llama-3.1-70b-specdec\",\n",
        "    \"groq:llama-3.1-8b-instant\",\n",
        "    \"groq:llama-3.2-1b-preview\",\n",
        "    \"groq:llama-3.2-3b-preview\",\n",
        "    \"groq:llama-3.2-11b-vision-preview\",\n",
        "    \"groq:llama-3.2-90b-vision-preview\",\n",
        "    \"groq:llama3-70b-8192\",\n",
        "    \"groq:llama3-8b-8192\",\n",
        "    \"groq:mixtral-8x7b-32768\",\n",
        "    \"groq:gemma2-9b-it\",\n",
        "    \"groq:gemma-7b-it\",\n",
        "    \"gemini-1.5-flash\",\n",
        "    \"gemini-1.5-pro\",\n",
        "    \"gemini-2.0-flash-exp\",\n",
        "    \"vertexai:gemini-1.5-flash\",\n",
        "    \"vertexai:gemini-1.5-pro\",\n",
        "    \"mistral:mistral-small-latest\",\n",
        "    \"mistral:mistral-large-latest\",\n",
        "    \"mistral:codestral-latest\",\n",
        "    \"mistral:mistral-moderation-latest\",\n",
        "    \"ollama:codellama\",\n",
        "    \"ollama:gemma\",\n",
        "    \"ollama:gemma2\",\n",
        "    \"ollama:llama3\",\n",
        "    \"ollama:llama3.1\",\n",
        "    \"ollama:llama3.2\",\n",
        "    \"ollama:llama3.2-vision\",\n",
        "    \"ollama:llama3.3\",\n",
        "    \"ollama:mistral\",\n",
        "    \"ollama:mistral-nemo\",\n",
        "    \"ollama:mixtral\",\n",
        "    \"ollama:phi3\",\n",
        "    \"ollama:qwq\",\n",
        "    \"ollama:qwen\",\n",
        "    \"ollama:qwen2\",\n",
        "    \"ollama:qwen2.5\",\n",
        "    \"ollama:starcoder2\",\n",
        "    \"claude-3-5-haiku-latest\",\n",
        "    \"claude-3-5-sonnet-latest\",\n",
        "    \"claude-3-opus-latest\",\n",
        "    \"test\",\n",
        "]"
      ],
      "metadata": {
        "id": "ibI5MllNa8xO"
      }
    },
    {
      "cell_type": "markdown",
      "source": [
        "We will use Groq models, so start by using the API key from google colab secret or set as an environment variable:"
      ],
      "metadata": {
        "id": "qbk8OESnbKz7"
      }
    },
    {
      "cell_type": "code",
      "source": [
        "!pip install groq"
      ],
      "metadata": {
        "colab": {
          "base_uri": "https://localhost:8080/"
        },
        "id": "whetAWZnVQJl",
        "outputId": "a1f60caf-9a27-49f5-b777-4cf556e79178"
      },
      "execution_count": 3,
      "outputs": [
        {
          "output_type": "stream",
          "name": "stdout",
          "text": [
            "Requirement already satisfied: groq in /usr/local/lib/python3.10/dist-packages (0.13.1)\n",
            "Requirement already satisfied: anyio<5,>=3.5.0 in /usr/local/lib/python3.10/dist-packages (from groq) (3.7.1)\n",
            "Requirement already satisfied: distro<2,>=1.7.0 in /usr/local/lib/python3.10/dist-packages (from groq) (1.9.0)\n",
            "Requirement already satisfied: httpx<1,>=0.23.0 in /usr/local/lib/python3.10/dist-packages (from groq) (0.27.2)\n",
            "Requirement already satisfied: pydantic<3,>=1.9.0 in /usr/local/lib/python3.10/dist-packages (from groq) (2.10.3)\n",
            "Requirement already satisfied: sniffio in /usr/local/lib/python3.10/dist-packages (from groq) (1.3.1)\n",
            "Requirement already satisfied: typing-extensions<5,>=4.10 in /usr/local/lib/python3.10/dist-packages (from groq) (4.12.2)\n",
            "Requirement already satisfied: idna>=2.8 in /usr/local/lib/python3.10/dist-packages (from anyio<5,>=3.5.0->groq) (3.10)\n",
            "Requirement already satisfied: exceptiongroup in /usr/local/lib/python3.10/dist-packages (from anyio<5,>=3.5.0->groq) (1.2.2)\n",
            "Requirement already satisfied: certifi in /usr/local/lib/python3.10/dist-packages (from httpx<1,>=0.23.0->groq) (2024.12.14)\n",
            "Requirement already satisfied: httpcore==1.* in /usr/local/lib/python3.10/dist-packages (from httpx<1,>=0.23.0->groq) (1.0.7)\n",
            "Requirement already satisfied: h11<0.15,>=0.13 in /usr/local/lib/python3.10/dist-packages (from httpcore==1.*->httpx<1,>=0.23.0->groq) (0.14.0)\n",
            "Requirement already satisfied: annotated-types>=0.6.0 in /usr/local/lib/python3.10/dist-packages (from pydantic<3,>=1.9.0->groq) (0.7.0)\n",
            "Requirement already satisfied: pydantic-core==2.27.1 in /usr/local/lib/python3.10/dist-packages (from pydantic<3,>=1.9.0->groq) (2.27.1)\n"
          ]
        }
      ]
    },
    {
      "cell_type": "markdown",
      "source": [
        "Import API Key from Google Colab"
      ],
      "metadata": {
        "id": "a05mug-CbUQL"
      }
    },
    {
      "cell_type": "code",
      "source": [
        "import os\n",
        "from google.colab import userdata\n",
        "\n",
        "GROQ_API_KEY=userdata.get('GROQ_API_KEY')"
      ],
      "metadata": {
        "id": "PkCO4w1-Vjux"
      },
      "execution_count": 4,
      "outputs": []
    },
    {
      "cell_type": "code",
      "source": [
        "from pydantic_ai import Agent\n",
        "from pydantic_ai.models.groq  import GroqModel\n",
        "\n",
        "model = GroqModel('llama-3.1-70b-versatile',api_key=GROQ_API_KEY)\n",
        "agent = Agent(model)\n"
      ],
      "metadata": {
        "id": "MQimB7DgVsNT"
      },
      "execution_count": 5,
      "outputs": []
    },
    {
      "cell_type": "code",
      "source": [
        "import asyncio\n",
        "async def main():\n",
        "  result = await agent.run(\"What is Bitcoin\")\n",
        "  print(result.data)\n",
        "\n",
        "await main()"
      ],
      "metadata": {
        "colab": {
          "base_uri": "https://localhost:8080/"
        },
        "id": "4rVplcCWWZuG",
        "outputId": "84c4b74a-1fa7-4dfe-89ea-87df0eeaee0d"
      },
      "execution_count": 6,
      "outputs": [
        {
          "output_type": "stream",
          "name": "stdout",
          "text": [
            "**What is Bitcoin?**\n",
            "\n",
            "Bitcoin (BTC) is a decentralized digital currency that allows for peer-to-peer transactions without the need for intermediaries like banks or governments. It was created in 2009 by an anonymous individual or group of individuals using the pseudonym Satoshi Nakamoto.\n",
            "\n",
            "**Key Features of Bitcoin:**\n",
            "\n",
            "1. **Decentralized**: Bitcoin is not controlled by any government, institution, or individual. It operates on a peer-to-peer network, allowing users to transact directly with each other.\n",
            "2. **Digital**: Bitcoin exists only in digital form, with no physical coins or notes.\n",
            "3. **Limited Supply**: The total supply of Bitcoin is capped at 21 million, which helps to prevent inflation and maintain the value of each coin.\n",
            "4. **Cryptographic Security**: Bitcoin uses advanced cryptography to secure transactions and control the creation of new units.\n",
            "5. **Open-Source**: The Bitcoin protocol is open-source, allowing developers to review and contribute to the code.\n",
            "\n",
            "**How Bitcoin Works:**\n",
            "\n",
            "1. **Mining**: New Bitcoins are created through a process called mining, where powerful computers solve complex mathematical problems to validate transactions and add them to the blockchain.\n",
            "2. **Blockchain**: The blockchain is a public ledger that records all Bitcoin transactions. It is maintained by a network of nodes and is updated in real-time.\n",
            "3. **Wallets**: Users can store their Bitcoins in digital wallets, which can be accessed through software or hardware devices.\n",
            "4. **Transactions**: Users can send and receive Bitcoins using their wallets, with transactions being verified by the network of nodes.\n",
            "\n",
            "**Advantages of Bitcoin:**\n",
            "\n",
            "1. **Decentralization**: Bitcoin operates independently of central banks and governments.\n",
            "2. **Security**: Bitcoin's cryptographic security features make it a secure way to transact.\n",
            "3. **Limited Supply**: The limited supply of Bitcoin helps to maintain its value over time.\n",
            "4. **Global Accessibility**: Bitcoin can be accessed from anywhere in the world, making it a global currency.\n",
            "\n",
            "**Disadvantages of Bitcoin:**\n",
            "\n",
            "1. **Volatility**: The value of Bitcoin can be highly volatile, making it a risky investment.\n",
            "2. **Lack of Regulation**: Bitcoin is not regulated by governments, which can make it difficult to resolve disputes or protect consumers.\n",
            "3. **Environmental Impact**: The energy consumption required to mine Bitcoin has a significant environmental impact.\n",
            "4. **Security Risks**: While Bitcoin's cryptographic security features are robust, users can still be vulnerable to hacking and other security risks if they do not take proper precautions.\n",
            "\n",
            "Overall, Bitcoin is a unique digital currency that offers a decentralized and secure way to transact. However, it is not without its risks and drawbacks, and users should approach it with caution and a clear understanding of its mechanics and limitations.\n"
          ]
        }
      ]
    },
    {
      "cell_type": "markdown",
      "source": [
        "# PydanticAI with Tools"
      ],
      "metadata": {
        "id": "fBY8p1HArs9z"
      }
    },
    {
      "cell_type": "markdown",
      "source": [
        "The reason why pydanticAI is so powerful is --- structured data. You can utilise Pydantic to create structured outputs that you can use with tools. We will build an example \"Note Manager\". The note manager is an assistant that allows you to create, list and retrieve notes. This is a perfect example to demostrate how powerful PydanticAI is. For this we will use a sqllite database, here is the code for the database:\n",
        "\n",
        "You will need to install the following:"
      ],
      "metadata": {
        "id": "y6n_T3f5ss18"
      }
    },
    {
      "cell_type": "code",
      "source": [
        "import sqlite3 # Connect to the new SQLite database\n",
        "conn = sqlite3.connect('new_database.db')\n",
        "cursor = conn.cursor()\n",
        "# Example query to test the connection\n",
        "cursor.execute(\"SELECT name FROM sqlite_master WHERE type='table';\")\n",
        "print(cursor.fetchall()) # Close the connection conn.close()"
      ],
      "metadata": {
        "colab": {
          "base_uri": "https://localhost:8080/"
        },
        "id": "ZxgS0QrQsdHJ",
        "outputId": "a496dd2d-0595-4544-c5ac-aae1de203d58"
      },
      "execution_count": 10,
      "outputs": [
        {
          "output_type": "stream",
          "name": "stdout",
          "text": [
            "[('notes',)]\n"
          ]
        }
      ]
    },
    {
      "cell_type": "code",
      "source": [
        "import sqlite3\n",
        "\n",
        "def create_notes_table():\n",
        "    \"\"\"\n",
        "    Creates a table named 'notes' with columns 'title' (up to 200 characters) and 'text' (unlimited length).\n",
        "\n",
        "    \"\"\"\n",
        "\n",
        "    create_table_query = \"\"\"\n",
        "    CREATE TABLE IF NOT EXISTS notes (\n",
        "        id SERIAL PRIMARY KEY,\n",
        "        title VARCHAR(200) UNIQUE NOT NULL,\n",
        "        text TEXT NOT NULL\n",
        "    );\n",
        "    \"\"\"\n",
        "    try:\n",
        "        # Connect to the database\n",
        "        connection = sqlite3.connect('new_database.db')\n",
        "        cursor = connection.cursor()\n",
        "\n",
        "        # Execute the table creation query\n",
        "        cursor.execute(create_table_query)\n",
        "        connection.commit()\n",
        "\n",
        "        print(\"Table 'notes' created successfully (if it didn't already exist).\")\n",
        "\n",
        "    except Exception as e:\n",
        "        print(f\"An error occurred: {e}\")\n",
        "\n",
        "    finally:\n",
        "        # Close the connection\n",
        "        if connection:\n",
        "            cursor.close()\n",
        "            connection.close()\n",
        "\n",
        "def check_table_exists(table_name: str) -> bool:\n",
        "    \"\"\"\n",
        "    Checks if a table exists in the PostgreSQL database.\n",
        "\n",
        "    Args:\n",
        "        table_name (str): The name of the table to check.\n",
        "\n",
        "    Returns:\n",
        "        bool: True if the table exists, False otherwise.\n",
        "    \"\"\"\n",
        "\n",
        "    query = \"\"\"\n",
        "    SELECT EXISTS (\n",
        "        SELECT 1\n",
        "        FROM information_schema.tables\n",
        "        WHERE table_schema = 'public'\n",
        "        AND table_name = %s\n",
        "    );\n",
        "    \"\"\"\n",
        "    try:\n",
        "        connection = sqlite3.connect('new_database.db')\n",
        "        cursor = connection.cursor()\n",
        "        cursor.execute(query, (table_name,))\n",
        "        exists = cursor.fetchone()[0]\n",
        "        return exists\n",
        "    except Exception as e:\n",
        "        print(f\"An error occurred: {e}\")\n",
        "        return False\n",
        "    finally:\n",
        "        if connection:\n",
        "            cursor.close()\n",
        "            connection.close()\n",
        "\n",
        "\"\"\"\n",
        "Asynchronous database connection class for interacting with the 'notes' table in your PostgreSQL database.\n",
        "\n",
        "This class provides methods to add a note, retrieve a note by title,\n",
        "and list all note titles.\n",
        "\"\"\"\n",
        "\n",
        "\n",
        "from typing import Optional, List\n",
        "\n",
        "\n",
        "class DatabaseConn:\n",
        "    def __init__(self):\n",
        "        \"\"\"\n",
        "        Initializes the DatabaseConn with the Data Source Name (DSN).\n",
        "        \"\"\"\n",
        "       # connection = sqlite3.connect()\n",
        "        self.dsn = 'new_database.db'\n",
        "\n",
        "    async def _connect(self):\n",
        "        \"\"\"\n",
        "        Establishes an asynchronous connection to the PostgreSQL database.\n",
        "\n",
        "        Returns:\n",
        "            asyncpg.Connection: An active database connection.\n",
        "        \"\"\"\n",
        "        return await sqlite3.connect(self.dsn)\n",
        "\n",
        "    async def add_note(self, title: str, text: str) -> bool:\n",
        "        \"\"\"\n",
        "        Adds a new note to the 'notes' table.\n",
        "\n",
        "        Args:\n",
        "            title (str): The title of the note.\n",
        "            text (str): The content of the note.\n",
        "\n",
        "        Returns:\n",
        "            bool: True if the note was added successfully, False otherwise.\n",
        "        \"\"\"\n",
        "        query = \"\"\"\n",
        "        INSERT INTO notes (title, text)\n",
        "        VALUES ($1, $2)\n",
        "        ON CONFLICT (title) DO NOTHING;\n",
        "        \"\"\"\n",
        "        conn = await self._connect()\n",
        "        try:\n",
        "            result = await conn.execute(query, title, text)\n",
        "            return result == \"INSERT 0 1\"  # Returns True if one row was inserted\n",
        "        finally:\n",
        "            await conn.close()\n",
        "\n",
        "    async def get_note_by_title(self, title: str) -> Optional[dict]:\n",
        "        \"\"\"\n",
        "        Retrieves a note's content by its title.\n",
        "\n",
        "        Args:\n",
        "            title (str): The title of the note to retrieve.\n",
        "\n",
        "        Returns:\n",
        "            Optional[dict]: A dictionary containing the note's title and text if found, None otherwise.\n",
        "        \"\"\"\n",
        "        query = \"SELECT title, text FROM notes WHERE title = $1;\"\n",
        "        conn = await self._connect()\n",
        "        try:\n",
        "            result = await conn.fetchrow(query, title)\n",
        "            if result:\n",
        "                return {\"title\": result[\"title\"], \"text\": result[\"text\"]}\n",
        "            return None\n",
        "        finally:\n",
        "            await conn.close()\n",
        "\n",
        "    async def list_all_titles(self) -> List[str]:\n",
        "        \"\"\"\n",
        "        Lists all note titles in the 'notes' table.\n",
        "\n",
        "        Returns:\n",
        "            List[str]: A list of all note titles.\n",
        "        \"\"\"\n",
        "        query = \"SELECT title FROM notes ORDER BY title;\"\n",
        "        conn = await self._connect()\n",
        "        try:\n",
        "            results = await conn.fetch(query)\n",
        "            return [row[\"title\"] for row in results]\n",
        "        finally:\n",
        "            await conn.close()\n"
      ],
      "metadata": {
        "id": "31IgiGnIy-1a"
      },
      "execution_count": 8,
      "outputs": []
    },
    {
      "cell_type": "code",
      "source": [
        "create_notes_table()"
      ],
      "metadata": {
        "colab": {
          "base_uri": "https://localhost:8080/"
        },
        "id": "r-_ylPhv4IgM",
        "outputId": "450a7502-2479-4bd0-ded1-602712cb4910"
      },
      "execution_count": 9,
      "outputs": [
        {
          "output_type": "stream",
          "name": "stdout",
          "text": [
            "Table 'notes' created successfully (if it didn't already exist).\n"
          ]
        }
      ]
    },
    {
      "cell_type": "markdown",
      "source": [
        "Check that the DB connection is working before continuing to the next step:"
      ],
      "metadata": {
        "id": "ei4AdeMv4sHy"
      }
    },
    {
      "cell_type": "code",
      "source": [
        "from dataclasses import dataclass\n",
        "from pydantic import BaseModel\n",
        "from pydantic_ai import Agent, RunContext, Tool\n",
        "from typing import Optional, List\n",
        "#from database import DatabaseConn\n",
        "\n",
        "from pydantic_ai.models.groq  import GroqModel\n",
        "\n",
        "\n",
        "# Dataclass for structured output from Intent Extraction Agent\n",
        "@dataclass\n",
        "class NoteIntent:\n",
        "   action: str\n",
        "   title: Optional[str] = None\n",
        "   text: Optional[str] = None\n",
        "\n",
        "# Dataclass for dependencies\n",
        "@dataclass\n",
        "class NoteDependencies:\n",
        "   db: DatabaseConn\n",
        "\n",
        "# Define the response structure\n",
        "class NoteResponse(BaseModel):\n",
        "   message: str\n",
        "   note: Optional[dict] = None\n",
        "   titles: Optional[List[str]] = None\n",
        "\n",
        "\n",
        "# Intent Extraction Agent\n",
        "intent_model = GroqModel('llama-3.1-70b-versatile',api_key=GROQ_API_KEY)\n",
        "intent_agent = Agent(\n",
        "   intent_model,\n",
        "   result_type=NoteIntent,\n",
        "   system_prompt=(\n",
        "       \"You are an intent extraction assistant. Your job is to analyze user inputs, \"\n",
        "       \"determine the user's intent (e.g., create, retrieve, list), and extract relevant \"\n",
        "       \"information such as title and text. Output the structured intent in the following format:\\n\\n\"\n",
        "       \"{'action': '...', 'title': '...', 'text': '...'}\\n\\n\"\n",
        "       \"Always use MD format for the text field.\",\n",
        "       \"Add supporting information to help the user understand the note and produce well formatted notes.\",\n",
        "       \"For example, if the user says 'Please note the following: Meeting tomorrow at 10 AM', \"\n",
        "       \"the output should be:\\n{'action': 'create', 'title': 'Meeting', 'text': '## Meeting Note \\n\\n Please note a meeting on the 4th of January at 10 AM.'}.\"\n",
        "   )\n",
        ")\n",
        "\n",
        "# Action Handling Agent\n",
        "action_model = GroqModel('llama-3.1-70b-versatile',api_key=GROQ_API_KEY)\n",
        "action_agent = Agent(\n",
        "   action_model,\n",
        "   deps_type=NoteDependencies,\n",
        "   result_type=NoteResponse,\n",
        "   system_prompt=(\n",
        "       \"You are a note management assistant. Based on the user's intent (action, title, text), \"\n",
        "       \"perform the appropriate action: create a note, retrieve a note, or list all notes.\"\n",
        "   )\n",
        ")"
      ],
      "metadata": {
        "id": "wDPm9mNW4s5X"
      },
      "execution_count": null,
      "outputs": []
    }
  ]
}