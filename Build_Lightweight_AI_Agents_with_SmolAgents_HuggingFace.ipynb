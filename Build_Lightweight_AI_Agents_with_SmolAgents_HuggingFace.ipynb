{
  "nbformat": 4,
  "nbformat_minor": 0,
  "metadata": {
    "colab": {
      "provenance": [],
      "authorship_tag": "ABX9TyONqLqTArAHL2mkmhpzAWwH",
      "include_colab_link": true
    },
    "kernelspec": {
      "name": "python3",
      "display_name": "Python 3"
    },
    "language_info": {
      "name": "python"
    }
  },
  "cells": [
    {
      "cell_type": "markdown",
      "metadata": {
        "id": "view-in-github",
        "colab_type": "text"
      },
      "source": [
        "<a href=\"https://colab.research.google.com/github/NewCodeLearner/LLM-Applications/blob/main/Build_Lightweight_AI_Agents_with_SmolAgents_HuggingFace.ipynb\" target=\"_parent\"><img src=\"https://colab.research.google.com/assets/colab-badge.svg\" alt=\"Open In Colab\"/></a>"
      ]
    },
    {
      "cell_type": "markdown",
      "source": [
        "# Install required libraries"
      ],
      "metadata": {
        "id": "c3tPBVsJl1nk"
      }
    },
    {
      "cell_type": "markdown",
      "source": [
        "SmolAgents docs: https://huggingface.co/docs/smolagents/index"
      ],
      "metadata": {
        "id": "i2sIpcqyoeGH"
      }
    },
    {
      "cell_type": "code",
      "execution_count": 1,
      "metadata": {
        "colab": {
          "base_uri": "https://localhost:8080/"
        },
        "id": "3Rj4snMglEtn",
        "outputId": "c61aac91-2ade-4087-f31a-be6403eb0f0d"
      },
      "outputs": [
        {
          "output_type": "stream",
          "name": "stdout",
          "text": [
            "\u001b[2K     \u001b[90m━━━━━━━━━━━━━━━━━━━━━━━━━━━━━━━━━━━━━━━━\u001b[0m \u001b[32m89.9/89.9 kB\u001b[0m \u001b[31m2.8 MB/s\u001b[0m eta \u001b[36m0:00:00\u001b[0m\n",
            "\u001b[2K   \u001b[90m━━━━━━━━━━━━━━━━━━━━━━━━━━━━━━━━━━━━━━━━\u001b[0m \u001b[32m90.5/90.5 kB\u001b[0m \u001b[31m5.1 MB/s\u001b[0m eta \u001b[36m0:00:00\u001b[0m\n",
            "\u001b[2K   \u001b[90m━━━━━━━━━━━━━━━━━━━━━━━━━━━━━━━━━━━━━━━━\u001b[0m \u001b[32m464.1/464.1 kB\u001b[0m \u001b[31m16.3 MB/s\u001b[0m eta \u001b[36m0:00:00\u001b[0m\n",
            "\u001b[2K   \u001b[90m━━━━━━━━━━━━━━━━━━━━━━━━━━━━━━━━━━━━━━━━\u001b[0m \u001b[32m13.1/13.1 MB\u001b[0m \u001b[31m67.5 MB/s\u001b[0m eta \u001b[36m0:00:00\u001b[0m\n",
            "\u001b[2K   \u001b[90m━━━━━━━━━━━━━━━━━━━━━━━━━━━━━━━━━━━━━━━━\u001b[0m \u001b[32m3.3/3.3 MB\u001b[0m \u001b[31m62.2 MB/s\u001b[0m eta \u001b[36m0:00:00\u001b[0m\n",
            "\u001b[?25h\u001b[31mERROR: pip's dependency resolver does not currently take into account all the packages that are installed. This behaviour is the source of the following dependency conflicts.\n",
            "google-colab 1.0.0 requires pandas==2.2.2, but you have pandas 2.2.3 which is incompatible.\u001b[0m\u001b[31m\n",
            "\u001b[0m"
          ]
        }
      ],
      "source": [
        "!pip -q install smolagents"
      ]
    },
    {
      "cell_type": "code",
      "source": [
        "import os\n",
        "from google.colab import userdata\n",
        "os.environ['HF_TOKEN'] = userdata.get('HF_TOKEN')\n",
        "#os.environ['OPENAI_API_KEY'] = userdata.get('OPENAI_API_KEY')"
      ],
      "metadata": {
        "id": "Q2uWW8c1l7P-"
      },
      "execution_count": 3,
      "outputs": []
    },
    {
      "cell_type": "code",
      "source": [
        "from smolagents import CodeAgent, HfApiModel"
      ],
      "metadata": {
        "id": "Nr27WuramFjc"
      },
      "execution_count": 4,
      "outputs": []
    },
    {
      "cell_type": "markdown",
      "source": [
        "HfApiModel can run any model depends on the task.  \n",
        "The default model is default_model = \"Qwen/Qwen2.5-Coder-32B-Instruct\""
      ],
      "metadata": {
        "id": "Z3VEIT_CsT0p"
      }
    },
    {
      "cell_type": "code",
      "source": [
        "model=HfApiModel()"
      ],
      "metadata": {
        "id": "LFF3l4LCmhjW"
      },
      "execution_count": 5,
      "outputs": []
    },
    {
      "cell_type": "code",
      "source": [
        "agent = CodeAgent(tools=[],model=model)"
      ],
      "metadata": {
        "id": "_GP8t97hmmvg"
      },
      "execution_count": 6,
      "outputs": []
    },
    {
      "cell_type": "code",
      "source": [
        "agent.run(\"what is 24*7?\")"
      ],
      "metadata": {
        "colab": {
          "base_uri": "https://localhost:8080/",
          "height": 382
        },
        "id": "jSdJqecemobx",
        "outputId": "aa9af1bc-f176-4531-ed4c-ef81566345db"
      },
      "execution_count": 7,
      "outputs": [
        {
          "output_type": "display_data",
          "data": {
            "text/plain": [
              "\u001b[38;2;212;183;2m╭─\u001b[0m\u001b[38;2;212;183;2m───────────────────────────────────────────────────\u001b[0m\u001b[38;2;212;183;2m \u001b[0m\u001b[1;38;2;212;183;2mNew run\u001b[0m\u001b[38;2;212;183;2m \u001b[0m\u001b[38;2;212;183;2m───────────────────────────────────────────────────\u001b[0m\u001b[38;2;212;183;2m─╮\u001b[0m\n",
              "\u001b[38;2;212;183;2m│\u001b[0m                                                                                                                 \u001b[38;2;212;183;2m│\u001b[0m\n",
              "\u001b[38;2;212;183;2m│\u001b[0m \u001b[1mwhat is 24*7?\u001b[0m                                                                                                   \u001b[38;2;212;183;2m│\u001b[0m\n",
              "\u001b[38;2;212;183;2m│\u001b[0m                                                                                                                 \u001b[38;2;212;183;2m│\u001b[0m\n",
              "\u001b[38;2;212;183;2m╰─\u001b[0m\u001b[38;2;212;183;2m HfApiModel - Qwen/Qwen2.5-Coder-32B-Instruct \u001b[0m\u001b[38;2;212;183;2m─────────────────────────────────────────────────────────────────\u001b[0m\u001b[38;2;212;183;2m─╯\u001b[0m\n"
            ],
            "text/html": [
              "<pre style=\"white-space:pre;overflow-x:auto;line-height:normal;font-family:Menlo,'DejaVu Sans Mono',consolas,'Courier New',monospace\"><span style=\"color: #d4b702; text-decoration-color: #d4b702\">╭──────────────────────────────────────────────────── </span><span style=\"color: #d4b702; text-decoration-color: #d4b702; font-weight: bold\">New run</span><span style=\"color: #d4b702; text-decoration-color: #d4b702\"> ────────────────────────────────────────────────────╮</span>\n",
              "<span style=\"color: #d4b702; text-decoration-color: #d4b702\">│</span>                                                                                                                 <span style=\"color: #d4b702; text-decoration-color: #d4b702\">│</span>\n",
              "<span style=\"color: #d4b702; text-decoration-color: #d4b702\">│</span> <span style=\"font-weight: bold\">what is 24*7?</span>                                                                                                   <span style=\"color: #d4b702; text-decoration-color: #d4b702\">│</span>\n",
              "<span style=\"color: #d4b702; text-decoration-color: #d4b702\">│</span>                                                                                                                 <span style=\"color: #d4b702; text-decoration-color: #d4b702\">│</span>\n",
              "<span style=\"color: #d4b702; text-decoration-color: #d4b702\">╰─ HfApiModel - Qwen/Qwen2.5-Coder-32B-Instruct ──────────────────────────────────────────────────────────────────╯</span>\n",
              "</pre>\n"
            ]
          },
          "metadata": {}
        },
        {
          "output_type": "display_data",
          "data": {
            "text/plain": [
              "\u001b[38;2;212;183;2m━━━━━━━━━━━━━━━━━━━━━━━━━━━━━━━━━━━━━━━━━━━━━━━━━━━━━ \u001b[0m\u001b[1mStep \u001b[0m\u001b[1;36m1\u001b[0m\u001b[38;2;212;183;2m ━━━━━━━━━━━━━━━━━━━━━━━━━━━━━━━━━━━━━━━━━━━━━━━━━━━━━━\u001b[0m\n"
            ],
            "text/html": [
              "<pre style=\"white-space:pre;overflow-x:auto;line-height:normal;font-family:Menlo,'DejaVu Sans Mono',consolas,'Courier New',monospace\"><span style=\"color: #d4b702; text-decoration-color: #d4b702\">━━━━━━━━━━━━━━━━━━━━━━━━━━━━━━━━━━━━━━━━━━━━━━━━━━━━━ </span><span style=\"font-weight: bold\">Step </span><span style=\"color: #008080; text-decoration-color: #008080; font-weight: bold\">1</span><span style=\"color: #d4b702; text-decoration-color: #d4b702\"> ━━━━━━━━━━━━━━━━━━━━━━━━━━━━━━━━━━━━━━━━━━━━━━━━━━━━━━</span>\n",
              "</pre>\n"
            ]
          },
          "metadata": {}
        },
        {
          "output_type": "display_data",
          "data": {
            "text/plain": [
              " ─ \u001b[1mExecuting parsed code:\u001b[0m ──────────────────────────────────────────────────────────────────────────────────────── \n",
              "  \u001b[38;2;248;248;242;48;2;39;40;34mresult\u001b[0m\u001b[38;2;248;248;242;48;2;39;40;34m \u001b[0m\u001b[38;2;255;70;137;48;2;39;40;34m=\u001b[0m\u001b[38;2;248;248;242;48;2;39;40;34m \u001b[0m\u001b[38;2;174;129;255;48;2;39;40;34m24\u001b[0m\u001b[38;2;248;248;242;48;2;39;40;34m \u001b[0m\u001b[38;2;255;70;137;48;2;39;40;34m*\u001b[0m\u001b[38;2;248;248;242;48;2;39;40;34m \u001b[0m\u001b[38;2;174;129;255;48;2;39;40;34m7\u001b[0m\u001b[48;2;39;40;34m                                                                                                \u001b[0m  \n",
              "  \u001b[38;2;248;248;242;48;2;39;40;34mprint\u001b[0m\u001b[38;2;248;248;242;48;2;39;40;34m(\u001b[0m\u001b[38;2;248;248;242;48;2;39;40;34mresult\u001b[0m\u001b[38;2;248;248;242;48;2;39;40;34m)\u001b[0m\u001b[48;2;39;40;34m                                                                                                  \u001b[0m  \n",
              " ───────────────────────────────────────────────────────────────────────────────────────────────────────────────── \n"
            ],
            "text/html": [
              "<pre style=\"white-space:pre;overflow-x:auto;line-height:normal;font-family:Menlo,'DejaVu Sans Mono',consolas,'Courier New',monospace\"> ─ <span style=\"font-weight: bold\">Executing parsed code:</span> ──────────────────────────────────────────────────────────────────────────────────────── \n",
              "  <span style=\"color: #f8f8f2; text-decoration-color: #f8f8f2; background-color: #272822\">result </span><span style=\"color: #ff4689; text-decoration-color: #ff4689; background-color: #272822\">=</span><span style=\"color: #f8f8f2; text-decoration-color: #f8f8f2; background-color: #272822\"> </span><span style=\"color: #ae81ff; text-decoration-color: #ae81ff; background-color: #272822\">24</span><span style=\"color: #f8f8f2; text-decoration-color: #f8f8f2; background-color: #272822\"> </span><span style=\"color: #ff4689; text-decoration-color: #ff4689; background-color: #272822\">*</span><span style=\"color: #f8f8f2; text-decoration-color: #f8f8f2; background-color: #272822\"> </span><span style=\"color: #ae81ff; text-decoration-color: #ae81ff; background-color: #272822\">7</span><span style=\"background-color: #272822\">                                                                                                </span>  \n",
              "  <span style=\"color: #f8f8f2; text-decoration-color: #f8f8f2; background-color: #272822\">print(result)</span><span style=\"background-color: #272822\">                                                                                                  </span>  \n",
              " ───────────────────────────────────────────────────────────────────────────────────────────────────────────────── \n",
              "</pre>\n"
            ]
          },
          "metadata": {}
        },
        {
          "output_type": "display_data",
          "data": {
            "text/plain": [
              "\u001b[1mExecution logs:\u001b[0m\n",
              "168\n",
              "\n",
              "Out: None\n"
            ],
            "text/html": [
              "<pre style=\"white-space:pre;overflow-x:auto;line-height:normal;font-family:Menlo,'DejaVu Sans Mono',consolas,'Courier New',monospace\"><span style=\"font-weight: bold\">Execution logs:</span>\n",
              "168\n",
              "\n",
              "Out: None\n",
              "</pre>\n"
            ]
          },
          "metadata": {}
        },
        {
          "output_type": "display_data",
          "data": {
            "text/plain": [
              "\u001b[2m[Step 0: Duration 2.34 seconds| Input tokens: 2,014 | Output tokens: 52]\u001b[0m\n"
            ],
            "text/html": [
              "<pre style=\"white-space:pre;overflow-x:auto;line-height:normal;font-family:Menlo,'DejaVu Sans Mono',consolas,'Courier New',monospace\"><span style=\"color: #7f7f7f; text-decoration-color: #7f7f7f\">[Step 0: Duration 2.34 seconds| Input tokens: 2,014 | Output tokens: 52]</span>\n",
              "</pre>\n"
            ]
          },
          "metadata": {}
        },
        {
          "output_type": "display_data",
          "data": {
            "text/plain": [
              "\u001b[38;2;212;183;2m━━━━━━━━━━━━━━━━━━━━━━━━━━━━━━━━━━━━━━━━━━━━━━━━━━━━━ \u001b[0m\u001b[1mStep \u001b[0m\u001b[1;36m2\u001b[0m\u001b[38;2;212;183;2m ━━━━━━━━━━━━━━━━━━━━━━━━━━━━━━━━━━━━━━━━━━━━━━━━━━━━━━\u001b[0m\n"
            ],
            "text/html": [
              "<pre style=\"white-space:pre;overflow-x:auto;line-height:normal;font-family:Menlo,'DejaVu Sans Mono',consolas,'Courier New',monospace\"><span style=\"color: #d4b702; text-decoration-color: #d4b702\">━━━━━━━━━━━━━━━━━━━━━━━━━━━━━━━━━━━━━━━━━━━━━━━━━━━━━ </span><span style=\"font-weight: bold\">Step </span><span style=\"color: #008080; text-decoration-color: #008080; font-weight: bold\">2</span><span style=\"color: #d4b702; text-decoration-color: #d4b702\"> ━━━━━━━━━━━━━━━━━━━━━━━━━━━━━━━━━━━━━━━━━━━━━━━━━━━━━━</span>\n",
              "</pre>\n"
            ]
          },
          "metadata": {}
        },
        {
          "output_type": "display_data",
          "data": {
            "text/plain": [
              " ─ \u001b[1mExecuting parsed code:\u001b[0m ──────────────────────────────────────────────────────────────────────────────────────── \n",
              "  \u001b[38;2;248;248;242;48;2;39;40;34mfinal_answer\u001b[0m\u001b[38;2;248;248;242;48;2;39;40;34m(\u001b[0m\u001b[38;2;174;129;255;48;2;39;40;34m168\u001b[0m\u001b[38;2;248;248;242;48;2;39;40;34m)\u001b[0m\u001b[48;2;39;40;34m                                                                                              \u001b[0m  \n",
              " ───────────────────────────────────────────────────────────────────────────────────────────────────────────────── \n"
            ],
            "text/html": [
              "<pre style=\"white-space:pre;overflow-x:auto;line-height:normal;font-family:Menlo,'DejaVu Sans Mono',consolas,'Courier New',monospace\"> ─ <span style=\"font-weight: bold\">Executing parsed code:</span> ──────────────────────────────────────────────────────────────────────────────────────── \n",
              "  <span style=\"color: #f8f8f2; text-decoration-color: #f8f8f2; background-color: #272822\">final_answer(</span><span style=\"color: #ae81ff; text-decoration-color: #ae81ff; background-color: #272822\">168</span><span style=\"color: #f8f8f2; text-decoration-color: #f8f8f2; background-color: #272822\">)</span><span style=\"background-color: #272822\">                                                                                              </span>  \n",
              " ───────────────────────────────────────────────────────────────────────────────────────────────────────────────── \n",
              "</pre>\n"
            ]
          },
          "metadata": {}
        },
        {
          "output_type": "display_data",
          "data": {
            "text/plain": [
              "\u001b[1;38;2;212;183;2mOut - Final answer: 168\u001b[0m\n"
            ],
            "text/html": [
              "<pre style=\"white-space:pre;overflow-x:auto;line-height:normal;font-family:Menlo,'DejaVu Sans Mono',consolas,'Courier New',monospace\"><span style=\"color: #d4b702; text-decoration-color: #d4b702; font-weight: bold\">Out - Final answer: 168</span>\n",
              "</pre>\n"
            ]
          },
          "metadata": {}
        },
        {
          "output_type": "display_data",
          "data": {
            "text/plain": [
              "\u001b[2m[Step 1: Duration 1.60 seconds| Input tokens: 4,161 | Output tokens: 108]\u001b[0m\n"
            ],
            "text/html": [
              "<pre style=\"white-space:pre;overflow-x:auto;line-height:normal;font-family:Menlo,'DejaVu Sans Mono',consolas,'Courier New',monospace\"><span style=\"color: #7f7f7f; text-decoration-color: #7f7f7f\">[Step 1: Duration 1.60 seconds| Input tokens: 4,161 | Output tokens: 108]</span>\n",
              "</pre>\n"
            ]
          },
          "metadata": {}
        },
        {
          "output_type": "execute_result",
          "data": {
            "text/plain": [
              "168"
            ]
          },
          "metadata": {},
          "execution_count": 7
        }
      ]
    },
    {
      "cell_type": "markdown",
      "source": [
        "# Use Predefined Tool (DuckDuckGo)"
      ],
      "metadata": {
        "id": "lr93IQ4pn6V2"
      }
    },
    {
      "cell_type": "code",
      "source": [
        "from smolagents import DuckDuckGoSearchTool"
      ],
      "metadata": {
        "id": "X8VginKJn_XK"
      },
      "execution_count": 8,
      "outputs": []
    },
    {
      "cell_type": "code",
      "source": [
        "agent = CodeAgent(tools=[DuckDuckGoSearchTool()],model=model)"
      ],
      "metadata": {
        "id": "a5DAj4VIoBt4"
      },
      "execution_count": 9,
      "outputs": []
    },
    {
      "cell_type": "code",
      "source": [
        "agent.run('What is the result for recently concluded Cricket test series between India vs Australia?')"
      ],
      "metadata": {
        "colab": {
          "base_uri": "https://localhost:8080/",
          "height": 1000
        },
        "id": "U9f04YAcoMvE",
        "outputId": "2ddd43ad-4da5-4565-e732-e3941de2a20b"
      },
      "execution_count": 10,
      "outputs": [
        {
          "output_type": "display_data",
          "data": {
            "text/plain": [
              "\u001b[38;2;212;183;2m╭─\u001b[0m\u001b[38;2;212;183;2m───────────────────────────────────────────────────\u001b[0m\u001b[38;2;212;183;2m \u001b[0m\u001b[1;38;2;212;183;2mNew run\u001b[0m\u001b[38;2;212;183;2m \u001b[0m\u001b[38;2;212;183;2m───────────────────────────────────────────────────\u001b[0m\u001b[38;2;212;183;2m─╮\u001b[0m\n",
              "\u001b[38;2;212;183;2m│\u001b[0m                                                                                                                 \u001b[38;2;212;183;2m│\u001b[0m\n",
              "\u001b[38;2;212;183;2m│\u001b[0m \u001b[1mWhat is the result for recently concluded Cricket test series between India vs Australia?\u001b[0m                       \u001b[38;2;212;183;2m│\u001b[0m\n",
              "\u001b[38;2;212;183;2m│\u001b[0m                                                                                                                 \u001b[38;2;212;183;2m│\u001b[0m\n",
              "\u001b[38;2;212;183;2m╰─\u001b[0m\u001b[38;2;212;183;2m HfApiModel - Qwen/Qwen2.5-Coder-32B-Instruct \u001b[0m\u001b[38;2;212;183;2m─────────────────────────────────────────────────────────────────\u001b[0m\u001b[38;2;212;183;2m─╯\u001b[0m\n"
            ],
            "text/html": [
              "<pre style=\"white-space:pre;overflow-x:auto;line-height:normal;font-family:Menlo,'DejaVu Sans Mono',consolas,'Courier New',monospace\"><span style=\"color: #d4b702; text-decoration-color: #d4b702\">╭──────────────────────────────────────────────────── </span><span style=\"color: #d4b702; text-decoration-color: #d4b702; font-weight: bold\">New run</span><span style=\"color: #d4b702; text-decoration-color: #d4b702\"> ────────────────────────────────────────────────────╮</span>\n",
              "<span style=\"color: #d4b702; text-decoration-color: #d4b702\">│</span>                                                                                                                 <span style=\"color: #d4b702; text-decoration-color: #d4b702\">│</span>\n",
              "<span style=\"color: #d4b702; text-decoration-color: #d4b702\">│</span> <span style=\"font-weight: bold\">What is the result for recently concluded Cricket test series between India vs Australia?</span>                       <span style=\"color: #d4b702; text-decoration-color: #d4b702\">│</span>\n",
              "<span style=\"color: #d4b702; text-decoration-color: #d4b702\">│</span>                                                                                                                 <span style=\"color: #d4b702; text-decoration-color: #d4b702\">│</span>\n",
              "<span style=\"color: #d4b702; text-decoration-color: #d4b702\">╰─ HfApiModel - Qwen/Qwen2.5-Coder-32B-Instruct ──────────────────────────────────────────────────────────────────╯</span>\n",
              "</pre>\n"
            ]
          },
          "metadata": {}
        },
        {
          "output_type": "display_data",
          "data": {
            "text/plain": [
              "\u001b[38;2;212;183;2m━━━━━━━━━━━━━━━━━━━━━━━━━━━━━━━━━━━━━━━━━━━━━━━━━━━━━ \u001b[0m\u001b[1mStep \u001b[0m\u001b[1;36m1\u001b[0m\u001b[38;2;212;183;2m ━━━━━━━━━━━━━━━━━━━━━━━━━━━━━━━━━━━━━━━━━━━━━━━━━━━━━━\u001b[0m\n"
            ],
            "text/html": [
              "<pre style=\"white-space:pre;overflow-x:auto;line-height:normal;font-family:Menlo,'DejaVu Sans Mono',consolas,'Courier New',monospace\"><span style=\"color: #d4b702; text-decoration-color: #d4b702\">━━━━━━━━━━━━━━━━━━━━━━━━━━━━━━━━━━━━━━━━━━━━━━━━━━━━━ </span><span style=\"font-weight: bold\">Step </span><span style=\"color: #008080; text-decoration-color: #008080; font-weight: bold\">1</span><span style=\"color: #d4b702; text-decoration-color: #d4b702\"> ━━━━━━━━━━━━━━━━━━━━━━━━━━━━━━━━━━━━━━━━━━━━━━━━━━━━━━</span>\n",
              "</pre>\n"
            ]
          },
          "metadata": {}
        },
        {
          "output_type": "display_data",
          "data": {
            "text/plain": [
              " ─ \u001b[1mExecuting parsed code:\u001b[0m ──────────────────────────────────────────────────────────────────────────────────────── \n",
              "  \u001b[38;2;248;248;242;48;2;39;40;34mcricket_series_result\u001b[0m\u001b[38;2;248;248;242;48;2;39;40;34m \u001b[0m\u001b[38;2;255;70;137;48;2;39;40;34m=\u001b[0m\u001b[38;2;248;248;242;48;2;39;40;34m \u001b[0m\u001b[38;2;248;248;242;48;2;39;40;34mweb_search\u001b[0m\u001b[38;2;248;248;242;48;2;39;40;34m(\u001b[0m\u001b[38;2;248;248;242;48;2;39;40;34mquery\u001b[0m\u001b[38;2;255;70;137;48;2;39;40;34m=\u001b[0m\u001b[38;2;230;219;116;48;2;39;40;34m\"\u001b[0m\u001b[38;2;230;219;116;48;2;39;40;34mIndia vs Australia recent test series result\u001b[0m\u001b[38;2;230;219;116;48;2;39;40;34m\"\u001b[0m\u001b[38;2;248;248;242;48;2;39;40;34m)\u001b[0m\u001b[48;2;39;40;34m                       \u001b[0m  \n",
              "  \u001b[38;2;248;248;242;48;2;39;40;34mprint\u001b[0m\u001b[38;2;248;248;242;48;2;39;40;34m(\u001b[0m\u001b[38;2;248;248;242;48;2;39;40;34mcricket_series_result\u001b[0m\u001b[38;2;248;248;242;48;2;39;40;34m)\u001b[0m\u001b[48;2;39;40;34m                                                                                   \u001b[0m  \n",
              " ───────────────────────────────────────────────────────────────────────────────────────────────────────────────── \n"
            ],
            "text/html": [
              "<pre style=\"white-space:pre;overflow-x:auto;line-height:normal;font-family:Menlo,'DejaVu Sans Mono',consolas,'Courier New',monospace\"> ─ <span style=\"font-weight: bold\">Executing parsed code:</span> ──────────────────────────────────────────────────────────────────────────────────────── \n",
              "  <span style=\"color: #f8f8f2; text-decoration-color: #f8f8f2; background-color: #272822\">cricket_series_result </span><span style=\"color: #ff4689; text-decoration-color: #ff4689; background-color: #272822\">=</span><span style=\"color: #f8f8f2; text-decoration-color: #f8f8f2; background-color: #272822\"> web_search(query</span><span style=\"color: #ff4689; text-decoration-color: #ff4689; background-color: #272822\">=</span><span style=\"color: #e6db74; text-decoration-color: #e6db74; background-color: #272822\">\"India vs Australia recent test series result\"</span><span style=\"color: #f8f8f2; text-decoration-color: #f8f8f2; background-color: #272822\">)</span><span style=\"background-color: #272822\">                       </span>  \n",
              "  <span style=\"color: #f8f8f2; text-decoration-color: #f8f8f2; background-color: #272822\">print(cricket_series_result)</span><span style=\"background-color: #272822\">                                                                                   </span>  \n",
              " ───────────────────────────────────────────────────────────────────────────────────────────────────────────────── \n",
              "</pre>\n"
            ]
          },
          "metadata": {}
        },
        {
          "output_type": "display_data",
          "data": {
            "text/plain": [
              "\u001b[1mExecution logs:\u001b[0m\n",
              "## Search Results\n",
              "\n",
              "[Australia vs India Head To Head Test match team series results \n",
              "...](https://www.espncricinfo.com/records/headtohead/team-series-results/australia-india-2vs6/test-matches-1)\n",
              "Australia vs India at Melbourne, Australia vs India 4th Test, Dec 26-30, 2024 [Test # 2571] Zimbabwe vs Afghanistan\n",
              "at Bulawayo, Afghanistan in Zimbabwe 1st Test, Dec 26-30, 2024 [ Test # 2573]\n",
              "\n",
              "[AUS vs IND 2024/25, AUS vs IND 5th Test Match Report, January 03 - 05 \n",
              "...](https://www.espncricinfo.com/series/australia-vs-india-2024-25-1426547/australia-vs-india-5th-test-1426559/mat\n",
              "ch-report)\n",
              "AUS vs IND 2024/25, Australia vs India Match Report: Without Bumrah, India's hopes faded away as Australia wrapped \n",
              "up the win within three days Matches ( 31 ) Sri Lanka vs Australia ( 1 )\n",
              "\n",
              "[Live Cricket Update - AUS vs IND 5th Test - As it happened: Australia \n",
              "...](https://www.espncricinfo.com/series/australia-vs-india-2024-25-1426547/australia-vs-india-5th-test-1426559/liv\n",
              "e-match-blog)\n",
              "Follow our live cricket update for in-depth match coverage and exciting highlights from Australia vs India 5th Test\n",
              "at Sydney on ESPNcricinfo.\n",
              "\n",
              "[India beat Australia to win first Test in Perth - highlights and \n",
              "...](https://www.bbc.com/sport/cricket/live/ckgdx7xzgzqt)\n",
              "India win first Test in five-match series by 295 runs. Bumrah takes 3-42 and Siraj 3-51. Listen to ABC Grandstand \n",
              "reaction at top of page. Second Test is in Adelaide from 6 December\n",
              "\n",
              "[Australia vs India 2024 RECAP cricket scores: Fifth Test, Day 1 \n",
              "...](https://www.nine.com.au/sport/cricket/australia-india-2024-live-scores-fifth-test-day-one-highlights-results-l\n",
              "atest-updates-20250103-p5l1tt.html)\n",
              "Australia vs India fifth Test, day one: Usman Khawaja dismissed on final ball as Sam Konstas engages in heated \n",
              "exchange with visitors. Simon Brunsdon, Lachlan Harper and Liam O'Loughlin. ... Latest posts. 07.12am Jan 03, 2025.\n",
              "Thanks for joining us! Liam O'Loughlin. Share post.\n",
              "\n",
              "[AUS vs IND 5th BGT Test: Updates, scores, highlights as Australia \n",
              "...](https://www.sportingnews.com/in/cricket/news/aus-ind-5th-bgt-test-updates-scores-highlights-scg-sydney/f413152\n",
              "f397ca118e2e2a96d)\n",
              "Australia vs India 5th BGT Test: DAY 3 Live Updates 9:16 am: Jasprit Bumrah is named the player of the series for \n",
              "his 32 wickets at an average of 13.06 with 3 five-fers and two four-fers in the ...\n",
              "\n",
              "[India vs Australia, 5th Test Day 3 Highlights: AUS beat IND by 6 \n",
              "...](https://indianexpress.com/article/sports/cricket/ind-vs-aus-5th-test-day-3-live-score-india-vs-australia-live-\n",
              "cricket-scorecard-updates-sydney-cricket-ground-9760210/)\n",
              "IND vs AUS 5th Test Day 3 Cricket Score, India vs Australia Test Highlights: Australia beat India by six wickets to\n",
              "beat India 3-1 in the Border Gavaskar Trophy on Sunday in Sydney ... The hosts won the final two Tests in Melbourne\n",
              "and Sydney to seal the series. Follow India vs Australia New Year Test Day 3 Highlights below. Match Ended India \n",
              "...\n",
              "\n",
              "[AUS: 162-4 | IND Vs AUS 5th Test Highlights: Australia Beat India By 6 \n",
              "...](https://zeenews.india.com/cricket/live-updates/ind-vs-aus-live-cricket-score-and-updates-border-gavaskar-troph\n",
              "y-5th-test-match-scg-sydney-india-vs-australia-scorecard-rohit-sharma-pat-cummins-virat-kohli-jasprit-bumrah-yashas\n",
              "vi-jaiswal-2839629.html)\n",
              "India vs Australia, BGT 2024 5th Test Match Live Cricket Score and Updates: India's decade-long hold on the \n",
              "Border-Gavaskar Trophy ended with a six-wicket defeat to Australia on Day 3 of the fifth Test in Sydney.Chasing a \n",
              "target of 162, Australia cruised to victory as Travis Head (34*) and Beau Webster (39*) guided them home, sealing \n",
              "the five-match series 3-1.\n",
              "\n",
              "[Australia vs India LIVE: Border-Gavaskar Trophy, fifth Test, day one \n",
              "...](https://www.bbc.co.uk/sport/cricket/live/cnv3zzg90dzt)\n",
              "Australia dismissed India for 185 on day one of their Test series finale but a fired-up Jasprit Bumrah struck with \n",
              "the final ball of the day to boost the tourists late on.\n",
              "\n",
              "[Australia vs India LIVE: Border-Gavaskar trophy, Fourth Test, day two \n",
              "...](https://www.bbc.com/sport/cricket/live/cvg63nq82rdt)\n",
              "Australia face India in the fourth Test at Melbourne Cricket Ground - follow live score and text updates, plus \n",
              "radio commentary. ... Sun 29 Dec 2024, Men's International Test Match Series - Day 5 ...\n",
              "\n",
              "Out: None\n"
            ],
            "text/html": [
              "<pre style=\"white-space:pre;overflow-x:auto;line-height:normal;font-family:Menlo,'DejaVu Sans Mono',consolas,'Courier New',monospace\"><span style=\"font-weight: bold\">Execution logs:</span>\n",
              "## Search Results\n",
              "\n",
              "[Australia vs India Head To Head Test match team series results \n",
              "...](https://www.espncricinfo.com/records/headtohead/team-series-results/australia-india-2vs6/test-matches-1)\n",
              "Australia vs India at Melbourne, Australia vs India 4th Test, Dec 26-30, 2024 [Test # 2571] Zimbabwe vs Afghanistan\n",
              "at Bulawayo, Afghanistan in Zimbabwe 1st Test, Dec 26-30, 2024 [ Test # 2573]\n",
              "\n",
              "[AUS vs IND 2024/25, AUS vs IND 5th Test Match Report, January 03 - 05 \n",
              "...](https://www.espncricinfo.com/series/australia-vs-india-2024-25-1426547/australia-vs-india-5th-test-1426559/mat\n",
              "ch-report)\n",
              "AUS vs IND 2024/25, Australia vs India Match Report: Without Bumrah, India's hopes faded away as Australia wrapped \n",
              "up the win within three days Matches ( 31 ) Sri Lanka vs Australia ( 1 )\n",
              "\n",
              "[Live Cricket Update - AUS vs IND 5th Test - As it happened: Australia \n",
              "...](https://www.espncricinfo.com/series/australia-vs-india-2024-25-1426547/australia-vs-india-5th-test-1426559/liv\n",
              "e-match-blog)\n",
              "Follow our live cricket update for in-depth match coverage and exciting highlights from Australia vs India 5th Test\n",
              "at Sydney on ESPNcricinfo.\n",
              "\n",
              "[India beat Australia to win first Test in Perth - highlights and \n",
              "...](https://www.bbc.com/sport/cricket/live/ckgdx7xzgzqt)\n",
              "India win first Test in five-match series by 295 runs. Bumrah takes 3-42 and Siraj 3-51. Listen to ABC Grandstand \n",
              "reaction at top of page. Second Test is in Adelaide from 6 December\n",
              "\n",
              "[Australia vs India 2024 RECAP cricket scores: Fifth Test, Day 1 \n",
              "...](https://www.nine.com.au/sport/cricket/australia-india-2024-live-scores-fifth-test-day-one-highlights-results-l\n",
              "atest-updates-20250103-p5l1tt.html)\n",
              "Australia vs India fifth Test, day one: Usman Khawaja dismissed on final ball as Sam Konstas engages in heated \n",
              "exchange with visitors. Simon Brunsdon, Lachlan Harper and Liam O'Loughlin. ... Latest posts. 07.12am Jan 03, 2025.\n",
              "Thanks for joining us! Liam O'Loughlin. Share post.\n",
              "\n",
              "[AUS vs IND 5th BGT Test: Updates, scores, highlights as Australia \n",
              "...](https://www.sportingnews.com/in/cricket/news/aus-ind-5th-bgt-test-updates-scores-highlights-scg-sydney/f413152\n",
              "f397ca118e2e2a96d)\n",
              "Australia vs India 5th BGT Test: DAY 3 Live Updates 9:16 am: Jasprit Bumrah is named the player of the series for \n",
              "his 32 wickets at an average of 13.06 with 3 five-fers and two four-fers in the ...\n",
              "\n",
              "[India vs Australia, 5th Test Day 3 Highlights: AUS beat IND by 6 \n",
              "...](https://indianexpress.com/article/sports/cricket/ind-vs-aus-5th-test-day-3-live-score-india-vs-australia-live-\n",
              "cricket-scorecard-updates-sydney-cricket-ground-9760210/)\n",
              "IND vs AUS 5th Test Day 3 Cricket Score, India vs Australia Test Highlights: Australia beat India by six wickets to\n",
              "beat India 3-1 in the Border Gavaskar Trophy on Sunday in Sydney ... The hosts won the final two Tests in Melbourne\n",
              "and Sydney to seal the series. Follow India vs Australia New Year Test Day 3 Highlights below. Match Ended India \n",
              "...\n",
              "\n",
              "[AUS: 162-4 | IND Vs AUS 5th Test Highlights: Australia Beat India By 6 \n",
              "...](https://zeenews.india.com/cricket/live-updates/ind-vs-aus-live-cricket-score-and-updates-border-gavaskar-troph\n",
              "y-5th-test-match-scg-sydney-india-vs-australia-scorecard-rohit-sharma-pat-cummins-virat-kohli-jasprit-bumrah-yashas\n",
              "vi-jaiswal-2839629.html)\n",
              "India vs Australia, BGT 2024 5th Test Match Live Cricket Score and Updates: India's decade-long hold on the \n",
              "Border-Gavaskar Trophy ended with a six-wicket defeat to Australia on Day 3 of the fifth Test in Sydney.Chasing a \n",
              "target of 162, Australia cruised to victory as Travis Head (34*) and Beau Webster (39*) guided them home, sealing \n",
              "the five-match series 3-1.\n",
              "\n",
              "[Australia vs India LIVE: Border-Gavaskar Trophy, fifth Test, day one \n",
              "...](https://www.bbc.co.uk/sport/cricket/live/cnv3zzg90dzt)\n",
              "Australia dismissed India for 185 on day one of their Test series finale but a fired-up Jasprit Bumrah struck with \n",
              "the final ball of the day to boost the tourists late on.\n",
              "\n",
              "[Australia vs India LIVE: Border-Gavaskar trophy, Fourth Test, day two \n",
              "...](https://www.bbc.com/sport/cricket/live/cvg63nq82rdt)\n",
              "Australia face India in the fourth Test at Melbourne Cricket Ground - follow live score and text updates, plus \n",
              "radio commentary. ... Sun 29 Dec 2024, Men's International Test Match Series - Day 5 ...\n",
              "\n",
              "Out: None\n",
              "</pre>\n"
            ]
          },
          "metadata": {}
        },
        {
          "output_type": "display_data",
          "data": {
            "text/plain": [
              "\u001b[2m[Step 0: Duration 3.01 seconds| Input tokens: 2,082 | Output tokens: 76]\u001b[0m\n"
            ],
            "text/html": [
              "<pre style=\"white-space:pre;overflow-x:auto;line-height:normal;font-family:Menlo,'DejaVu Sans Mono',consolas,'Courier New',monospace\"><span style=\"color: #7f7f7f; text-decoration-color: #7f7f7f\">[Step 0: Duration 3.01 seconds| Input tokens: 2,082 | Output tokens: 76]</span>\n",
              "</pre>\n"
            ]
          },
          "metadata": {}
        },
        {
          "output_type": "display_data",
          "data": {
            "text/plain": [
              "\u001b[38;2;212;183;2m━━━━━━━━━━━━━━━━━━━━━━━━━━━━━━━━━━━━━━━━━━━━━━━━━━━━━ \u001b[0m\u001b[1mStep \u001b[0m\u001b[1;36m2\u001b[0m\u001b[38;2;212;183;2m ━━━━━━━━━━━━━━━━━━━━━━━━━━━━━━━━━━━━━━━━━━━━━━━━━━━━━━\u001b[0m\n"
            ],
            "text/html": [
              "<pre style=\"white-space:pre;overflow-x:auto;line-height:normal;font-family:Menlo,'DejaVu Sans Mono',consolas,'Courier New',monospace\"><span style=\"color: #d4b702; text-decoration-color: #d4b702\">━━━━━━━━━━━━━━━━━━━━━━━━━━━━━━━━━━━━━━━━━━━━━━━━━━━━━ </span><span style=\"font-weight: bold\">Step </span><span style=\"color: #008080; text-decoration-color: #008080; font-weight: bold\">2</span><span style=\"color: #d4b702; text-decoration-color: #d4b702\"> ━━━━━━━━━━━━━━━━━━━━━━━━━━━━━━━━━━━━━━━━━━━━━━━━━━━━━━</span>\n",
              "</pre>\n"
            ]
          },
          "metadata": {}
        },
        {
          "output_type": "display_data",
          "data": {
            "text/plain": [
              " ─ \u001b[1mExecuting parsed code:\u001b[0m ──────────────────────────────────────────────────────────────────────────────────────── \n",
              "  \u001b[38;2;248;248;242;48;2;39;40;34mfinal_answer\u001b[0m\u001b[38;2;248;248;242;48;2;39;40;34m(\u001b[0m\u001b[38;2;230;219;116;48;2;39;40;34m\"\u001b[0m\u001b[38;2;230;219;116;48;2;39;40;34mAustralia won the series 3-1 by beating India in the final Test match.\u001b[0m\u001b[38;2;230;219;116;48;2;39;40;34m\"\u001b[0m\u001b[38;2;248;248;242;48;2;39;40;34m)\u001b[0m\u001b[48;2;39;40;34m                         \u001b[0m  \n",
              " ───────────────────────────────────────────────────────────────────────────────────────────────────────────────── \n"
            ],
            "text/html": [
              "<pre style=\"white-space:pre;overflow-x:auto;line-height:normal;font-family:Menlo,'DejaVu Sans Mono',consolas,'Courier New',monospace\"> ─ <span style=\"font-weight: bold\">Executing parsed code:</span> ──────────────────────────────────────────────────────────────────────────────────────── \n",
              "  <span style=\"color: #f8f8f2; text-decoration-color: #f8f8f2; background-color: #272822\">final_answer(</span><span style=\"color: #e6db74; text-decoration-color: #e6db74; background-color: #272822\">\"Australia won the series 3-1 by beating India in the final Test match.\"</span><span style=\"color: #f8f8f2; text-decoration-color: #f8f8f2; background-color: #272822\">)</span><span style=\"background-color: #272822\">                         </span>  \n",
              " ───────────────────────────────────────────────────────────────────────────────────────────────────────────────── \n",
              "</pre>\n"
            ]
          },
          "metadata": {}
        },
        {
          "output_type": "display_data",
          "data": {
            "text/plain": [
              "\u001b[1;38;2;212;183;2mOut - Final answer: Australia won the series 3-1 by beating India in the final Test match.\u001b[0m\n"
            ],
            "text/html": [
              "<pre style=\"white-space:pre;overflow-x:auto;line-height:normal;font-family:Menlo,'DejaVu Sans Mono',consolas,'Courier New',monospace\"><span style=\"color: #d4b702; text-decoration-color: #d4b702; font-weight: bold\">Out - Final answer: Australia won the series 3-1 by beating India in the final Test match.</span>\n",
              "</pre>\n"
            ]
          },
          "metadata": {}
        },
        {
          "output_type": "display_data",
          "data": {
            "text/plain": [
              "\u001b[2m[Step 1: Duration 2.83 seconds| Input tokens: 5,635 | Output tokens: 165]\u001b[0m\n"
            ],
            "text/html": [
              "<pre style=\"white-space:pre;overflow-x:auto;line-height:normal;font-family:Menlo,'DejaVu Sans Mono',consolas,'Courier New',monospace\"><span style=\"color: #7f7f7f; text-decoration-color: #7f7f7f\">[Step 1: Duration 2.83 seconds| Input tokens: 5,635 | Output tokens: 165]</span>\n",
              "</pre>\n"
            ]
          },
          "metadata": {}
        },
        {
          "output_type": "execute_result",
          "data": {
            "text/plain": [
              "'Australia won the series 3-1 by beating India in the final Test match.'"
            ],
            "application/vnd.google.colaboratory.intrinsic+json": {
              "type": "string"
            }
          },
          "metadata": {},
          "execution_count": 10
        }
      ]
    },
    {
      "cell_type": "markdown",
      "source": [
        "## System Prompt Details"
      ],
      "metadata": {
        "id": "QTpFmZwnpCgu"
      }
    },
    {
      "cell_type": "code",
      "source": [
        "print(agent.system_prompt)"
      ],
      "metadata": {
        "colab": {
          "base_uri": "https://localhost:8080/"
        },
        "id": "kLm6m4RmpFh0",
        "outputId": "236bacab-8a61-41f2-c6a8-901d30dd78e3"
      },
      "execution_count": 11,
      "outputs": [
        {
          "output_type": "stream",
          "name": "stdout",
          "text": [
            "You are an expert assistant who can solve any task using code blobs. You will be given a task to solve as best you can.\n",
            "To do so, you have been given access to a list of tools: these tools are basically Python functions which you can call with code.\n",
            "To solve the task, you must plan forward to proceed in a series of steps, in a cycle of 'Thought:', 'Code:', and 'Observation:' sequences.\n",
            "\n",
            "At each step, in the 'Thought:' sequence, you should first explain your reasoning towards solving the task and the tools that you want to use.\n",
            "Then in the 'Code:' sequence, you should write the code in simple Python. The code sequence must end with '<end_code>' sequence.\n",
            "During each intermediate step, you can use 'print()' to save whatever important information you will then need.\n",
            "These print outputs will then appear in the 'Observation:' field, which will be available as input for the next step.\n",
            "In the end you have to return a final answer using the `final_answer` tool.\n",
            "\n",
            "Here are a few examples using notional tools:\n",
            "---\n",
            "Task: \"Generate an image of the oldest person in this document.\"\n",
            "\n",
            "Thought: I will proceed step by step and use the following tools: `document_qa` to find the oldest person in the document, then `image_generator` to generate an image according to the answer.\n",
            "Code:\n",
            "```py\n",
            "answer = document_qa(document=document, question=\"Who is the oldest person mentioned?\")\n",
            "print(answer)\n",
            "```<end_code>\n",
            "Observation: \"The oldest person in the document is John Doe, a 55 year old lumberjack living in Newfoundland.\"\n",
            "\n",
            "Thought: I will now generate an image showcasing the oldest person.\n",
            "Code:\n",
            "```py\n",
            "image = image_generator(\"A portrait of John Doe, a 55-year-old man living in Canada.\")\n",
            "final_answer(image)\n",
            "```<end_code>\n",
            "\n",
            "---\n",
            "Task: \"What is the result of the following operation: 5 + 3 + 1294.678?\"\n",
            "\n",
            "Thought: I will use python code to compute the result of the operation and then return the final answer using the `final_answer` tool\n",
            "Code:\n",
            "```py\n",
            "result = 5 + 3 + 1294.678\n",
            "final_answer(result)\n",
            "```<end_code>\n",
            "\n",
            "---\n",
            "Task:\n",
            "\"Answer the question in the variable `question` about the image stored in the variable `image`. The question is in French.\n",
            "You have been provided with these additional arguments, that you can access using the keys as variables in your python code:\n",
            "{'question': 'Quel est l'animal sur l'image?', 'image': 'path/to/image.jpg'}\"\n",
            "\n",
            "Thought: I will use the following tools: `translator` to translate the question into English and then `image_qa` to answer the question on the input image.\n",
            "Code:\n",
            "```py\n",
            "translated_question = translator(question=question, src_lang=\"French\", tgt_lang=\"English\")\n",
            "print(f\"The translated question is {translated_question}.\")\n",
            "answer = image_qa(image=image, question=translated_question)\n",
            "final_answer(f\"The answer is {answer}\")\n",
            "```<end_code>\n",
            "\n",
            "---\n",
            "Task:\n",
            "In a 1979 interview, Stanislaus Ulam discusses with Martin Sherwin about other great physicists of his time, including Oppenheimer.\n",
            "What does he say was the consequence of Einstein learning too much math on his creativity, in one word?\n",
            "\n",
            "Thought: I need to find and read the 1979 interview of Stanislaus Ulam with Martin Sherwin.\n",
            "Code:\n",
            "```py\n",
            "pages = search(query=\"1979 interview Stanislaus Ulam Martin Sherwin physicists Einstein\")\n",
            "print(pages)\n",
            "```<end_code>\n",
            "Observation:\n",
            "No result found for query \"1979 interview Stanislaus Ulam Martin Sherwin physicists Einstein\".\n",
            "\n",
            "Thought: The query was maybe too restrictive and did not find any results. Let's try again with a broader query.\n",
            "Code:\n",
            "```py\n",
            "pages = search(query=\"1979 interview Stanislaus Ulam\")\n",
            "print(pages)\n",
            "```<end_code>\n",
            "Observation:\n",
            "Found 6 pages:\n",
            "[Stanislaus Ulam 1979 interview](https://ahf.nuclearmuseum.org/voices/oral-histories/stanislaus-ulams-interview-1979/)\n",
            "\n",
            "[Ulam discusses Manhattan Project](https://ahf.nuclearmuseum.org/manhattan-project/ulam-manhattan-project/)\n",
            "\n",
            "(truncated)\n",
            "\n",
            "Thought: I will read the first 2 pages to know more.\n",
            "Code:\n",
            "```py\n",
            "for url in [\"https://ahf.nuclearmuseum.org/voices/oral-histories/stanislaus-ulams-interview-1979/\", \"https://ahf.nuclearmuseum.org/manhattan-project/ulam-manhattan-project/\"]:\n",
            "    whole_page = visit_webpage(url)\n",
            "    print(whole_page)\n",
            "    print(\"\n",
            "\" + \"=\"*80 + \"\n",
            "\")  # Print separator between pages\n",
            "```<end_code>\n",
            "Observation:\n",
            "Manhattan Project Locations:\n",
            "Los Alamos, NM\n",
            "Stanislaus Ulam was a Polish-American mathematician. He worked on the Manhattan Project at Los Alamos and later helped design the hydrogen bomb. In this interview, he discusses his work at\n",
            "(truncated)\n",
            "\n",
            "Thought: I now have the final answer: from the webpages visited, Stanislaus Ulam says of Einstein: \"He learned too much mathematics and sort of diminished, it seems to me personally, it seems to me his purely physics creativity.\" Let's answer in one word.\n",
            "Code:\n",
            "```py\n",
            "final_answer(\"diminished\")\n",
            "```<end_code>\n",
            "\n",
            "---\n",
            "Task: \"Which city has the highest population: Guangzhou or Shanghai?\"\n",
            "\n",
            "Thought: I need to get the populations for both cities and compare them: I will use the tool `search` to get the population of both cities.\n",
            "Code:\n",
            "```py\n",
            "for city in [\"Guangzhou\", \"Shanghai\"]:\n",
            "    print(f\"Population {city}:\", search(f\"{city} population\")\n",
            "```<end_code>\n",
            "Observation:\n",
            "Population Guangzhou: ['Guangzhou has a population of 15 million inhabitants as of 2021.']\n",
            "Population Shanghai: '26 million (2019)'\n",
            "\n",
            "Thought: Now I know that Shanghai has the highest population.\n",
            "Code:\n",
            "```py\n",
            "final_answer(\"Shanghai\")\n",
            "```<end_code>\n",
            "\n",
            "---\n",
            "Task: \"What is the current age of the pope, raised to the power 0.36?\"\n",
            "\n",
            "Thought: I will use the tool `wiki` to get the age of the pope, and confirm that with a web search.\n",
            "Code:\n",
            "```py\n",
            "pope_age_wiki = wiki(query=\"current pope age\")\n",
            "print(\"Pope age as per wikipedia:\", pope_age_wiki)\n",
            "pope_age_search = web_search(query=\"current pope age\")\n",
            "print(\"Pope age as per google search:\", pope_age_search)\n",
            "```<end_code>\n",
            "Observation:\n",
            "Pope age: \"The pope Francis is currently 88 years old.\"\n",
            "\n",
            "Thought: I know that the pope is 88 years old. Let's compute the result using python code.\n",
            "Code:\n",
            "```py\n",
            "pope_current_age = 88 ** 0.36\n",
            "final_answer(pope_current_age)\n",
            "```<end_code>\n",
            "\n",
            "Above example were using notional tools that might not exist for you. On top of performing computations in the Python code snippets that you create, you only have access to these tools:\n",
            "\n",
            "\n",
            "- web_search: Performs a duckduckgo web search based on your query (think a Google search) then returns the top search results.\n",
            "    Takes inputs: {'query': {'type': 'string', 'description': 'The search query to perform.'}}\n",
            "    Returns an output of type: string\n",
            "\n",
            "- final_answer: Provides a final answer to the given problem.\n",
            "    Takes inputs: {'answer': {'type': 'any', 'description': 'The final answer to the problem'}}\n",
            "    Returns an output of type: any\n",
            "\n",
            "\n",
            "\n",
            "Here are the rules you should always follow to solve your task:\n",
            "1. Always provide a 'Thought:' sequence, and a 'Code:\n",
            "```py' sequence ending with '```<end_code>' sequence, else you will fail.\n",
            "2. Use only variables that you have defined!\n",
            "3. Always use the right arguments for the tools. DO NOT pass the arguments as a dict as in 'answer = wiki({'query': \"What is the place where James Bond lives?\"})', but use the arguments directly as in 'answer = wiki(query=\"What is the place where James Bond lives?\")'.\n",
            "4. Take care to not chain too many sequential tool calls in the same code block, especially when the output format is unpredictable. For instance, a call to search has an unpredictable return format, so do not have another tool call that depends on its output in the same block: rather output results with print() to use them in the next block.\n",
            "5. Call a tool only when needed, and never re-do a tool call that you previously did with the exact same parameters.\n",
            "6. Don't name any new variable with the same name as a tool: for instance don't name a variable 'final_answer'.\n",
            "7. Never create any notional variables in our code, as having these in your logs will derail you from the true variables.\n",
            "8. You can use imports in your code, but only from the following list of modules: ['math', 're', 'itertools', 'queue', 'random', 'statistics', 'collections', 'unicodedata', 'stat', 'time', 'datetime']\n",
            "9. The state persists between code executions: so if in one step you've created variables or imported modules, these will all persist.\n",
            "10. Don't give up! You're in charge of solving the task, not providing directions to solve it.\n",
            "\n",
            "Now Begin! If you solve the task correctly, you will receive a reward of $1,000,000.\n",
            "\n"
          ]
        }
      ]
    },
    {
      "cell_type": "code",
      "source": [
        "agent.authorized_imports"
      ],
      "metadata": {
        "colab": {
          "base_uri": "https://localhost:8080/"
        },
        "id": "6dbsFI7HpND5",
        "outputId": "a4659f6e-1bb9-4a94-d7db-b01821a79c7a"
      },
      "execution_count": 12,
      "outputs": [
        {
          "output_type": "execute_result",
          "data": {
            "text/plain": [
              "['math',\n",
              " 're',\n",
              " 'itertools',\n",
              " 'queue',\n",
              " 'random',\n",
              " 'statistics',\n",
              " 'collections',\n",
              " 'unicodedata',\n",
              " 'stat',\n",
              " 'time',\n",
              " 'datetime']"
            ]
          },
          "metadata": {},
          "execution_count": 12
        }
      ]
    },
    {
      "cell_type": "markdown",
      "source": [
        "## Create Custom Tool"
      ],
      "metadata": {
        "id": "5TG_X_tvtn4R"
      }
    },
    {
      "cell_type": "code",
      "source": [
        "from smolagents import Tool"
      ],
      "metadata": {
        "id": "vciYAzEXusog"
      },
      "execution_count": 14,
      "outputs": []
    },
    {
      "cell_type": "code",
      "source": [
        "class HFModelDownloadsTool(Tool):\n",
        "    name = \"model_download_counter\"\n",
        "    description = \"\"\"\n",
        "    This is a tool that returns the most downloaded model of a given task on the Hugging Face Hub.\n",
        "    It returns the name of the checkpoint.\"\"\"\n",
        "    inputs = {\n",
        "        \"task\": {\n",
        "            \"type\": \"string\",\n",
        "            \"description\": \"the task category (such as text-classification, depth-estimation, etc)\",\n",
        "        }\n",
        "    }\n",
        "    output_type = \"string\"\n",
        "\n",
        "\n",
        "    def forward(self,task:str):\n",
        "      from huggingface_hub import list_models\n",
        "\n",
        "      model = next(iter(list_models(filter=task, sort=\"downloads\", direction=-1)))\n",
        "      return model.id"
      ],
      "metadata": {
        "id": "Y5VyYzjhtqcD"
      },
      "execution_count": 15,
      "outputs": []
    },
    {
      "cell_type": "code",
      "source": [
        "#create instance of HFModelDownloadsTool Class\n",
        "model_downloads_tool = HFModelDownloadsTool()"
      ],
      "metadata": {
        "id": "zrfe1HVqua68"
      },
      "execution_count": 16,
      "outputs": []
    },
    {
      "cell_type": "code",
      "source": [
        "agent = CodeAgent(tools=[model_downloads_tool], model=HfApiModel(),additional_authorized_imports=['math','pandas','requests', 'bs4','matplotlib','yfinance'])"
      ],
      "metadata": {
        "id": "ns53fx8Gx0qQ"
      },
      "execution_count": 17,
      "outputs": []
    },
    {
      "cell_type": "code",
      "source": [
        "agent.run(\"what is a most downloaded model for text to image generation?\")"
      ],
      "metadata": {
        "colab": {
          "base_uri": "https://localhost:8080/",
          "height": 581
        },
        "id": "U_6WA6PDx3jF",
        "outputId": "92714a4e-e4e9-434f-e6f0-85f2a4d254fb"
      },
      "execution_count": 18,
      "outputs": [
        {
          "output_type": "display_data",
          "data": {
            "text/plain": [
              "\u001b[38;2;212;183;2m╭─\u001b[0m\u001b[38;2;212;183;2m───────────────────────────────────────────────────\u001b[0m\u001b[38;2;212;183;2m \u001b[0m\u001b[1;38;2;212;183;2mNew run\u001b[0m\u001b[38;2;212;183;2m \u001b[0m\u001b[38;2;212;183;2m───────────────────────────────────────────────────\u001b[0m\u001b[38;2;212;183;2m─╮\u001b[0m\n",
              "\u001b[38;2;212;183;2m│\u001b[0m                                                                                                                 \u001b[38;2;212;183;2m│\u001b[0m\n",
              "\u001b[38;2;212;183;2m│\u001b[0m \u001b[1mwhat is a most downloaded model for text to image generation?\u001b[0m                                                   \u001b[38;2;212;183;2m│\u001b[0m\n",
              "\u001b[38;2;212;183;2m│\u001b[0m                                                                                                                 \u001b[38;2;212;183;2m│\u001b[0m\n",
              "\u001b[38;2;212;183;2m╰─\u001b[0m\u001b[38;2;212;183;2m HfApiModel - Qwen/Qwen2.5-Coder-32B-Instruct \u001b[0m\u001b[38;2;212;183;2m─────────────────────────────────────────────────────────────────\u001b[0m\u001b[38;2;212;183;2m─╯\u001b[0m\n"
            ],
            "text/html": [
              "<pre style=\"white-space:pre;overflow-x:auto;line-height:normal;font-family:Menlo,'DejaVu Sans Mono',consolas,'Courier New',monospace\"><span style=\"color: #d4b702; text-decoration-color: #d4b702\">╭──────────────────────────────────────────────────── </span><span style=\"color: #d4b702; text-decoration-color: #d4b702; font-weight: bold\">New run</span><span style=\"color: #d4b702; text-decoration-color: #d4b702\"> ────────────────────────────────────────────────────╮</span>\n",
              "<span style=\"color: #d4b702; text-decoration-color: #d4b702\">│</span>                                                                                                                 <span style=\"color: #d4b702; text-decoration-color: #d4b702\">│</span>\n",
              "<span style=\"color: #d4b702; text-decoration-color: #d4b702\">│</span> <span style=\"font-weight: bold\">what is a most downloaded model for text to image generation?</span>                                                   <span style=\"color: #d4b702; text-decoration-color: #d4b702\">│</span>\n",
              "<span style=\"color: #d4b702; text-decoration-color: #d4b702\">│</span>                                                                                                                 <span style=\"color: #d4b702; text-decoration-color: #d4b702\">│</span>\n",
              "<span style=\"color: #d4b702; text-decoration-color: #d4b702\">╰─ HfApiModel - Qwen/Qwen2.5-Coder-32B-Instruct ──────────────────────────────────────────────────────────────────╯</span>\n",
              "</pre>\n"
            ]
          },
          "metadata": {}
        },
        {
          "output_type": "display_data",
          "data": {
            "text/plain": [
              "\u001b[38;2;212;183;2m━━━━━━━━━━━━━━━━━━━━━━━━━━━━━━━━━━━━━━━━━━━━━━━━━━━━━ \u001b[0m\u001b[1mStep \u001b[0m\u001b[1;36m1\u001b[0m\u001b[38;2;212;183;2m ━━━━━━━━━━━━━━━━━━━━━━━━━━━━━━━━━━━━━━━━━━━━━━━━━━━━━━\u001b[0m\n"
            ],
            "text/html": [
              "<pre style=\"white-space:pre;overflow-x:auto;line-height:normal;font-family:Menlo,'DejaVu Sans Mono',consolas,'Courier New',monospace\"><span style=\"color: #d4b702; text-decoration-color: #d4b702\">━━━━━━━━━━━━━━━━━━━━━━━━━━━━━━━━━━━━━━━━━━━━━━━━━━━━━ </span><span style=\"font-weight: bold\">Step </span><span style=\"color: #008080; text-decoration-color: #008080; font-weight: bold\">1</span><span style=\"color: #d4b702; text-decoration-color: #d4b702\"> ━━━━━━━━━━━━━━━━━━━━━━━━━━━━━━━━━━━━━━━━━━━━━━━━━━━━━━</span>\n",
              "</pre>\n"
            ]
          },
          "metadata": {}
        },
        {
          "output_type": "display_data",
          "data": {
            "text/plain": [
              " ─ \u001b[1mExecuting parsed code:\u001b[0m ──────────────────────────────────────────────────────────────────────────────────────── \n",
              "  \u001b[38;2;248;248;242;48;2;39;40;34mmost_downloaded_model\u001b[0m\u001b[38;2;248;248;242;48;2;39;40;34m \u001b[0m\u001b[38;2;255;70;137;48;2;39;40;34m=\u001b[0m\u001b[38;2;248;248;242;48;2;39;40;34m \u001b[0m\u001b[38;2;248;248;242;48;2;39;40;34mmodel_download_counter\u001b[0m\u001b[38;2;248;248;242;48;2;39;40;34m(\u001b[0m\u001b[38;2;248;248;242;48;2;39;40;34mtask\u001b[0m\u001b[38;2;255;70;137;48;2;39;40;34m=\u001b[0m\u001b[38;2;230;219;116;48;2;39;40;34m\"\u001b[0m\u001b[38;2;230;219;116;48;2;39;40;34mtext-to-image-generation\u001b[0m\u001b[38;2;230;219;116;48;2;39;40;34m\"\u001b[0m\u001b[38;2;248;248;242;48;2;39;40;34m)\u001b[0m\u001b[48;2;39;40;34m                                \u001b[0m  \n",
              "  \u001b[38;2;248;248;242;48;2;39;40;34mprint\u001b[0m\u001b[38;2;248;248;242;48;2;39;40;34m(\u001b[0m\u001b[38;2;248;248;242;48;2;39;40;34mmost_downloaded_model\u001b[0m\u001b[38;2;248;248;242;48;2;39;40;34m)\u001b[0m\u001b[48;2;39;40;34m                                                                                   \u001b[0m  \n",
              " ───────────────────────────────────────────────────────────────────────────────────────────────────────────────── \n"
            ],
            "text/html": [
              "<pre style=\"white-space:pre;overflow-x:auto;line-height:normal;font-family:Menlo,'DejaVu Sans Mono',consolas,'Courier New',monospace\"> ─ <span style=\"font-weight: bold\">Executing parsed code:</span> ──────────────────────────────────────────────────────────────────────────────────────── \n",
              "  <span style=\"color: #f8f8f2; text-decoration-color: #f8f8f2; background-color: #272822\">most_downloaded_model </span><span style=\"color: #ff4689; text-decoration-color: #ff4689; background-color: #272822\">=</span><span style=\"color: #f8f8f2; text-decoration-color: #f8f8f2; background-color: #272822\"> model_download_counter(task</span><span style=\"color: #ff4689; text-decoration-color: #ff4689; background-color: #272822\">=</span><span style=\"color: #e6db74; text-decoration-color: #e6db74; background-color: #272822\">\"text-to-image-generation\"</span><span style=\"color: #f8f8f2; text-decoration-color: #f8f8f2; background-color: #272822\">)</span><span style=\"background-color: #272822\">                                </span>  \n",
              "  <span style=\"color: #f8f8f2; text-decoration-color: #f8f8f2; background-color: #272822\">print(most_downloaded_model)</span><span style=\"background-color: #272822\">                                                                                   </span>  \n",
              " ───────────────────────────────────────────────────────────────────────────────────────────────────────────────── \n",
              "</pre>\n"
            ]
          },
          "metadata": {}
        },
        {
          "output_type": "display_data",
          "data": {
            "text/plain": [
              "\u001b[1;31mCode execution failed at line \u001b[0m\u001b[1;31m'most_downloaded_model = model_download_counter\u001b[0m\u001b[1;31m(\u001b[0m\u001b[1;31mtask\u001b[0m\u001b[1;31m=\u001b[0m\u001b[1;31m\"text\u001b[0m\u001b[1;31m-to-image-generation\"\u001b[0m\u001b[1;31m)\u001b[0m\u001b[1;31m'\u001b[0m\u001b[1;31m due\u001b[0m\n",
              "\u001b[1;31mto: StopIteration:\u001b[0m\n"
            ],
            "text/html": [
              "<pre style=\"white-space:pre;overflow-x:auto;line-height:normal;font-family:Menlo,'DejaVu Sans Mono',consolas,'Courier New',monospace\"><span style=\"color: #800000; text-decoration-color: #800000; font-weight: bold\">Code execution failed at line </span><span style=\"color: #800000; text-decoration-color: #800000; font-weight: bold\">'most_downloaded_model = model_download_counter(task=\"text-to-image-generation\")'</span><span style=\"color: #800000; text-decoration-color: #800000; font-weight: bold\"> due</span>\n",
              "<span style=\"color: #800000; text-decoration-color: #800000; font-weight: bold\">to: StopIteration:</span>\n",
              "</pre>\n"
            ]
          },
          "metadata": {}
        },
        {
          "output_type": "display_data",
          "data": {
            "text/plain": [
              "\u001b[2m[Step 0: Duration 5.13 seconds| Input tokens: 2,117 | Output tokens: 90]\u001b[0m\n"
            ],
            "text/html": [
              "<pre style=\"white-space:pre;overflow-x:auto;line-height:normal;font-family:Menlo,'DejaVu Sans Mono',consolas,'Courier New',monospace\"><span style=\"color: #7f7f7f; text-decoration-color: #7f7f7f\">[Step 0: Duration 5.13 seconds| Input tokens: 2,117 | Output tokens: 90]</span>\n",
              "</pre>\n"
            ]
          },
          "metadata": {}
        },
        {
          "output_type": "display_data",
          "data": {
            "text/plain": [
              "\u001b[38;2;212;183;2m━━━━━━━━━━━━━━━━━━━━━━━━━━━━━━━━━━━━━━━━━━━━━━━━━━━━━ \u001b[0m\u001b[1mStep \u001b[0m\u001b[1;36m2\u001b[0m\u001b[38;2;212;183;2m ━━━━━━━━━━━━━━━━━━━━━━━━━━━━━━━━━━━━━━━━━━━━━━━━━━━━━━\u001b[0m\n"
            ],
            "text/html": [
              "<pre style=\"white-space:pre;overflow-x:auto;line-height:normal;font-family:Menlo,'DejaVu Sans Mono',consolas,'Courier New',monospace\"><span style=\"color: #d4b702; text-decoration-color: #d4b702\">━━━━━━━━━━━━━━━━━━━━━━━━━━━━━━━━━━━━━━━━━━━━━━━━━━━━━ </span><span style=\"font-weight: bold\">Step </span><span style=\"color: #008080; text-decoration-color: #008080; font-weight: bold\">2</span><span style=\"color: #d4b702; text-decoration-color: #d4b702\"> ━━━━━━━━━━━━━━━━━━━━━━━━━━━━━━━━━━━━━━━━━━━━━━━━━━━━━━</span>\n",
              "</pre>\n"
            ]
          },
          "metadata": {}
        },
        {
          "output_type": "display_data",
          "data": {
            "text/plain": [
              " ─ \u001b[1mExecuting parsed code:\u001b[0m ──────────────────────────────────────────────────────────────────────────────────────── \n",
              "  \u001b[38;2;248;248;242;48;2;39;40;34mmost_downloaded_model_image_generation\u001b[0m\u001b[38;2;248;248;242;48;2;39;40;34m \u001b[0m\u001b[38;2;255;70;137;48;2;39;40;34m=\u001b[0m\u001b[38;2;248;248;242;48;2;39;40;34m \u001b[0m\u001b[38;2;248;248;242;48;2;39;40;34mmodel_download_counter\u001b[0m\u001b[38;2;248;248;242;48;2;39;40;34m(\u001b[0m\u001b[38;2;248;248;242;48;2;39;40;34mtask\u001b[0m\u001b[38;2;255;70;137;48;2;39;40;34m=\u001b[0m\u001b[38;2;230;219;116;48;2;39;40;34m\"\u001b[0m\u001b[38;2;230;219;116;48;2;39;40;34mimage-generation\u001b[0m\u001b[38;2;230;219;116;48;2;39;40;34m\"\u001b[0m\u001b[38;2;248;248;242;48;2;39;40;34m)\u001b[0m\u001b[48;2;39;40;34m                       \u001b[0m  \n",
              "  \u001b[38;2;248;248;242;48;2;39;40;34mprint\u001b[0m\u001b[38;2;248;248;242;48;2;39;40;34m(\u001b[0m\u001b[38;2;230;219;116;48;2;39;40;34m\"\u001b[0m\u001b[38;2;230;219;116;48;2;39;40;34mMost downloaded model for image-generation:\u001b[0m\u001b[38;2;230;219;116;48;2;39;40;34m\"\u001b[0m\u001b[38;2;248;248;242;48;2;39;40;34m,\u001b[0m\u001b[38;2;248;248;242;48;2;39;40;34m \u001b[0m\u001b[38;2;248;248;242;48;2;39;40;34mmost_downloaded_model_image_generation\u001b[0m\u001b[38;2;248;248;242;48;2;39;40;34m)\u001b[0m\u001b[48;2;39;40;34m                   \u001b[0m  \n",
              "  \u001b[48;2;39;40;34m                                                                                                               \u001b[0m  \n",
              "  \u001b[38;2;248;248;242;48;2;39;40;34mmost_downloaded_model_image_to_image\u001b[0m\u001b[38;2;248;248;242;48;2;39;40;34m \u001b[0m\u001b[38;2;255;70;137;48;2;39;40;34m=\u001b[0m\u001b[38;2;248;248;242;48;2;39;40;34m \u001b[0m\u001b[38;2;248;248;242;48;2;39;40;34mmodel_download_counter\u001b[0m\u001b[38;2;248;248;242;48;2;39;40;34m(\u001b[0m\u001b[38;2;248;248;242;48;2;39;40;34mtask\u001b[0m\u001b[38;2;255;70;137;48;2;39;40;34m=\u001b[0m\u001b[38;2;230;219;116;48;2;39;40;34m\"\u001b[0m\u001b[38;2;230;219;116;48;2;39;40;34mimage-to-image\u001b[0m\u001b[38;2;230;219;116;48;2;39;40;34m\"\u001b[0m\u001b[38;2;248;248;242;48;2;39;40;34m)\u001b[0m\u001b[48;2;39;40;34m                           \u001b[0m  \n",
              "  \u001b[38;2;248;248;242;48;2;39;40;34mprint\u001b[0m\u001b[38;2;248;248;242;48;2;39;40;34m(\u001b[0m\u001b[38;2;230;219;116;48;2;39;40;34m\"\u001b[0m\u001b[38;2;230;219;116;48;2;39;40;34mMost downloaded model for image-to-image:\u001b[0m\u001b[38;2;230;219;116;48;2;39;40;34m\"\u001b[0m\u001b[38;2;248;248;242;48;2;39;40;34m,\u001b[0m\u001b[38;2;248;248;242;48;2;39;40;34m \u001b[0m\u001b[38;2;248;248;242;48;2;39;40;34mmost_downloaded_model_image_to_image\u001b[0m\u001b[38;2;248;248;242;48;2;39;40;34m)\u001b[0m\u001b[48;2;39;40;34m                       \u001b[0m  \n",
              " ───────────────────────────────────────────────────────────────────────────────────────────────────────────────── \n"
            ],
            "text/html": [
              "<pre style=\"white-space:pre;overflow-x:auto;line-height:normal;font-family:Menlo,'DejaVu Sans Mono',consolas,'Courier New',monospace\"> ─ <span style=\"font-weight: bold\">Executing parsed code:</span> ──────────────────────────────────────────────────────────────────────────────────────── \n",
              "  <span style=\"color: #f8f8f2; text-decoration-color: #f8f8f2; background-color: #272822\">most_downloaded_model_image_generation </span><span style=\"color: #ff4689; text-decoration-color: #ff4689; background-color: #272822\">=</span><span style=\"color: #f8f8f2; text-decoration-color: #f8f8f2; background-color: #272822\"> model_download_counter(task</span><span style=\"color: #ff4689; text-decoration-color: #ff4689; background-color: #272822\">=</span><span style=\"color: #e6db74; text-decoration-color: #e6db74; background-color: #272822\">\"image-generation\"</span><span style=\"color: #f8f8f2; text-decoration-color: #f8f8f2; background-color: #272822\">)</span><span style=\"background-color: #272822\">                       </span>  \n",
              "  <span style=\"color: #f8f8f2; text-decoration-color: #f8f8f2; background-color: #272822\">print(</span><span style=\"color: #e6db74; text-decoration-color: #e6db74; background-color: #272822\">\"Most downloaded model for image-generation:\"</span><span style=\"color: #f8f8f2; text-decoration-color: #f8f8f2; background-color: #272822\">, most_downloaded_model_image_generation)</span><span style=\"background-color: #272822\">                   </span>  \n",
              "  <span style=\"background-color: #272822\">                                                                                                               </span>  \n",
              "  <span style=\"color: #f8f8f2; text-decoration-color: #f8f8f2; background-color: #272822\">most_downloaded_model_image_to_image </span><span style=\"color: #ff4689; text-decoration-color: #ff4689; background-color: #272822\">=</span><span style=\"color: #f8f8f2; text-decoration-color: #f8f8f2; background-color: #272822\"> model_download_counter(task</span><span style=\"color: #ff4689; text-decoration-color: #ff4689; background-color: #272822\">=</span><span style=\"color: #e6db74; text-decoration-color: #e6db74; background-color: #272822\">\"image-to-image\"</span><span style=\"color: #f8f8f2; text-decoration-color: #f8f8f2; background-color: #272822\">)</span><span style=\"background-color: #272822\">                           </span>  \n",
              "  <span style=\"color: #f8f8f2; text-decoration-color: #f8f8f2; background-color: #272822\">print(</span><span style=\"color: #e6db74; text-decoration-color: #e6db74; background-color: #272822\">\"Most downloaded model for image-to-image:\"</span><span style=\"color: #f8f8f2; text-decoration-color: #f8f8f2; background-color: #272822\">, most_downloaded_model_image_to_image)</span><span style=\"background-color: #272822\">                       </span>  \n",
              " ───────────────────────────────────────────────────────────────────────────────────────────────────────────────── \n",
              "</pre>\n"
            ]
          },
          "metadata": {}
        },
        {
          "output_type": "display_data",
          "data": {
            "text/plain": [
              "\u001b[1mExecution logs:\u001b[0m\n",
              "Most downloaded model for image-generation: black-forest-labs/FLUX.1-dev\n",
              "Most downloaded model for image-to-image: stabilityai/stable-diffusion-xl-refiner-1.0\n",
              "\n",
              "Out: None\n"
            ],
            "text/html": [
              "<pre style=\"white-space:pre;overflow-x:auto;line-height:normal;font-family:Menlo,'DejaVu Sans Mono',consolas,'Courier New',monospace\"><span style=\"font-weight: bold\">Execution logs:</span>\n",
              "Most downloaded model for image-generation: black-forest-labs/FLUX.1-dev\n",
              "Most downloaded model for image-to-image: stabilityai/stable-diffusion-xl-refiner-1.0\n",
              "\n",
              "Out: None\n",
              "</pre>\n"
            ]
          },
          "metadata": {}
        },
        {
          "output_type": "display_data",
          "data": {
            "text/plain": [
              "\u001b[2m[Step 1: Duration 4.56 seconds| Input tokens: 4,457 | Output tokens: 217]\u001b[0m\n"
            ],
            "text/html": [
              "<pre style=\"white-space:pre;overflow-x:auto;line-height:normal;font-family:Menlo,'DejaVu Sans Mono',consolas,'Courier New',monospace\"><span style=\"color: #7f7f7f; text-decoration-color: #7f7f7f\">[Step 1: Duration 4.56 seconds| Input tokens: 4,457 | Output tokens: 217]</span>\n",
              "</pre>\n"
            ]
          },
          "metadata": {}
        },
        {
          "output_type": "display_data",
          "data": {
            "text/plain": [
              "\u001b[38;2;212;183;2m━━━━━━━━━━━━━━━━━━━━━━━━━━━━━━━━━━━━━━━━━━━━━━━━━━━━━ \u001b[0m\u001b[1mStep \u001b[0m\u001b[1;36m3\u001b[0m\u001b[38;2;212;183;2m ━━━━━━━━━━━━━━━━━━━━━━━━━━━━━━━━━━━━━━━━━━━━━━━━━━━━━━\u001b[0m\n"
            ],
            "text/html": [
              "<pre style=\"white-space:pre;overflow-x:auto;line-height:normal;font-family:Menlo,'DejaVu Sans Mono',consolas,'Courier New',monospace\"><span style=\"color: #d4b702; text-decoration-color: #d4b702\">━━━━━━━━━━━━━━━━━━━━━━━━━━━━━━━━━━━━━━━━━━━━━━━━━━━━━ </span><span style=\"font-weight: bold\">Step </span><span style=\"color: #008080; text-decoration-color: #008080; font-weight: bold\">3</span><span style=\"color: #d4b702; text-decoration-color: #d4b702\"> ━━━━━━━━━━━━━━━━━━━━━━━━━━━━━━━━━━━━━━━━━━━━━━━━━━━━━━</span>\n",
              "</pre>\n"
            ]
          },
          "metadata": {}
        },
        {
          "output_type": "display_data",
          "data": {
            "text/plain": [
              " ─ \u001b[1mExecuting parsed code:\u001b[0m ──────────────────────────────────────────────────────────────────────────────────────── \n",
              "  \u001b[38;2;248;248;242;48;2;39;40;34mfinal_answer\u001b[0m\u001b[38;2;248;248;242;48;2;39;40;34m(\u001b[0m\u001b[38;2;230;219;116;48;2;39;40;34m\"\u001b[0m\u001b[38;2;230;219;116;48;2;39;40;34mblack-forest-labs/FLUX.1-dev\u001b[0m\u001b[38;2;230;219;116;48;2;39;40;34m\"\u001b[0m\u001b[38;2;248;248;242;48;2;39;40;34m)\u001b[0m\u001b[48;2;39;40;34m                                                                   \u001b[0m  \n",
              " ───────────────────────────────────────────────────────────────────────────────────────────────────────────────── \n"
            ],
            "text/html": [
              "<pre style=\"white-space:pre;overflow-x:auto;line-height:normal;font-family:Menlo,'DejaVu Sans Mono',consolas,'Courier New',monospace\"> ─ <span style=\"font-weight: bold\">Executing parsed code:</span> ──────────────────────────────────────────────────────────────────────────────────────── \n",
              "  <span style=\"color: #f8f8f2; text-decoration-color: #f8f8f2; background-color: #272822\">final_answer(</span><span style=\"color: #e6db74; text-decoration-color: #e6db74; background-color: #272822\">\"black-forest-labs/FLUX.1-dev\"</span><span style=\"color: #f8f8f2; text-decoration-color: #f8f8f2; background-color: #272822\">)</span><span style=\"background-color: #272822\">                                                                   </span>  \n",
              " ───────────────────────────────────────────────────────────────────────────────────────────────────────────────── \n",
              "</pre>\n"
            ]
          },
          "metadata": {}
        },
        {
          "output_type": "display_data",
          "data": {
            "text/plain": [
              "\u001b[1;38;2;212;183;2mOut - Final answer: black-forest-labs/FLUX.1-dev\u001b[0m\n"
            ],
            "text/html": [
              "<pre style=\"white-space:pre;overflow-x:auto;line-height:normal;font-family:Menlo,'DejaVu Sans Mono',consolas,'Courier New',monospace\"><span style=\"color: #d4b702; text-decoration-color: #d4b702; font-weight: bold\">Out - Final answer: black-forest-labs/FLUX.1-dev</span>\n",
              "</pre>\n"
            ]
          },
          "metadata": {}
        },
        {
          "output_type": "display_data",
          "data": {
            "text/plain": [
              "\u001b[2m[Step 2: Duration 3.39 seconds| Input tokens: 7,103 | Output tokens: 345]\u001b[0m\n"
            ],
            "text/html": [
              "<pre style=\"white-space:pre;overflow-x:auto;line-height:normal;font-family:Menlo,'DejaVu Sans Mono',consolas,'Courier New',monospace\"><span style=\"color: #7f7f7f; text-decoration-color: #7f7f7f\">[Step 2: Duration 3.39 seconds| Input tokens: 7,103 | Output tokens: 345]</span>\n",
              "</pre>\n"
            ]
          },
          "metadata": {}
        },
        {
          "output_type": "execute_result",
          "data": {
            "text/plain": [
              "'black-forest-labs/FLUX.1-dev'"
            ],
            "application/vnd.google.colaboratory.intrinsic+json": {
              "type": "string"
            }
          },
          "metadata": {},
          "execution_count": 18
        }
      ]
    },
    {
      "cell_type": "markdown",
      "source": [
        "black-forest-labs/FLUX.1-dev"
      ],
      "metadata": {
        "id": "sLtgsm9jyGcR"
      }
    },
    {
      "cell_type": "code",
      "source": [
        "agent.run(\"What is the most downloaded model for image to image task?\")"
      ],
      "metadata": {
        "colab": {
          "base_uri": "https://localhost:8080/",
          "height": 399
        },
        "id": "PR8fU5NByN7x",
        "outputId": "8fd01041-efdb-4295-f1e9-04f036a92414"
      },
      "execution_count": 19,
      "outputs": [
        {
          "output_type": "display_data",
          "data": {
            "text/plain": [
              "\u001b[38;2;212;183;2m╭─\u001b[0m\u001b[38;2;212;183;2m───────────────────────────────────────────────────\u001b[0m\u001b[38;2;212;183;2m \u001b[0m\u001b[1;38;2;212;183;2mNew run\u001b[0m\u001b[38;2;212;183;2m \u001b[0m\u001b[38;2;212;183;2m───────────────────────────────────────────────────\u001b[0m\u001b[38;2;212;183;2m─╮\u001b[0m\n",
              "\u001b[38;2;212;183;2m│\u001b[0m                                                                                                                 \u001b[38;2;212;183;2m│\u001b[0m\n",
              "\u001b[38;2;212;183;2m│\u001b[0m \u001b[1mWhat is the most downloaded model for image to image task?\u001b[0m                                                      \u001b[38;2;212;183;2m│\u001b[0m\n",
              "\u001b[38;2;212;183;2m│\u001b[0m                                                                                                                 \u001b[38;2;212;183;2m│\u001b[0m\n",
              "\u001b[38;2;212;183;2m╰─\u001b[0m\u001b[38;2;212;183;2m HfApiModel - Qwen/Qwen2.5-Coder-32B-Instruct \u001b[0m\u001b[38;2;212;183;2m─────────────────────────────────────────────────────────────────\u001b[0m\u001b[38;2;212;183;2m─╯\u001b[0m\n"
            ],
            "text/html": [
              "<pre style=\"white-space:pre;overflow-x:auto;line-height:normal;font-family:Menlo,'DejaVu Sans Mono',consolas,'Courier New',monospace\"><span style=\"color: #d4b702; text-decoration-color: #d4b702\">╭──────────────────────────────────────────────────── </span><span style=\"color: #d4b702; text-decoration-color: #d4b702; font-weight: bold\">New run</span><span style=\"color: #d4b702; text-decoration-color: #d4b702\"> ────────────────────────────────────────────────────╮</span>\n",
              "<span style=\"color: #d4b702; text-decoration-color: #d4b702\">│</span>                                                                                                                 <span style=\"color: #d4b702; text-decoration-color: #d4b702\">│</span>\n",
              "<span style=\"color: #d4b702; text-decoration-color: #d4b702\">│</span> <span style=\"font-weight: bold\">What is the most downloaded model for image to image task?</span>                                                      <span style=\"color: #d4b702; text-decoration-color: #d4b702\">│</span>\n",
              "<span style=\"color: #d4b702; text-decoration-color: #d4b702\">│</span>                                                                                                                 <span style=\"color: #d4b702; text-decoration-color: #d4b702\">│</span>\n",
              "<span style=\"color: #d4b702; text-decoration-color: #d4b702\">╰─ HfApiModel - Qwen/Qwen2.5-Coder-32B-Instruct ──────────────────────────────────────────────────────────────────╯</span>\n",
              "</pre>\n"
            ]
          },
          "metadata": {}
        },
        {
          "output_type": "display_data",
          "data": {
            "text/plain": [
              "\u001b[38;2;212;183;2m━━━━━━━━━━━━━━━━━━━━━━━━━━━━━━━━━━━━━━━━━━━━━━━━━━━━━ \u001b[0m\u001b[1mStep \u001b[0m\u001b[1;36m1\u001b[0m\u001b[38;2;212;183;2m ━━━━━━━━━━━━━━━━━━━━━━━━━━━━━━━━━━━━━━━━━━━━━━━━━━━━━━\u001b[0m\n"
            ],
            "text/html": [
              "<pre style=\"white-space:pre;overflow-x:auto;line-height:normal;font-family:Menlo,'DejaVu Sans Mono',consolas,'Courier New',monospace\"><span style=\"color: #d4b702; text-decoration-color: #d4b702\">━━━━━━━━━━━━━━━━━━━━━━━━━━━━━━━━━━━━━━━━━━━━━━━━━━━━━ </span><span style=\"font-weight: bold\">Step </span><span style=\"color: #008080; text-decoration-color: #008080; font-weight: bold\">1</span><span style=\"color: #d4b702; text-decoration-color: #d4b702\"> ━━━━━━━━━━━━━━━━━━━━━━━━━━━━━━━━━━━━━━━━━━━━━━━━━━━━━━</span>\n",
              "</pre>\n"
            ]
          },
          "metadata": {}
        },
        {
          "output_type": "display_data",
          "data": {
            "text/plain": [
              " ─ \u001b[1mExecuting parsed code:\u001b[0m ──────────────────────────────────────────────────────────────────────────────────────── \n",
              "  \u001b[38;2;248;248;242;48;2;39;40;34mmost_downloaded_model\u001b[0m\u001b[38;2;248;248;242;48;2;39;40;34m \u001b[0m\u001b[38;2;255;70;137;48;2;39;40;34m=\u001b[0m\u001b[38;2;248;248;242;48;2;39;40;34m \u001b[0m\u001b[38;2;248;248;242;48;2;39;40;34mmodel_download_counter\u001b[0m\u001b[38;2;248;248;242;48;2;39;40;34m(\u001b[0m\u001b[38;2;248;248;242;48;2;39;40;34mtask\u001b[0m\u001b[38;2;255;70;137;48;2;39;40;34m=\u001b[0m\u001b[38;2;230;219;116;48;2;39;40;34m\"\u001b[0m\u001b[38;2;230;219;116;48;2;39;40;34mimage-to-image\u001b[0m\u001b[38;2;230;219;116;48;2;39;40;34m\"\u001b[0m\u001b[38;2;248;248;242;48;2;39;40;34m)\u001b[0m\u001b[48;2;39;40;34m                                          \u001b[0m  \n",
              "  \u001b[38;2;248;248;242;48;2;39;40;34mprint\u001b[0m\u001b[38;2;248;248;242;48;2;39;40;34m(\u001b[0m\u001b[38;2;248;248;242;48;2;39;40;34mmost_downloaded_model\u001b[0m\u001b[38;2;248;248;242;48;2;39;40;34m)\u001b[0m\u001b[48;2;39;40;34m                                                                                   \u001b[0m  \n",
              " ───────────────────────────────────────────────────────────────────────────────────────────────────────────────── \n"
            ],
            "text/html": [
              "<pre style=\"white-space:pre;overflow-x:auto;line-height:normal;font-family:Menlo,'DejaVu Sans Mono',consolas,'Courier New',monospace\"> ─ <span style=\"font-weight: bold\">Executing parsed code:</span> ──────────────────────────────────────────────────────────────────────────────────────── \n",
              "  <span style=\"color: #f8f8f2; text-decoration-color: #f8f8f2; background-color: #272822\">most_downloaded_model </span><span style=\"color: #ff4689; text-decoration-color: #ff4689; background-color: #272822\">=</span><span style=\"color: #f8f8f2; text-decoration-color: #f8f8f2; background-color: #272822\"> model_download_counter(task</span><span style=\"color: #ff4689; text-decoration-color: #ff4689; background-color: #272822\">=</span><span style=\"color: #e6db74; text-decoration-color: #e6db74; background-color: #272822\">\"image-to-image\"</span><span style=\"color: #f8f8f2; text-decoration-color: #f8f8f2; background-color: #272822\">)</span><span style=\"background-color: #272822\">                                          </span>  \n",
              "  <span style=\"color: #f8f8f2; text-decoration-color: #f8f8f2; background-color: #272822\">print(most_downloaded_model)</span><span style=\"background-color: #272822\">                                                                                   </span>  \n",
              " ───────────────────────────────────────────────────────────────────────────────────────────────────────────────── \n",
              "</pre>\n"
            ]
          },
          "metadata": {}
        },
        {
          "output_type": "display_data",
          "data": {
            "text/plain": [
              "\u001b[1mExecution logs:\u001b[0m\n",
              "stabilityai/stable-diffusion-xl-refiner-1.0\n",
              "\n",
              "Out: None\n"
            ],
            "text/html": [
              "<pre style=\"white-space:pre;overflow-x:auto;line-height:normal;font-family:Menlo,'DejaVu Sans Mono',consolas,'Courier New',monospace\"><span style=\"font-weight: bold\">Execution logs:</span>\n",
              "stabilityai/stable-diffusion-xl-refiner-1.0\n",
              "\n",
              "Out: None\n",
              "</pre>\n"
            ]
          },
          "metadata": {}
        },
        {
          "output_type": "display_data",
          "data": {
            "text/plain": [
              "\u001b[2m[Step 0: Duration 2.67 seconds| Input tokens: 2,117 | Output tokens: 67]\u001b[0m\n"
            ],
            "text/html": [
              "<pre style=\"white-space:pre;overflow-x:auto;line-height:normal;font-family:Menlo,'DejaVu Sans Mono',consolas,'Courier New',monospace\"><span style=\"color: #7f7f7f; text-decoration-color: #7f7f7f\">[Step 0: Duration 2.67 seconds| Input tokens: 2,117 | Output tokens: 67]</span>\n",
              "</pre>\n"
            ]
          },
          "metadata": {}
        },
        {
          "output_type": "display_data",
          "data": {
            "text/plain": [
              "\u001b[38;2;212;183;2m━━━━━━━━━━━━━━━━━━━━━━━━━━━━━━━━━━━━━━━━━━━━━━━━━━━━━ \u001b[0m\u001b[1mStep \u001b[0m\u001b[1;36m2\u001b[0m\u001b[38;2;212;183;2m ━━━━━━━━━━━━━━━━━━━━━━━━━━━━━━━━━━━━━━━━━━━━━━━━━━━━━━\u001b[0m\n"
            ],
            "text/html": [
              "<pre style=\"white-space:pre;overflow-x:auto;line-height:normal;font-family:Menlo,'DejaVu Sans Mono',consolas,'Courier New',monospace\"><span style=\"color: #d4b702; text-decoration-color: #d4b702\">━━━━━━━━━━━━━━━━━━━━━━━━━━━━━━━━━━━━━━━━━━━━━━━━━━━━━ </span><span style=\"font-weight: bold\">Step </span><span style=\"color: #008080; text-decoration-color: #008080; font-weight: bold\">2</span><span style=\"color: #d4b702; text-decoration-color: #d4b702\"> ━━━━━━━━━━━━━━━━━━━━━━━━━━━━━━━━━━━━━━━━━━━━━━━━━━━━━━</span>\n",
              "</pre>\n"
            ]
          },
          "metadata": {}
        },
        {
          "output_type": "display_data",
          "data": {
            "text/plain": [
              " ─ \u001b[1mExecuting parsed code:\u001b[0m ──────────────────────────────────────────────────────────────────────────────────────── \n",
              "  \u001b[38;2;248;248;242;48;2;39;40;34mmost_downloaded_model\u001b[0m\u001b[38;2;248;248;242;48;2;39;40;34m \u001b[0m\u001b[38;2;255;70;137;48;2;39;40;34m=\u001b[0m\u001b[38;2;248;248;242;48;2;39;40;34m \u001b[0m\u001b[38;2;230;219;116;48;2;39;40;34m\"\u001b[0m\u001b[38;2;230;219;116;48;2;39;40;34mstabilityai/stable-diffusion-xl-refiner-1.0\u001b[0m\u001b[38;2;230;219;116;48;2;39;40;34m\"\u001b[0m\u001b[48;2;39;40;34m                                          \u001b[0m  \n",
              "  \u001b[38;2;248;248;242;48;2;39;40;34mfinal_answer\u001b[0m\u001b[38;2;248;248;242;48;2;39;40;34m(\u001b[0m\u001b[38;2;248;248;242;48;2;39;40;34mmost_downloaded_model\u001b[0m\u001b[38;2;248;248;242;48;2;39;40;34m)\u001b[0m\u001b[48;2;39;40;34m                                                                            \u001b[0m  \n",
              " ───────────────────────────────────────────────────────────────────────────────────────────────────────────────── \n"
            ],
            "text/html": [
              "<pre style=\"white-space:pre;overflow-x:auto;line-height:normal;font-family:Menlo,'DejaVu Sans Mono',consolas,'Courier New',monospace\"> ─ <span style=\"font-weight: bold\">Executing parsed code:</span> ──────────────────────────────────────────────────────────────────────────────────────── \n",
              "  <span style=\"color: #f8f8f2; text-decoration-color: #f8f8f2; background-color: #272822\">most_downloaded_model </span><span style=\"color: #ff4689; text-decoration-color: #ff4689; background-color: #272822\">=</span><span style=\"color: #f8f8f2; text-decoration-color: #f8f8f2; background-color: #272822\"> </span><span style=\"color: #e6db74; text-decoration-color: #e6db74; background-color: #272822\">\"stabilityai/stable-diffusion-xl-refiner-1.0\"</span><span style=\"background-color: #272822\">                                          </span>  \n",
              "  <span style=\"color: #f8f8f2; text-decoration-color: #f8f8f2; background-color: #272822\">final_answer(most_downloaded_model)</span><span style=\"background-color: #272822\">                                                                            </span>  \n",
              " ───────────────────────────────────────────────────────────────────────────────────────────────────────────────── \n",
              "</pre>\n"
            ]
          },
          "metadata": {}
        },
        {
          "output_type": "display_data",
          "data": {
            "text/plain": [
              "\u001b[1;38;2;212;183;2mOut - Final answer: stabilityai/stable-diffusion-xl-refiner-1.0\u001b[0m\n"
            ],
            "text/html": [
              "<pre style=\"white-space:pre;overflow-x:auto;line-height:normal;font-family:Menlo,'DejaVu Sans Mono',consolas,'Courier New',monospace\"><span style=\"color: #d4b702; text-decoration-color: #d4b702; font-weight: bold\">Out - Final answer: stabilityai/stable-diffusion-xl-refiner-1.0</span>\n",
              "</pre>\n"
            ]
          },
          "metadata": {}
        },
        {
          "output_type": "display_data",
          "data": {
            "text/plain": [
              "\u001b[2m[Step 1: Duration 3.17 seconds| Input tokens: 4,405 | Output tokens: 178]\u001b[0m\n"
            ],
            "text/html": [
              "<pre style=\"white-space:pre;overflow-x:auto;line-height:normal;font-family:Menlo,'DejaVu Sans Mono',consolas,'Courier New',monospace\"><span style=\"color: #7f7f7f; text-decoration-color: #7f7f7f\">[Step 1: Duration 3.17 seconds| Input tokens: 4,405 | Output tokens: 178]</span>\n",
              "</pre>\n"
            ]
          },
          "metadata": {}
        },
        {
          "output_type": "execute_result",
          "data": {
            "text/plain": [
              "'stabilityai/stable-diffusion-xl-refiner-1.0'"
            ],
            "application/vnd.google.colaboratory.intrinsic+json": {
              "type": "string"
            }
          },
          "metadata": {},
          "execution_count": 19
        }
      ]
    },
    {
      "cell_type": "markdown",
      "source": [
        "## ToolCallingAgent"
      ],
      "metadata": {
        "id": "KUrcHX8D0htc"
      }
    },
    {
      "cell_type": "code",
      "source": [
        "from smolagents import ToolCallingAgent"
      ],
      "metadata": {
        "id": "CcO5D4EI0jLW"
      },
      "execution_count": 20,
      "outputs": []
    },
    {
      "cell_type": "code",
      "source": [
        "agent = ToolCallingAgent(tools=[DuckDuckGoSearchTool()], model=HfApiModel())"
      ],
      "metadata": {
        "id": "DAzbYV930lW0"
      },
      "execution_count": 21,
      "outputs": []
    },
    {
      "cell_type": "code",
      "source": [
        "agent.run(\"Could you get me the few topic of the blog at url 'https://medium.com/'?\")"
      ],
      "metadata": {
        "colab": {
          "base_uri": "https://localhost:8080/",
          "height": 1000
        },
        "id": "o8ifVtqE0nBY",
        "outputId": "636445f8-a85d-4b48-f771-a9a6cfb7b07e"
      },
      "execution_count": 22,
      "outputs": [
        {
          "output_type": "display_data",
          "data": {
            "text/plain": [
              "\u001b[38;2;212;183;2m╭─\u001b[0m\u001b[38;2;212;183;2m───────────────────────────────────────────────────\u001b[0m\u001b[38;2;212;183;2m \u001b[0m\u001b[1;38;2;212;183;2mNew run\u001b[0m\u001b[38;2;212;183;2m \u001b[0m\u001b[38;2;212;183;2m───────────────────────────────────────────────────\u001b[0m\u001b[38;2;212;183;2m─╮\u001b[0m\n",
              "\u001b[38;2;212;183;2m│\u001b[0m                                                                                                                 \u001b[38;2;212;183;2m│\u001b[0m\n",
              "\u001b[38;2;212;183;2m│\u001b[0m \u001b[1mCould you get me the few topic of the blog at url 'https://medium.com/'?\u001b[0m                                        \u001b[38;2;212;183;2m│\u001b[0m\n",
              "\u001b[38;2;212;183;2m│\u001b[0m                                                                                                                 \u001b[38;2;212;183;2m│\u001b[0m\n",
              "\u001b[38;2;212;183;2m╰─\u001b[0m\u001b[38;2;212;183;2m HfApiModel - Qwen/Qwen2.5-Coder-32B-Instruct \u001b[0m\u001b[38;2;212;183;2m─────────────────────────────────────────────────────────────────\u001b[0m\u001b[38;2;212;183;2m─╯\u001b[0m\n"
            ],
            "text/html": [
              "<pre style=\"white-space:pre;overflow-x:auto;line-height:normal;font-family:Menlo,'DejaVu Sans Mono',consolas,'Courier New',monospace\"><span style=\"color: #d4b702; text-decoration-color: #d4b702\">╭──────────────────────────────────────────────────── </span><span style=\"color: #d4b702; text-decoration-color: #d4b702; font-weight: bold\">New run</span><span style=\"color: #d4b702; text-decoration-color: #d4b702\"> ────────────────────────────────────────────────────╮</span>\n",
              "<span style=\"color: #d4b702; text-decoration-color: #d4b702\">│</span>                                                                                                                 <span style=\"color: #d4b702; text-decoration-color: #d4b702\">│</span>\n",
              "<span style=\"color: #d4b702; text-decoration-color: #d4b702\">│</span> <span style=\"font-weight: bold\">Could you get me the few topic of the blog at url 'https://medium.com/'?</span>                                        <span style=\"color: #d4b702; text-decoration-color: #d4b702\">│</span>\n",
              "<span style=\"color: #d4b702; text-decoration-color: #d4b702\">│</span>                                                                                                                 <span style=\"color: #d4b702; text-decoration-color: #d4b702\">│</span>\n",
              "<span style=\"color: #d4b702; text-decoration-color: #d4b702\">╰─ HfApiModel - Qwen/Qwen2.5-Coder-32B-Instruct ──────────────────────────────────────────────────────────────────╯</span>\n",
              "</pre>\n"
            ]
          },
          "metadata": {}
        },
        {
          "output_type": "display_data",
          "data": {
            "text/plain": [
              "\u001b[38;2;212;183;2m━━━━━━━━━━━━━━━━━━━━━━━━━━━━━━━━━━━━━━━━━━━━━━━━━━━━━ \u001b[0m\u001b[1mStep \u001b[0m\u001b[1;36m1\u001b[0m\u001b[38;2;212;183;2m ━━━━━━━━━━━━━━━━━━━━━━━━━━━━━━━━━━━━━━━━━━━━━━━━━━━━━━\u001b[0m\n"
            ],
            "text/html": [
              "<pre style=\"white-space:pre;overflow-x:auto;line-height:normal;font-family:Menlo,'DejaVu Sans Mono',consolas,'Courier New',monospace\"><span style=\"color: #d4b702; text-decoration-color: #d4b702\">━━━━━━━━━━━━━━━━━━━━━━━━━━━━━━━━━━━━━━━━━━━━━━━━━━━━━ </span><span style=\"font-weight: bold\">Step </span><span style=\"color: #008080; text-decoration-color: #008080; font-weight: bold\">1</span><span style=\"color: #d4b702; text-decoration-color: #d4b702\"> ━━━━━━━━━━━━━━━━━━━━━━━━━━━━━━━━━━━━━━━━━━━━━━━━━━━━━━</span>\n",
              "</pre>\n"
            ]
          },
          "metadata": {}
        },
        {
          "output_type": "display_data",
          "data": {
            "text/plain": [
              "╭─────────────────────────────────────────────────────────────────────────────────────────────────────────────────╮\n",
              "│ Calling tool: 'web_search' with arguments: {'query': 'Popular topics on Medium blog homepage as of latest       │\n",
              "│ update'}                                                                                                        │\n",
              "╰─────────────────────────────────────────────────────────────────────────────────────────────────────────────────╯\n"
            ],
            "text/html": [
              "<pre style=\"white-space:pre;overflow-x:auto;line-height:normal;font-family:Menlo,'DejaVu Sans Mono',consolas,'Courier New',monospace\">╭─────────────────────────────────────────────────────────────────────────────────────────────────────────────────╮\n",
              "│ Calling tool: 'web_search' with arguments: {'query': 'Popular topics on Medium blog homepage as of latest       │\n",
              "│ update'}                                                                                                        │\n",
              "╰─────────────────────────────────────────────────────────────────────────────────────────────────────────────────╯\n",
              "</pre>\n"
            ]
          },
          "metadata": {}
        },
        {
          "output_type": "display_data",
          "data": {
            "text/plain": [
              "Observations: ## Search Results\n",
              "\n",
              "|\u001b[1;36m25\u001b[0m Most Popular Topics on Medium in \u001b[1;36m2024\u001b[0m You Need to \n",
              "Explore\u001b[1m]\u001b[0m\u001b[1m(\u001b[0m\u001b[4;94mhttps://devashreenaik.substack.com/p/25-most-popular-topics-on-medium\u001b[0m\u001b[4;94m)\u001b[0m\n",
              "Q1. What are some of the top trending topics on Medium in \u001b[1;36m2024\u001b[0m? Some of the most popular topics on Medium in \u001b[1;36m2024\u001b[0m \n",
              "include artificial intelligence, personal development, mental health and wellness, future of work, and blockchain \n",
              "technology. Other trending areas are content creation, business and startups, climate change, and data science. Q2.\n",
              "\n",
              "|A Ranked Table of The \u001b[1;36m72\u001b[0m Most Popular Medium \n",
              "Topics\u001b[1m]\u001b[0m\u001b[1m(\u001b[0m\u001b[4;94mhttps://medium.com/the-shortform/a-ranked-table-of-the-72-most-popular-medium-topics-bf0613ee8fb\u001b[0m\u001b[4;94m)\u001b[0m\n",
              "Luckily for you, I checked the \u001b[1;36m72\u001b[0m most popular tags/topics for the number of stories, writers and followers and put\n",
              "those numbers in a nice table for you: Check out the full story for in-depth \u001b[33m...\u001b[0m\n",
              "\n",
              "|Explore Popular Medium Topics | Popular Writing Categories and Trends \u001b[33m...\u001b[0m\u001b[1m]\u001b[0m\u001b[1m(\u001b[0m\u001b[4;94mhttps://hey.mediumstats.com/\u001b[0m\u001b[4;94m)\u001b[0m\n",
              "Discover the most popular topics on Medium based on the number of posts and followers. Use this tool to find and \n",
              "analyze trending topics across various categories, helping you gain insights and enhance your Medium strategy. \u001b[33m...\u001b[0m \n",
              "The data is updated regularly to ensure you get the most current insights into trending topics on Medium. For \n",
              "specific \u001b[33m...\u001b[0m\n",
              "\n",
              "|Medium's Most Read Topics: A Deep Dive on Trending \n",
              "Content\u001b[1m]\u001b[0m\u001b[1m(\u001b[0m\u001b[4;94mhttps://aqsamohsin.medium.com/mediums-most-read-topics-a-deep-dive-on-trending-content-37d64f0d5720\u001b[0m\u001b[4;94m)\u001b[0m\n",
              "Knowing what the trending topics are on Medium can keep the writers and the readers at the top of this fast-paced \n",
              "landscape of content. This article explores popular categories read on Medium, reflects on why they appeal to the \n",
              "audience, and how the writers can cash in on these trends. \u001b[1;36m1\u001b[0m. Personal Development and Self-Improvement\n",
              "\n",
              "|The \u001b[1;36m40\u001b[0m+ Most Popular Medium Tags in \u001b[1;36m2024\u001b[0m to Go \n",
              "Viral\u001b[1m]\u001b[0m\u001b[1m(\u001b[0m\u001b[4;94mhttps://surbhimithil.medium.com/the-40-most-popular-medium-tags-in-2024-to-go-viral-9eb1d04bcdc6\u001b[0m\u001b[4;94m)\u001b[0m\n",
              "\u001b[1;36m12\u001b[0m. Lifestyle Newspapers contain general topics, whereby lifestyle features columns look into trends, fashion, home\n",
              "decor, etc. are popular among different groups. \u001b[1;36m13\u001b[0m. Education Topics related to the current state of education, \n",
              "learning approaches, and teaching recommendations interest educators and learners. \u001b[1;36m14\u001b[0m.\n",
              "\n",
              "|Most Popular Topics on Medium in \u001b[1;36m2024\u001b[0m: Everything You Need to \n",
              "Know\u001b[1m]\u001b[0m\u001b[1m(\u001b[0m\u001b[4;94mhttps://aqsamohsin.medium.com/most-popular-topics-on-medium-in-2024-everything-you-need-to-know-5f073776d3ab\u001b[0m\u001b[4;94m)\u001b[0m\n",
              "Medium remains one of the best places in the world to discover knowledge and share ideas in \u001b[1;36m2024\u001b[0m. The writers find \n",
              "their way to the website for reaching a global audience, and sometimes even top… Open in app\n",
              "\n",
              "|The \u001b[1;36m15\u001b[0m Biggest Topics on Medium Right Now | by Charlie J ️ | Long \n",
              "\u001b[33m...\u001b[0m\u001b[1m]\u001b[0m\u001b[1m(\u001b[0m\u001b[4;94mhttps://long.sweet.pub/the-15-biggest-topics-on-medium-right-now-ac7aa7ab7028\u001b[0m\u001b[4;94m)\u001b[0m\n",
              "Apparently, Medium is full of a bunch of nerds. Our fifth biggest topic is Data Science, meaning four out of the \n",
              "five biggest topics on Medium are related to technology. Top Writers in Data Science. Fareed Khan — \u001b[1;36m18\u001b[0m,\u001b[1;36m000\u001b[0m \n",
              "followers; Netflix Technology Blog — \u001b[1;36m401\u001b[0m,\u001b[1;36m000\u001b[0m followers; Leonie Monigatti — \u001b[1;36m23\u001b[0m,\u001b[1;36m000\u001b[0m followers\n",
              "\n",
              "|What Are the Most Popular Topics on Medium?\u001b[1m]\u001b[0m\u001b[1m(\u001b[0m\u001b[4;94mhttps://www.madx.digital/learn/the-most-popular-topics-on-medium\u001b[0m\u001b[4;94m)\u001b[0m\n",
              "The top earners, like Shannon Ashley, Nicolas Cole, and Shaunta Grimes are all from the U.S. This group is also \n",
              "made of writers from the U.K., New Zealand, and Australia. Medium Story Tags. The list of most popular tags creates\n",
              "a deeper understanding of what people follow the most. There are a few lists out there. This is the one for March \n",
              "\u001b[1;36m2020\u001b[0m.\n",
              "\n",
              "|The Most Popular Stories on Medium This \n",
              "Week\u001b[1m]\u001b[0m\u001b[1m(\u001b[0m\u001b[4;94mhttps://medium.com/creators-hub/the-most-popular-stories-on-medium-this-week-13230b2f2308\u001b[0m\u001b[4;94m)\u001b[0m\n",
              "\u001b[1;36m1\u001b[0m. \u001b[32m\"The Rise and Fall of Crypto Culture\"\u001b[0m by Andre Cronje I have long been vocal on my disdain of crypto culture, \n",
              "and my love for crypto ethos. Reading that might sound weird, but crypto ethos \u001b[33m...\u001b[0m\n",
              "\n",
              "|Explore topics - Medium\u001b[1m]\u001b[0m\u001b[1m(\u001b[0m\u001b[4;94mhttps://medium.com/explore-topics\u001b[0m\u001b[4;94m)\u001b[0m\n",
              "Explore topics on Medium and discover stories, ideas, and perspectives from thousands of voices.\n"
            ],
            "text/html": [
              "<pre style=\"white-space:pre;overflow-x:auto;line-height:normal;font-family:Menlo,'DejaVu Sans Mono',consolas,'Courier New',monospace\">Observations: ## Search Results\n",
              "\n",
              "|<span style=\"color: #008080; text-decoration-color: #008080; font-weight: bold\">25</span> Most Popular Topics on Medium in <span style=\"color: #008080; text-decoration-color: #008080; font-weight: bold\">2024</span> You Need to \n",
              "Explore<span style=\"font-weight: bold\">](</span><span style=\"color: #0000ff; text-decoration-color: #0000ff; text-decoration: underline\">https://devashreenaik.substack.com/p/25-most-popular-topics-on-medium)</span>\n",
              "Q1. What are some of the top trending topics on Medium in <span style=\"color: #008080; text-decoration-color: #008080; font-weight: bold\">2024</span>? Some of the most popular topics on Medium in <span style=\"color: #008080; text-decoration-color: #008080; font-weight: bold\">2024</span> \n",
              "include artificial intelligence, personal development, mental health and wellness, future of work, and blockchain \n",
              "technology. Other trending areas are content creation, business and startups, climate change, and data science. Q2.\n",
              "\n",
              "|A Ranked Table of The <span style=\"color: #008080; text-decoration-color: #008080; font-weight: bold\">72</span> Most Popular Medium \n",
              "Topics<span style=\"font-weight: bold\">](</span><span style=\"color: #0000ff; text-decoration-color: #0000ff; text-decoration: underline\">https://medium.com/the-shortform/a-ranked-table-of-the-72-most-popular-medium-topics-bf0613ee8fb)</span>\n",
              "Luckily for you, I checked the <span style=\"color: #008080; text-decoration-color: #008080; font-weight: bold\">72</span> most popular tags/topics for the number of stories, writers and followers and put\n",
              "those numbers in a nice table for you: Check out the full story for in-depth <span style=\"color: #808000; text-decoration-color: #808000\">...</span>\n",
              "\n",
              "|Explore Popular Medium Topics | Popular Writing Categories and Trends <span style=\"color: #808000; text-decoration-color: #808000\">...</span><span style=\"font-weight: bold\">](</span><span style=\"color: #0000ff; text-decoration-color: #0000ff; text-decoration: underline\">https://hey.mediumstats.com/)</span>\n",
              "Discover the most popular topics on Medium based on the number of posts and followers. Use this tool to find and \n",
              "analyze trending topics across various categories, helping you gain insights and enhance your Medium strategy. <span style=\"color: #808000; text-decoration-color: #808000\">...</span> \n",
              "The data is updated regularly to ensure you get the most current insights into trending topics on Medium. For \n",
              "specific <span style=\"color: #808000; text-decoration-color: #808000\">...</span>\n",
              "\n",
              "|Medium's Most Read Topics: A Deep Dive on Trending \n",
              "Content<span style=\"font-weight: bold\">](</span><span style=\"color: #0000ff; text-decoration-color: #0000ff; text-decoration: underline\">https://aqsamohsin.medium.com/mediums-most-read-topics-a-deep-dive-on-trending-content-37d64f0d5720)</span>\n",
              "Knowing what the trending topics are on Medium can keep the writers and the readers at the top of this fast-paced \n",
              "landscape of content. This article explores popular categories read on Medium, reflects on why they appeal to the \n",
              "audience, and how the writers can cash in on these trends. <span style=\"color: #008080; text-decoration-color: #008080; font-weight: bold\">1</span>. Personal Development and Self-Improvement\n",
              "\n",
              "|The <span style=\"color: #008080; text-decoration-color: #008080; font-weight: bold\">40</span>+ Most Popular Medium Tags in <span style=\"color: #008080; text-decoration-color: #008080; font-weight: bold\">2024</span> to Go \n",
              "Viral<span style=\"font-weight: bold\">](</span><span style=\"color: #0000ff; text-decoration-color: #0000ff; text-decoration: underline\">https://surbhimithil.medium.com/the-40-most-popular-medium-tags-in-2024-to-go-viral-9eb1d04bcdc6)</span>\n",
              "<span style=\"color: #008080; text-decoration-color: #008080; font-weight: bold\">12</span>. Lifestyle Newspapers contain general topics, whereby lifestyle features columns look into trends, fashion, home\n",
              "decor, etc. are popular among different groups. <span style=\"color: #008080; text-decoration-color: #008080; font-weight: bold\">13</span>. Education Topics related to the current state of education, \n",
              "learning approaches, and teaching recommendations interest educators and learners. <span style=\"color: #008080; text-decoration-color: #008080; font-weight: bold\">14</span>.\n",
              "\n",
              "|Most Popular Topics on Medium in <span style=\"color: #008080; text-decoration-color: #008080; font-weight: bold\">2024</span>: Everything You Need to \n",
              "Know<span style=\"font-weight: bold\">](</span><span style=\"color: #0000ff; text-decoration-color: #0000ff; text-decoration: underline\">https://aqsamohsin.medium.com/most-popular-topics-on-medium-in-2024-everything-you-need-to-know-5f073776d3ab)</span>\n",
              "Medium remains one of the best places in the world to discover knowledge and share ideas in <span style=\"color: #008080; text-decoration-color: #008080; font-weight: bold\">2024</span>. The writers find \n",
              "their way to the website for reaching a global audience, and sometimes even top… Open in app\n",
              "\n",
              "|The <span style=\"color: #008080; text-decoration-color: #008080; font-weight: bold\">15</span> Biggest Topics on Medium Right Now | by Charlie J ️ | Long \n",
              "<span style=\"color: #808000; text-decoration-color: #808000\">...</span><span style=\"font-weight: bold\">](</span><span style=\"color: #0000ff; text-decoration-color: #0000ff; text-decoration: underline\">https://long.sweet.pub/the-15-biggest-topics-on-medium-right-now-ac7aa7ab7028)</span>\n",
              "Apparently, Medium is full of a bunch of nerds. Our fifth biggest topic is Data Science, meaning four out of the \n",
              "five biggest topics on Medium are related to technology. Top Writers in Data Science. Fareed Khan — <span style=\"color: #008080; text-decoration-color: #008080; font-weight: bold\">18</span>,<span style=\"color: #008080; text-decoration-color: #008080; font-weight: bold\">000</span> \n",
              "followers; Netflix Technology Blog — <span style=\"color: #008080; text-decoration-color: #008080; font-weight: bold\">401</span>,<span style=\"color: #008080; text-decoration-color: #008080; font-weight: bold\">000</span> followers; Leonie Monigatti — <span style=\"color: #008080; text-decoration-color: #008080; font-weight: bold\">23</span>,<span style=\"color: #008080; text-decoration-color: #008080; font-weight: bold\">000</span> followers\n",
              "\n",
              "|What Are the Most Popular Topics on Medium?<span style=\"font-weight: bold\">](</span><span style=\"color: #0000ff; text-decoration-color: #0000ff; text-decoration: underline\">https://www.madx.digital/learn/the-most-popular-topics-on-medium)</span>\n",
              "The top earners, like Shannon Ashley, Nicolas Cole, and Shaunta Grimes are all from the U.S. This group is also \n",
              "made of writers from the U.K., New Zealand, and Australia. Medium Story Tags. The list of most popular tags creates\n",
              "a deeper understanding of what people follow the most. There are a few lists out there. This is the one for March \n",
              "<span style=\"color: #008080; text-decoration-color: #008080; font-weight: bold\">2020</span>.\n",
              "\n",
              "|The Most Popular Stories on Medium This \n",
              "Week<span style=\"font-weight: bold\">](</span><span style=\"color: #0000ff; text-decoration-color: #0000ff; text-decoration: underline\">https://medium.com/creators-hub/the-most-popular-stories-on-medium-this-week-13230b2f2308)</span>\n",
              "<span style=\"color: #008080; text-decoration-color: #008080; font-weight: bold\">1</span>. <span style=\"color: #008000; text-decoration-color: #008000\">\"The Rise and Fall of Crypto Culture\"</span> by Andre Cronje I have long been vocal on my disdain of crypto culture, \n",
              "and my love for crypto ethos. Reading that might sound weird, but crypto ethos <span style=\"color: #808000; text-decoration-color: #808000\">...</span>\n",
              "\n",
              "|Explore topics - Medium<span style=\"font-weight: bold\">](</span><span style=\"color: #0000ff; text-decoration-color: #0000ff; text-decoration: underline\">https://medium.com/explore-topics)</span>\n",
              "Explore topics on Medium and discover stories, ideas, and perspectives from thousands of voices.\n",
              "</pre>\n"
            ]
          },
          "metadata": {}
        },
        {
          "output_type": "display_data",
          "data": {
            "text/plain": [
              "\u001b[2m[Step 0: Duration 2.83 seconds| Input tokens: 1,187 | Output tokens: 28]\u001b[0m\n"
            ],
            "text/html": [
              "<pre style=\"white-space:pre;overflow-x:auto;line-height:normal;font-family:Menlo,'DejaVu Sans Mono',consolas,'Courier New',monospace\"><span style=\"color: #7f7f7f; text-decoration-color: #7f7f7f\">[Step 0: Duration 2.83 seconds| Input tokens: 1,187 | Output tokens: 28]</span>\n",
              "</pre>\n"
            ]
          },
          "metadata": {}
        },
        {
          "output_type": "display_data",
          "data": {
            "text/plain": [
              "\u001b[38;2;212;183;2m━━━━━━━━━━━━━━━━━━━━━━━━━━━━━━━━━━━━━━━━━━━━━━━━━━━━━ \u001b[0m\u001b[1mStep \u001b[0m\u001b[1;36m2\u001b[0m\u001b[38;2;212;183;2m ━━━━━━━━━━━━━━━━━━━━━━━━━━━━━━━━━━━━━━━━━━━━━━━━━━━━━━\u001b[0m\n"
            ],
            "text/html": [
              "<pre style=\"white-space:pre;overflow-x:auto;line-height:normal;font-family:Menlo,'DejaVu Sans Mono',consolas,'Courier New',monospace\"><span style=\"color: #d4b702; text-decoration-color: #d4b702\">━━━━━━━━━━━━━━━━━━━━━━━━━━━━━━━━━━━━━━━━━━━━━━━━━━━━━ </span><span style=\"font-weight: bold\">Step </span><span style=\"color: #008080; text-decoration-color: #008080; font-weight: bold\">2</span><span style=\"color: #d4b702; text-decoration-color: #d4b702\"> ━━━━━━━━━━━━━━━━━━━━━━━━━━━━━━━━━━━━━━━━━━━━━━━━━━━━━━</span>\n",
              "</pre>\n"
            ]
          },
          "metadata": {}
        },
        {
          "output_type": "display_data",
          "data": {
            "text/plain": [
              "╭─────────────────────────────────────────────────────────────────────────────────────────────────────────────────╮\n",
              "│ Calling tool: 'final_answer' with arguments: {'answer': 'Based on the search results, some of the top trending  │\n",
              "│ topics on Medium in 2024 include:\\\\n1. Artificial Intelligence \\\\\\\\(AI)\\\\n2. Personal Development and           │\n",
              "│ Self-Improvement \\\\\\\\(PD)\\\\\\\\(SI)\\\\n3. Mental Health and Wellness \\\\\\\\(MHW)\\\\\\\\(W)\\\\n4. Future of Work          │\n",
              "│ \\\\\\\\(FoW)\\\\\\\\(WF)\\\\\\\\(JCC)\\\\n5. Blockchain Technology \\\\\\\\(BT)\\\\n6. Content Creation                            │\n",
              "│ \\\\\\\\(CC)\\\\\\\\(BC)\\\\\\\\(CT)\\\\\\\\(WT)\\\\\\\\(ET)\\\\\\\\(ETT)\\\\\\\\(BCS)\\\\\\\\(TT)\\\\\\\\(TJ)\\\\\\\\(TSP)\\\\\\\\(HSTT)\\\\\\\\(HSM)\\\\\\\\(HST) │\n",
              "│ \\\\\\\\(HSI)\\\\\\\\(HI)\\\\\\\\(TH)\\\\\\\\(JITT)\\\\\\\\(BIT)\\\\\\\\(COT)\\\\\\\\(CCT)\\\\\\\\(CIT)\\\\\\\\(CTT)\\\\\\\\(EWT)\\\\\\\\(SC)\\\\\\\\(CMD)\\\\\\\\( │\n",
              "│ TTT)\\\\\\\\(JTTT)\\\\\\\\(MVTT)\\\\\\\\(ETTT)\\\\\\\\(TUT)\\\\\\\\(TTD)\\\\\\\\(TTA)\\\\\\\\(JTTT) '}                                      │\n",
              "╰─────────────────────────────────────────────────────────────────────────────────────────────────────────────────╯\n"
            ],
            "text/html": [
              "<pre style=\"white-space:pre;overflow-x:auto;line-height:normal;font-family:Menlo,'DejaVu Sans Mono',consolas,'Courier New',monospace\">╭─────────────────────────────────────────────────────────────────────────────────────────────────────────────────╮\n",
              "│ Calling tool: 'final_answer' with arguments: {'answer': 'Based on the search results, some of the top trending  │\n",
              "│ topics on Medium in 2024 include:\\\\n1. Artificial Intelligence \\\\\\\\(AI)\\\\n2. Personal Development and           │\n",
              "│ Self-Improvement \\\\\\\\(PD)\\\\\\\\(SI)\\\\n3. Mental Health and Wellness \\\\\\\\(MHW)\\\\\\\\(W)\\\\n4. Future of Work          │\n",
              "│ \\\\\\\\(FoW)\\\\\\\\(WF)\\\\\\\\(JCC)\\\\n5. Blockchain Technology \\\\\\\\(BT)\\\\n6. Content Creation                            │\n",
              "│ \\\\\\\\(CC)\\\\\\\\(BC)\\\\\\\\(CT)\\\\\\\\(WT)\\\\\\\\(ET)\\\\\\\\(ETT)\\\\\\\\(BCS)\\\\\\\\(TT)\\\\\\\\(TJ)\\\\\\\\(TSP)\\\\\\\\(HSTT)\\\\\\\\(HSM)\\\\\\\\(HST) │\n",
              "│ \\\\\\\\(HSI)\\\\\\\\(HI)\\\\\\\\(TH)\\\\\\\\(JITT)\\\\\\\\(BIT)\\\\\\\\(COT)\\\\\\\\(CCT)\\\\\\\\(CIT)\\\\\\\\(CTT)\\\\\\\\(EWT)\\\\\\\\(SC)\\\\\\\\(CMD)\\\\\\\\( │\n",
              "│ TTT)\\\\\\\\(JTTT)\\\\\\\\(MVTT)\\\\\\\\(ETTT)\\\\\\\\(TUT)\\\\\\\\(TTD)\\\\\\\\(TTA)\\\\\\\\(JTTT) '}                                      │\n",
              "╰─────────────────────────────────────────────────────────────────────────────────────────────────────────────────╯\n",
              "</pre>\n"
            ]
          },
          "metadata": {}
        },
        {
          "output_type": "display_data",
          "data": {
            "text/plain": [
              "\u001b[1;38;2;212;183;2mFinal answer: Based on the search results, some of the top trending topics on Medium in 2024 include:\\n1. \u001b[0m\n",
              "\u001b[1;38;2;212;183;2mArtificial Intelligence \\\\(AI)\\n2. Personal Development and Self-Improvement \\\\(PD)\\\\(SI)\\n3. Mental Health and \u001b[0m\n",
              "\u001b[1;38;2;212;183;2mWellness \\\\(MHW)\\\\(W)\\n4. Future of Work \\\\(FoW)\\\\(WF)\\\\(JCC)\\n5. Blockchain Technology \\\\(BT)\\n6. Content Creation\u001b[0m\n",
              "\u001b[1;38;2;212;183;2m\\\\(CC)\\\\(BC)\\\\(CT)\\\\(WT)\\\\(ET)\\\\(ETT)\\\\(BCS)\\\\(TT)\\\\(TJ)\\\\(TSP)\\\\(HSTT)\\\\(HSM)\\\\(HST)\\\\(HSI)\\\\(HI)\\\\(TH)\\\\(JITT)\\\\(\u001b[0m\n",
              "\u001b[1;38;2;212;183;2mBIT)\\\\(COT)\\\\(CCT)\\\\(CIT)\\\\(CTT)\\\\(EWT)\\\\(SC)\\\\(CMD)\\\\(TTT)\\\\(JTTT)\\\\(MVTT)\\\\(ETTT)\\\\(TUT)\\\\(TTD)\\\\(TTA)\\\\(JTTT) \u001b[0m\n"
            ],
            "text/html": [
              "<pre style=\"white-space:pre;overflow-x:auto;line-height:normal;font-family:Menlo,'DejaVu Sans Mono',consolas,'Courier New',monospace\"><span style=\"color: #d4b702; text-decoration-color: #d4b702; font-weight: bold\">Final answer: Based on the search results, some of the top trending topics on Medium in 2024 include:\\n1. </span>\n",
              "<span style=\"color: #d4b702; text-decoration-color: #d4b702; font-weight: bold\">Artificial Intelligence \\\\(AI)\\n2. Personal Development and Self-Improvement \\\\(PD)\\\\(SI)\\n3. Mental Health and </span>\n",
              "<span style=\"color: #d4b702; text-decoration-color: #d4b702; font-weight: bold\">Wellness \\\\(MHW)\\\\(W)\\n4. Future of Work \\\\(FoW)\\\\(WF)\\\\(JCC)\\n5. Blockchain Technology \\\\(BT)\\n6. Content Creation</span>\n",
              "<span style=\"color: #d4b702; text-decoration-color: #d4b702; font-weight: bold\">\\\\(CC)\\\\(BC)\\\\(CT)\\\\(WT)\\\\(ET)\\\\(ETT)\\\\(BCS)\\\\(TT)\\\\(TJ)\\\\(TSP)\\\\(HSTT)\\\\(HSM)\\\\(HST)\\\\(HSI)\\\\(HI)\\\\(TH)\\\\(JITT)\\\\(</span>\n",
              "<span style=\"color: #d4b702; text-decoration-color: #d4b702; font-weight: bold\">BIT)\\\\(COT)\\\\(CCT)\\\\(CIT)\\\\(CTT)\\\\(EWT)\\\\(SC)\\\\(CMD)\\\\(TTT)\\\\(JTTT)\\\\(MVTT)\\\\(ETTT)\\\\(TUT)\\\\(TTD)\\\\(TTA)\\\\(JTTT) </span>\n",
              "</pre>\n"
            ]
          },
          "metadata": {}
        },
        {
          "output_type": "display_data",
          "data": {
            "text/plain": [
              "\u001b[2m[Step 1: Duration 11.23 seconds| Input tokens: 3,437 | Output tokens: 310]\u001b[0m\n"
            ],
            "text/html": [
              "<pre style=\"white-space:pre;overflow-x:auto;line-height:normal;font-family:Menlo,'DejaVu Sans Mono',consolas,'Courier New',monospace\"><span style=\"color: #7f7f7f; text-decoration-color: #7f7f7f\">[Step 1: Duration 11.23 seconds| Input tokens: 3,437 | Output tokens: 310]</span>\n",
              "</pre>\n"
            ]
          },
          "metadata": {}
        },
        {
          "output_type": "execute_result",
          "data": {
            "text/plain": [
              "'Based on the search results, some of the top trending topics on Medium in 2024 include:\\\\n1. Artificial Intelligence \\\\\\\\(AI)\\\\n2. Personal Development and Self-Improvement \\\\\\\\(PD)\\\\\\\\(SI)\\\\n3. Mental Health and Wellness \\\\\\\\(MHW)\\\\\\\\(W)\\\\n4. Future of Work \\\\\\\\(FoW)\\\\\\\\(WF)\\\\\\\\(JCC)\\\\n5. Blockchain Technology \\\\\\\\(BT)\\\\n6. Content Creation \\\\\\\\(CC)\\\\\\\\(BC)\\\\\\\\(CT)\\\\\\\\(WT)\\\\\\\\(ET)\\\\\\\\(ETT)\\\\\\\\(BCS)\\\\\\\\(TT)\\\\\\\\(TJ)\\\\\\\\(TSP)\\\\\\\\(HSTT)\\\\\\\\(HSM)\\\\\\\\(HST)\\\\\\\\(HSI)\\\\\\\\(HI)\\\\\\\\(TH)\\\\\\\\(JITT)\\\\\\\\(BIT)\\\\\\\\(COT)\\\\\\\\(CCT)\\\\\\\\(CIT)\\\\\\\\(CTT)\\\\\\\\(EWT)\\\\\\\\(SC)\\\\\\\\(CMD)\\\\\\\\(TTT)\\\\\\\\(JTTT)\\\\\\\\(MVTT)\\\\\\\\(ETTT)\\\\\\\\(TUT)\\\\\\\\(TTD)\\\\\\\\(TTA)\\\\\\\\(JTTT) '"
            ],
            "application/vnd.google.colaboratory.intrinsic+json": {
              "type": "string"
            }
          },
          "metadata": {},
          "execution_count": 22
        }
      ]
    },
    {
      "cell_type": "code",
      "source": [],
      "metadata": {
        "id": "PojxyJoY0pT_"
      },
      "execution_count": null,
      "outputs": []
    }
  ]
}